{
  "nbformat": 4,
  "nbformat_minor": 0,
  "metadata": {
    "colab": {
      "name": "HW04_PolynomialRegression",
      "provenance": [],
      "include_colab_link": true
    },
    "kernelspec": {
      "name": "python3",
      "display_name": "Python 3"
    },
    "language_info": {
      "name": "python"
    }
  },
  "cells": [
    {
      "cell_type": "markdown",
      "metadata": {
        "id": "view-in-github",
        "colab_type": "text"
      },
      "source": [
        "<a href=\"https://colab.research.google.com/github/WENKAITAN/CMP414765Spring2022/blob/main/HW04_PolynomialRegression.ipynb\" target=\"_parent\"><img src=\"https://colab.research.google.com/assets/colab-badge.svg\" alt=\"Open In Colab\"/></a>"
      ]
    },
    {
      "cell_type": "markdown",
      "source": [
        "# Homework 4\n",
        "This homework assignment will build three polynomial models on the same dataset and compare their performance. You can use tools from `sklearn` to complete this task."
      ],
      "metadata": {
        "id": "5HCnwhZ1OABm"
      }
    },
    {
      "cell_type": "code",
      "execution_count": 1,
      "metadata": {
        "id": "qq3fSlX2M11C"
      },
      "outputs": [],
      "source": [
        "import numpy as np\n",
        "import pandas as pd\n",
        "import matplotlib.pyplot as plt\n",
        "from sklearn.model_selection import train_test_split\n",
        "from sklearn.preprocessing import PolynomialFeatures\n",
        "from sklearn.linear_model import LinearRegression\n",
        "from sklearn.metrics import mean_squared_error\n",
        "%matplotlib inline"
      ]
    },
    {
      "cell_type": "code",
      "source": [
        "# Generate a data set X and Y\n",
        "m = 100\n",
        "X = 6 * np.random.rand(m, 1) - 3\n",
        "Y = 4 * X ** 3 + 5 * X ** 2 + X + 2 + np.random.randn(m, 1)\n",
        "plt.plot(X, Y, 'c.')"
      ],
      "metadata": {
        "colab": {
          "base_uri": "https://localhost:8080/",
          "height": 283
        },
        "id": "BuvOOrXpNMNS",
        "outputId": "bb9d3b53-1d9f-4142-ef4b-0c5bd955e0d3"
      },
      "execution_count": 2,
      "outputs": [
        {
          "output_type": "execute_result",
          "data": {
            "text/plain": [
              "[<matplotlib.lines.Line2D at 0x7fdf80e28510>]"
            ]
          },
          "metadata": {},
          "execution_count": 2
        },
        {
          "output_type": "display_data",
          "data": {
            "text/plain": [
              "<Figure size 432x288 with 1 Axes>"
            ],
            "image/png": "[encoded data removed]"
          },
          "metadata": {
            "needs_background": "light"
          }
        }
      ]
    },
    {
      "cell_type": "markdown",
      "source": [
        "1. Use train_test_split to split the data into training set (80%) and test set (20%)."
      ],
      "metadata": {
        "id": "sExzZNA2NOOt"
      }
    },
    {
      "cell_type": "code",
      "source": [
        "X_train, X_test, y_train, y_test = train_test_split(X,Y, random_state=42, test_size=0.2)\n",
        "\n",
        "print(X_train.shape, X_test.shape)"
      ],
      "metadata": {
        "id": "utPAJCUjNaId",
        "outputId": "d5decdea-c3d5-4cc5-da92-9cbe51ffd498",
        "colab": {
          "base_uri": "https://localhost:8080/"
        }
      },
      "execution_count": 3,
      "outputs": [
        {
          "output_type": "stream",
          "name": "stdout",
          "text": [
            "(80, 1) (20, 1)\n"
          ]
        }
      ]
    },
    {
      "cell_type": "markdown",
      "source": [
        "2. Build a degree 2 polynomial regression model with `X` as input variables and `Y` as output variable. Name the model model_pr2. Train the model on the training set and obtain the MSE on the test set."
      ],
      "metadata": {
        "id": "KTj0wOzmNc9W"
      }
    },
    {
      "cell_type": "code",
      "source": [
        "poly_features = PolynomialFeatures(degree=2)\n",
        "\n",
        "X_multi_trans = poly_features.fit_transform(X_train)\n",
        "X_multi_trans "
      ],
      "metadata": {
        "id": "n3ms9vZ7Ndk1",
        "outputId": "e14212ac-187a-4164-db99-f3189408415c",
        "colab": {
          "base_uri": "https://localhost:8080/"
        }
      },
      "execution_count": 10,
      "outputs": [
        {
          "output_type": "execute_result",
          "data": {
            "text/plain": [
              "array([[ 1.00000000e+00,  2.97261151e+00,  8.83641920e+00],\n",
              "       [ 1.00000000e+00,  1.66650180e+00,  2.77722824e+00],\n",
              "       [ 1.00000000e+00,  1.79630884e+00,  3.22672546e+00],\n",
              "       [ 1.00000000e+00, -2.91425506e+00,  8.49288255e+00],\n",
              "       [ 1.00000000e+00, -2.62380031e-02,  6.88432809e-04],\n",
              "       [ 1.00000000e+00,  1.21253227e+00,  1.47023449e+00],\n",
              "       [ 1.00000000e+00,  1.39422785e+00,  1.94387129e+00],\n",
              "       [ 1.00000000e+00,  1.52860842e+00,  2.33664370e+00],\n",
              "       [ 1.00000000e+00,  1.04307428e+00,  1.08800396e+00],\n",
              "       [ 1.00000000e+00,  2.95956441e+00,  8.75902147e+00],\n",
              "       [ 1.00000000e+00,  2.35068290e+00,  5.52571009e+00],\n",
              "       [ 1.00000000e+00, -2.34770318e+00,  5.51171021e+00],\n",
              "       [ 1.00000000e+00, -1.25582031e+00,  1.57708464e+00],\n",
              "       [ 1.00000000e+00,  2.93692807e+00,  8.62554647e+00],\n",
              "       [ 1.00000000e+00,  4.16520089e-01,  1.73488985e-01],\n",
              "       [ 1.00000000e+00,  2.99634422e+00,  8.97807871e+00],\n",
              "       [ 1.00000000e+00, -1.62196440e-02,  2.63076850e-04],\n",
              "       [ 1.00000000e+00,  1.58858085e+00,  2.52358913e+00],\n",
              "       [ 1.00000000e+00,  2.07552155e-01,  4.30778971e-02],\n",
              "       [ 1.00000000e+00, -1.81520542e+00,  3.29497070e+00],\n",
              "       [ 1.00000000e+00,  1.03868754e+00,  1.07887180e+00],\n",
              "       [ 1.00000000e+00,  1.83904417e+00,  3.38208345e+00],\n",
              "       [ 1.00000000e+00, -1.40720106e+00,  1.98021481e+00],\n",
              "       [ 1.00000000e+00, -2.43359207e+00,  5.92237036e+00],\n",
              "       [ 1.00000000e+00, -2.10657751e+00,  4.43766880e+00],\n",
              "       [ 1.00000000e+00, -1.17940716e+00,  1.39100124e+00],\n",
              "       [ 1.00000000e+00, -1.32527637e+00,  1.75635747e+00],\n",
              "       [ 1.00000000e+00, -2.17235293e+00,  4.71911723e+00],\n",
              "       [ 1.00000000e+00, -4.09162131e-02,  1.67413650e-03],\n",
              "       [ 1.00000000e+00, -2.78049345e+00,  7.73114383e+00],\n",
              "       [ 1.00000000e+00, -1.29084201e+00,  1.66627310e+00],\n",
              "       [ 1.00000000e+00,  8.98666725e-01,  8.07601882e-01],\n",
              "       [ 1.00000000e+00,  1.03443940e+00,  1.07006487e+00],\n",
              "       [ 1.00000000e+00,  1.25296647e+00,  1.56992497e+00],\n",
              "       [ 1.00000000e+00, -9.37213218e-01,  8.78368615e-01],\n",
              "       [ 1.00000000e+00, -9.77583980e-01,  9.55670439e-01],\n",
              "       [ 1.00000000e+00, -2.14050795e+00,  4.58177430e+00],\n",
              "       [ 1.00000000e+00, -9.19854858e-01,  8.46132960e-01],\n",
              "       [ 1.00000000e+00, -2.42321530e+00,  5.87197238e+00],\n",
              "       [ 1.00000000e+00, -2.48690123e+00,  6.18467774e+00],\n",
              "       [ 1.00000000e+00,  1.66359050e+00,  2.76753334e+00],\n",
              "       [ 1.00000000e+00,  1.96922611e+00,  3.87785149e+00],\n",
              "       [ 1.00000000e+00,  5.10223229e-01,  2.60327744e-01],\n",
              "       [ 1.00000000e+00,  2.87732082e-01,  8.27897510e-02],\n",
              "       [ 1.00000000e+00, -2.86608623e+00,  8.21445027e+00],\n",
              "       [ 1.00000000e+00,  1.02368389e+00,  1.04792870e+00],\n",
              "       [ 1.00000000e+00, -6.44159307e-01,  4.14941212e-01],\n",
              "       [ 1.00000000e+00,  2.81781421e+00,  7.94007690e+00],\n",
              "       [ 1.00000000e+00, -2.63579126e+00,  6.94739558e+00],\n",
              "       [ 1.00000000e+00,  1.85429756e+00,  3.43841945e+00],\n",
              "       [ 1.00000000e+00, -2.62140965e+00,  6.87178857e+00],\n",
              "       [ 1.00000000e+00, -2.52030158e+00,  6.35192007e+00],\n",
              "       [ 1.00000000e+00,  2.51619886e+00,  6.33125669e+00],\n",
              "       [ 1.00000000e+00,  2.33647528e+00,  5.45911675e+00],\n",
              "       [ 1.00000000e+00,  1.80794736e+00,  3.26867366e+00],\n",
              "       [ 1.00000000e+00, -2.36174003e+00,  5.57781599e+00],\n",
              "       [ 1.00000000e+00, -2.69716455e+00,  7.27469658e+00],\n",
              "       [ 1.00000000e+00,  1.69695976e+00,  2.87967244e+00],\n",
              "       [ 1.00000000e+00, -7.32691274e-01,  5.36836503e-01],\n",
              "       [ 1.00000000e+00,  3.51302164e-01,  1.23413211e-01],\n",
              "       [ 1.00000000e+00, -1.17421901e+00,  1.37879027e+00],\n",
              "       [ 1.00000000e+00, -1.34671358e-01,  1.81363747e-02],\n",
              "       [ 1.00000000e+00, -8.14009799e-01,  6.62611952e-01],\n",
              "       [ 1.00000000e+00, -1.19769015e+00,  1.43446170e+00],\n",
              "       [ 1.00000000e+00,  2.11046509e+00,  4.45406291e+00],\n",
              "       [ 1.00000000e+00, -2.53073321e+00,  6.40461056e+00],\n",
              "       [ 1.00000000e+00,  2.96734765e+00,  8.80515205e+00],\n",
              "       [ 1.00000000e+00, -8.81686449e-01,  7.77370994e-01],\n",
              "       [ 1.00000000e+00, -8.18342070e-01,  6.69683744e-01],\n",
              "       [ 1.00000000e+00, -6.54427322e-01,  4.28275120e-01],\n",
              "       [ 1.00000000e+00, -1.07287744e+00,  1.15106600e+00],\n",
              "       [ 1.00000000e+00, -2.55238826e+00,  6.51468582e+00],\n",
              "       [ 1.00000000e+00,  4.52781164e-01,  2.05010783e-01],\n",
              "       [ 1.00000000e+00,  7.02661367e-01,  4.93732997e-01],\n",
              "       [ 1.00000000e+00, -9.38240445e-01,  8.80295133e-01],\n",
              "       [ 1.00000000e+00,  1.74319597e-01,  3.03873218e-02],\n",
              "       [ 1.00000000e+00, -2.65844419e+00,  7.06732551e+00],\n",
              "       [ 1.00000000e+00,  2.37688856e+00,  5.64959923e+00],\n",
              "       [ 1.00000000e+00, -8.78987784e-01,  7.72619524e-01],\n",
              "       [ 1.00000000e+00,  4.16246671e-01,  1.73261291e-01]])"
            ]
          },
          "metadata": {},
          "execution_count": 10
        }
      ]
    },
    {
      "cell_type": "code",
      "source": [
        " model_pr2 = LinearRegression()\n",
        " model_pr2.fit(X_multi_trans, y_train)"
      ],
      "metadata": {
        "id": "1h-k9ccIIB5C",
        "outputId": "b6be2dfb-3af7-4c62-9674-cf89a23f0ccc",
        "colab": {
          "base_uri": "https://localhost:8080/"
        }
      },
      "execution_count": 5,
      "outputs": [
        {
          "output_type": "execute_result",
          "data": {
            "text/plain": [
              "LinearRegression()"
            ]
          },
          "metadata": {},
          "execution_count": 5
        }
      ]
    },
    {
      "cell_type": "code",
      "source": [
        "x_test_multi_trans = poly_features.fit_transform(X_test)\n",
        "\n",
        "y_pred = model_pr2.predict(x_test_multi_trans)\n",
        "\n",
        "mean_squared_error(y_test, y_pred)"
      ],
      "metadata": {
        "id": "gD8kgG-sIjs2",
        "outputId": "32a2287e-387c-4175-83d8-8b23fbdef532",
        "colab": {
          "base_uri": "https://localhost:8080/"
        }
      },
      "execution_count": 6,
      "outputs": [
        {
          "output_type": "execute_result",
          "data": {
            "text/plain": [
              "292.9847314815841"
            ]
          },
          "metadata": {},
          "execution_count": 6
        }
      ]
    },
    {
      "cell_type": "markdown",
      "source": [
        "3. Build a degree 3 polynomial regression model with `X` as input variables and `Y` as output variable. Name the model model_pr3. Train the model on the training set and  obtain the MSE on the test set."
      ],
      "metadata": {
        "id": "pkG-uXoENd1T"
      }
    },
    {
      "cell_type": "code",
      "source": [
        "poly_features = PolynomialFeatures(degree=3)\n",
        "\n",
        "X_multi_trans = poly_features.fit_transform(X_train)\n",
        "X_multi_trans \n",
        "\n",
        "model_pr3 = LinearRegression()\n",
        "\n",
        "model_pr3.fit(X_multi_trans, y_train)\n",
        "\n",
        "model_pr3 = LinearRegression()\n",
        "model_pr3.fit(X_multi_trans, y_train)\n",
        "x_test_multi_trans = poly_features.fit_transform(X_test)\n",
        "\n",
        "y_pred = model_pr3.predict(x_test_multi_trans)\n",
        "\n",
        "mean_squared_error(y_test, y_pred)"
      ],
      "metadata": {
        "id": "OuxT6hlgN2eE",
        "outputId": "df00a921-27eb-4ebb-cf2b-c62591f116df",
        "colab": {
          "base_uri": "https://localhost:8080/"
        }
      },
      "execution_count": 13,
      "outputs": [
        {
          "output_type": "execute_result",
          "data": {
            "text/plain": [
              "1.0757236377234622"
            ]
          },
          "metadata": {},
          "execution_count": 13
        }
      ]
    },
    {
      "cell_type": "markdown",
      "source": [
        "4. Build a degree 10 polynomial regression model with `X` as input variables and `Y` as output variable. Name the model model_pr10. Train the model on the training set and  obtain the MSE on the test set."
      ],
      "metadata": {
        "id": "7TubsDvaN2uW"
      }
    },
    {
      "cell_type": "code",
      "source": [
        "poly_features = PolynomialFeatures(degree=10)\n",
        "\n",
        "X_multi_trans = poly_features.fit_transform(X_train)\n",
        "X_multi_trans \n",
        "\n",
        "model_pr10 = LinearRegression()\n",
        "\n",
        "model_pr10.fit(X_multi_trans, y_train)\n",
        "\n",
        "model_pr10 = LinearRegression()\n",
        "model_pr10.fit(X_multi_trans, y_train)\n",
        "x_test_multi_trans = poly_features.fit_transform(X_test)\n",
        "\n",
        "y_pred = model_pr10.predict(x_test_multi_trans)\n",
        "\n",
        "mean_squared_error(y_test, y_pred)"
      ],
      "metadata": {
        "id": "YOfkQGlWN8nG",
        "outputId": "e792b1d4-0994-4dc5-e713-3f786f057af1",
        "colab": {
          "base_uri": "https://localhost:8080/"
        }
      },
      "execution_count": 14,
      "outputs": [
        {
          "output_type": "execute_result",
          "data": {
            "text/plain": [
              "1.2114885842535588"
            ]
          },
          "metadata": {},
          "execution_count": 14
        }
      ]
    }
  ]
}