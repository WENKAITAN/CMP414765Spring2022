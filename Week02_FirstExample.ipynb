{
  "nbformat": 4,
  "nbformat_minor": 0,
  "metadata": {
    "colab": {
      "name": "Week02_FirstExample",
      "provenance": [],
      "collapsed_sections": [],
      "include_colab_link": true
    },
    "kernelspec": {
      "name": "python3",
      "display_name": "Python 3"
    }
  },
  "cells": [
    {
      "cell_type": "markdown",
      "metadata": {
        "id": "view-in-github",
        "colab_type": "text"
      },
      "source": [
        "<a href=\"https://colab.research.google.com/github/WENKAITAN/CMP414765Spring2022/blob/main/Week02_FirstExample.ipynb\" target=\"_parent\"><img src=\"https://colab.research.google.com/assets/colab-badge.svg\" alt=\"Open In Colab\"/></a>"
      ]
    },
    {
      "cell_type": "markdown",
      "metadata": {
        "id": "ux7HKE_1cu88"
      },
      "source": [
        "# Week 2: First Machine Learning Example\n",
        "\n",
        "**Reading**: Chapter 1. The Machine Learning Landscape\n",
        "\n"
      ]
    },
    {
      "cell_type": "markdown",
      "metadata": {
        "id": "rddAEq-gefWH"
      },
      "source": [
        "## What is Machine Learning?\n",
        "\n",
        "Machine Learning is the science of programming computers so they can perform certain task with knowledge learned from data.\n",
        "\n",
        "**Example: spam filter**\n",
        "- Task: to flag spam for new emails\n",
        "- Data: existing emails with labels (either spam or non-spam)\n",
        "- Performance measure:\n",
        "    - percentage of correctly labeled emails\n",
        "    - percentage of a spam email being labeled correctly.\n",
        "    - percentage of a non-spam email being labeled correctly.\n",
        "    - Classification efficiency\n",
        "    - ..."
      ]
    },
    {
      "cell_type": "markdown",
      "metadata": {
        "id": "De99ptbCdN2Z"
      },
      "source": [
        "## Why Use Machine Learning?\n",
        "\n",
        "Traditional approach for spam filter:\n",
        "1. Choose features of spam emails manually: \"4U\", \"credit card\", \"free\", \"amazing\"\n",
        "2. Write an program to detect exactly the features you chose\n",
        "3. Test the program and modify the features until satisfactory\n",
        "\n",
        "Drawbacks of traditional approach: \n",
        "1. A large amount of features are needed - hard to maintain\n",
        "2. Spammers may change their writing to avoid explicit rules: change \"4U\" to \"For U\".\n",
        "3. For some complex problems, manually-engineered features are not good enough: hand-written digits\n",
        "\n",
        "Machine Learning models:\n",
        "1. Automatically learns which words and phrases are good predictors of spam. \n",
        "2. Since the program is not a stack of explicit rules, it is much shorter, easier to maintain, and most likely more accurate.\n",
        "3. With new training data, the Machine Learning model can update automatically to capture new indicators of spam emails.\n",
        "\n",
        "What Machine Learning is great for:\n",
        "1. Problems for which existing solutions require a lot of hand-tuning or long lists of rules: one Machine Learning algorithm can often simplify code and perform better.\n",
        "2. Complex problems for which there is no good solution at all using a traditional approach: the best Machine Learning techniques can find a solution.\n",
        "3. Fluctuating environments: a Machine Learning system can adapt to new data.\n",
        "4. Large amount of data: With Machine Learning, computers process big data faster than human.\n"
      ]
    },
    {
      "cell_type": "markdown",
      "metadata": {
        "id": "7vSCfx-OeLUQ"
      },
      "source": [
        "## First Example: Men's Height in the United States\n",
        "\n",
        "As an illustration of machine learning practice, let's consider the task of understanding the trend of American men's height in the 20th century. This project requires the following stages:\n",
        "- Data preparation\n",
        "- Data exploration\n",
        "- Model training\n",
        "- Model evaluation\n",
        "- Model application"
      ]
    },
    {
      "cell_type": "markdown",
      "metadata": {
        "id": "VMHJkGUFeySH"
      },
      "source": [
        "### 1. Download Data\n",
        "- Go to website:  https://ourworldindata.org/human-height\n",
        "- Find the interactive chart \"Increase of human height over two centuries\"\n",
        "- Click the \"Download\" tab, and download the CSV (comma-separated-values) file containing height data.\n",
        "\n",
        "After downloading, you can open it a text editor to view its content."
      ]
    },
    {
      "cell_type": "markdown",
      "metadata": {
        "id": "6zZpoKm1e3oC"
      },
      "source": [
        "### 2. Upload the CSV file to Google Colab\n",
        "- Click \"Files\" icon on the left column.\n",
        "- Click \"Upload to session storage\"\n",
        "- Upload the CSV file.\n",
        "\n",
        "Afterwards, you should see the file listed in the files tab.\n"
      ]
    },
    {
      "cell_type": "markdown",
      "metadata": {
        "id": "JqD2woXgfrPM"
      },
      "source": [
        "### 3. Load Data into Python\n",
        "- Import numpy, pandas, and matplotlib.\n",
        "- Load the data as a DataFrame using the following statement:\n",
        "`raw_data = pd.read_csv(filename, sep=',')`\n",
        "\n",
        "Now the data in the .csv file are loaded to the DataFrame `raw_data`. You can display its first 5 rows using `raw_data.head()`."
      ]
    },
    {
      "cell_type": "code",
      "metadata": {
        "id": "7ExZnG8QgAAG"
      },
      "source": [
        "import numpy as np  # scientific computation\n",
        "import pandas as pd  # data handling\n",
        "import matplotlib.pyplot as plt  # plotting\n",
        "# The following \"magic command\" allows figures to be displayed automatically in notebook\n",
        "%matplotlib inline  "
      ],
      "execution_count": 1,
      "outputs": []
    },
    {
      "cell_type": "code",
      "metadata": {
        "id": "cW4X7CP1gH35"
      },
      "source": [
        "raw_data = pd.read_csv(\"./average-height-of-men-for-selected-countries (1).csv\", sep=',')"
      ],
      "execution_count": 2,
      "outputs": []
    },
    {
      "cell_type": "code",
      "metadata": {
        "id": "HKBx-e1dgdbd",
        "outputId": "468b1bfc-8cf4-48ce-c687-79c297716a1c",
        "colab": {
          "base_uri": "https://localhost:8080/",
          "height": 206
        }
      },
      "source": [
        "raw_data.head()"
      ],
      "execution_count": 3,
      "outputs": [
        {
          "output_type": "execute_result",
          "data": {
            "text/html": [
              "\n",
              "  <div id=\"df-bc0cbfe0-22e6-43d5-b2cb-72b9f96f1c64\">\n",
              "    <div class=\"colab-df-container\">\n",
              "      <div>\n",
              "<style scoped>\n",
              "    .dataframe tbody tr th:only-of-type {\n",
              "        vertical-align: middle;\n",
              "    }\n",
              "\n",
              "    .dataframe tbody tr th {\n",
              "        vertical-align: top;\n",
              "    }\n",
              "\n",
              "    .dataframe thead th {\n",
              "        text-align: right;\n",
              "    }\n",
              "</style>\n",
              "<table border=\"1\" class=\"dataframe\">\n",
              "  <thead>\n",
              "    <tr style=\"text-align: right;\">\n",
              "      <th></th>\n",
              "      <th>Entity</th>\n",
              "      <th>Code</th>\n",
              "      <th>Year</th>\n",
              "      <th>Human Height (University of Tuebingen (2015))</th>\n",
              "    </tr>\n",
              "  </thead>\n",
              "  <tbody>\n",
              "    <tr>\n",
              "      <th>0</th>\n",
              "      <td>Afghanistan</td>\n",
              "      <td>AFG</td>\n",
              "      <td>1870</td>\n",
              "      <td>168.4</td>\n",
              "    </tr>\n",
              "    <tr>\n",
              "      <th>1</th>\n",
              "      <td>Afghanistan</td>\n",
              "      <td>AFG</td>\n",
              "      <td>1880</td>\n",
              "      <td>165.7</td>\n",
              "    </tr>\n",
              "    <tr>\n",
              "      <th>2</th>\n",
              "      <td>Afghanistan</td>\n",
              "      <td>AFG</td>\n",
              "      <td>1930</td>\n",
              "      <td>166.8</td>\n",
              "    </tr>\n",
              "    <tr>\n",
              "      <th>3</th>\n",
              "      <td>Albania</td>\n",
              "      <td>ALB</td>\n",
              "      <td>1880</td>\n",
              "      <td>170.1</td>\n",
              "    </tr>\n",
              "    <tr>\n",
              "      <th>4</th>\n",
              "      <td>Albania</td>\n",
              "      <td>ALB</td>\n",
              "      <td>1890</td>\n",
              "      <td>169.8</td>\n",
              "    </tr>\n",
              "  </tbody>\n",
              "</table>\n",
              "</div>\n",
              "      <button class=\"colab-df-convert\" onclick=\"convertToInteractive('df-bc0cbfe0-22e6-43d5-b2cb-72b9f96f1c64')\"\n",
              "              title=\"Convert this dataframe to an interactive table.\"\n",
              "              style=\"display:none;\">\n",
              "        \n",
              "  <svg xmlns=\"http://www.w3.org/2000/svg\" height=\"24px\"viewBox=\"0 0 24 24\"\n",
              "       width=\"24px\">\n",
              "    <path d=\"M0 0h24v24H0V0z\" fill=\"none\"/>\n",
              "    <path d=\"M18.56 5.44l.94 2.06.94-2.06 2.06-.94-2.06-.94-.94-2.06-.94 2.06-2.06.94zm-11 1L8.5 8.5l.94-2.06 2.06-.94-2.06-.94L8.5 2.5l-.94 2.06-2.06.94zm10 10l.94 2.06.94-2.06 2.06-.94-2.06-.94-.94-2.06-.94 2.06-2.06.94z\"/><path d=\"M17.41 7.96l-1.37-1.37c-.4-.4-.92-.59-1.43-.59-.52 0-1.04.2-1.43.59L10.3 9.45l-7.72 7.72c-.78.78-.78 2.05 0 2.83L4 21.41c.39.39.9.59 1.41.59.51 0 1.02-.2 1.41-.59l7.78-7.78 2.81-2.81c.8-.78.8-2.07 0-2.86zM5.41 20L4 18.59l7.72-7.72 1.47 1.35L5.41 20z\"/>\n",
              "  </svg>\n",
              "      </button>\n",
              "      \n",
              "  <style>\n",
              "    .colab-df-container {\n",
              "      display:flex;\n",
              "      flex-wrap:wrap;\n",
              "      gap: 12px;\n",
              "    }\n",
              "\n",
              "    .colab-df-convert {\n",
              "      background-color: #E8F0FE;\n",
              "      border: none;\n",
              "      border-radius: 50%;\n",
              "      cursor: pointer;\n",
              "      display: none;\n",
              "      fill: #1967D2;\n",
              "      height: 32px;\n",
              "      padding: 0 0 0 0;\n",
              "      width: 32px;\n",
              "    }\n",
              "\n",
              "    .colab-df-convert:hover {\n",
              "      background-color: #E2EBFA;\n",
              "      box-shadow: 0px 1px 2px rgba(60, 64, 67, 0.3), 0px 1px 3px 1px rgba(60, 64, 67, 0.15);\n",
              "      fill: #174EA6;\n",
              "    }\n",
              "\n",
              "    [theme=dark] .colab-df-convert {\n",
              "      background-color: #3B4455;\n",
              "      fill: #D2E3FC;\n",
              "    }\n",
              "\n",
              "    [theme=dark] .colab-df-convert:hover {\n",
              "      background-color: #434B5C;\n",
              "      box-shadow: 0px 1px 3px 1px rgba(0, 0, 0, 0.15);\n",
              "      filter: drop-shadow(0px 1px 2px rgba(0, 0, 0, 0.3));\n",
              "      fill: #FFFFFF;\n",
              "    }\n",
              "  </style>\n",
              "\n",
              "      <script>\n",
              "        const buttonEl =\n",
              "          document.querySelector('#df-bc0cbfe0-22e6-43d5-b2cb-72b9f96f1c64 button.colab-df-convert');\n",
              "        buttonEl.style.display =\n",
              "          google.colab.kernel.accessAllowed ? 'block' : 'none';\n",
              "\n",
              "        async function convertToInteractive(key) {\n",
              "          const element = document.querySelector('#df-bc0cbfe0-22e6-43d5-b2cb-72b9f96f1c64');\n",
              "          const dataTable =\n",
              "            await google.colab.kernel.invokeFunction('convertToInteractive',\n",
              "                                                     [key], {});\n",
              "          if (!dataTable) return;\n",
              "\n",
              "          const docLinkHtml = 'Like what you see? Visit the ' +\n",
              "            '<a target=\"_blank\" href=https://colab.research.google.com/notebooks/data_table.ipynb>data table notebook</a>'\n",
              "            + ' to learn more about interactive tables.';\n",
              "          element.innerHTML = '';\n",
              "          dataTable['output_type'] = 'display_data';\n",
              "          await google.colab.output.renderOutput(dataTable, element);\n",
              "          const docLink = document.createElement('div');\n",
              "          docLink.innerHTML = docLinkHtml;\n",
              "          element.appendChild(docLink);\n",
              "        }\n",
              "      </script>\n",
              "    </div>\n",
              "  </div>\n",
              "  "
            ],
            "text/plain": [
              "        Entity Code  Year  Human Height (University of Tuebingen (2015))\n",
              "0  Afghanistan  AFG  1870                                          168.4\n",
              "1  Afghanistan  AFG  1880                                          165.7\n",
              "2  Afghanistan  AFG  1930                                          166.8\n",
              "3      Albania  ALB  1880                                          170.1\n",
              "4      Albania  ALB  1890                                          169.8"
            ]
          },
          "metadata": {},
          "execution_count": 3
        }
      ]
    },
    {
      "cell_type": "markdown",
      "metadata": {
        "id": "ZZzKoSzrgeIO"
      },
      "source": [
        "### DataFrame\n",
        "Data frame is a way to store data in rectangular grids that can easily be overviewed. Each row of these grids corresponds to measurements or values of an instance, while each column is a vector containing data for a specific variable. A data frame's row may contain different types of values: numeric, character, logical, etc.\n",
        "\n",
        "Data frames in Python come with the Pandas libarary, and they are defined as a two-dimensional labeled data structures with columns of potentially different types."
      ]
    },
    {
      "cell_type": "markdown",
      "metadata": {
        "id": "XNm4XTV7gmB6"
      },
      "source": [
        "### 4. Extract US Data\n",
        "- Create a filter on the rows with condition \"Entity = United States\"\n",
        "- Use the filter to select rows related to US.\n",
        "- Create another filter with condition \"Year >= 1900\", and use it to filter the data.\n",
        "- Display the resulting data frame."
      ]
    },
    {
      "cell_type": "code",
      "metadata": {
        "id": "OLgzJpv4g3Vs",
        "outputId": "8baf4159-dcf5-4826-fd92-8504e5ed835f",
        "colab": {
          "base_uri": "https://localhost:8080/"
        }
      },
      "source": [
        "filter1 = (raw_data['Entity'] == \"United States\")\n",
        "print(filter1)"
      ],
      "execution_count": 4,
      "outputs": [
        {
          "output_type": "stream",
          "name": "stdout",
          "text": [
            "0       False\n",
            "1       False\n",
            "2       False\n",
            "3       False\n",
            "4       False\n",
            "        ...  \n",
            "1245    False\n",
            "1246    False\n",
            "1247    False\n",
            "1248    False\n",
            "1249    False\n",
            "Name: Entity, Length: 1250, dtype: bool\n"
          ]
        }
      ]
    },
    {
      "cell_type": "code",
      "metadata": {
        "id": "9MBIpZxng5Fn",
        "outputId": "96f11c02-091e-424d-addd-41b14b0c927b",
        "colab": {
          "base_uri": "https://localhost:8080/",
          "height": 582
        }
      },
      "source": [
        "filter1 = (raw_data['Entity'] == \"United States\")\n",
        "data = raw_data[filter1]\n",
        "data"
      ],
      "execution_count": 5,
      "outputs": [
        {
          "output_type": "execute_result",
          "data": {
            "text/html": [
              "\n",
              "  <div id=\"df-9610a2c5-da4f-4160-89dd-1bdff00aec72\">\n",
              "    <div class=\"colab-df-container\">\n",
              "      <div>\n",
              "<style scoped>\n",
              "    .dataframe tbody tr th:only-of-type {\n",
              "        vertical-align: middle;\n",
              "    }\n",
              "\n",
              "    .dataframe tbody tr th {\n",
              "        vertical-align: top;\n",
              "    }\n",
              "\n",
              "    .dataframe thead th {\n",
              "        text-align: right;\n",
              "    }\n",
              "</style>\n",
              "<table border=\"1\" class=\"dataframe\">\n",
              "  <thead>\n",
              "    <tr style=\"text-align: right;\">\n",
              "      <th></th>\n",
              "      <th>Entity</th>\n",
              "      <th>Code</th>\n",
              "      <th>Year</th>\n",
              "      <th>Human Height (University of Tuebingen (2015))</th>\n",
              "    </tr>\n",
              "  </thead>\n",
              "  <tbody>\n",
              "    <tr>\n",
              "      <th>1194</th>\n",
              "      <td>United States</td>\n",
              "      <td>USA</td>\n",
              "      <td>1820</td>\n",
              "      <td>172.2</td>\n",
              "    </tr>\n",
              "    <tr>\n",
              "      <th>1195</th>\n",
              "      <td>United States</td>\n",
              "      <td>USA</td>\n",
              "      <td>1830</td>\n",
              "      <td>173.5</td>\n",
              "    </tr>\n",
              "    <tr>\n",
              "      <th>1196</th>\n",
              "      <td>United States</td>\n",
              "      <td>USA</td>\n",
              "      <td>1840</td>\n",
              "      <td>172.2</td>\n",
              "    </tr>\n",
              "    <tr>\n",
              "      <th>1197</th>\n",
              "      <td>United States</td>\n",
              "      <td>USA</td>\n",
              "      <td>1850</td>\n",
              "      <td>171.1</td>\n",
              "    </tr>\n",
              "    <tr>\n",
              "      <th>1198</th>\n",
              "      <td>United States</td>\n",
              "      <td>USA</td>\n",
              "      <td>1860</td>\n",
              "      <td>170.6</td>\n",
              "    </tr>\n",
              "    <tr>\n",
              "      <th>1199</th>\n",
              "      <td>United States</td>\n",
              "      <td>USA</td>\n",
              "      <td>1870</td>\n",
              "      <td>171.1</td>\n",
              "    </tr>\n",
              "    <tr>\n",
              "      <th>1200</th>\n",
              "      <td>United States</td>\n",
              "      <td>USA</td>\n",
              "      <td>1880</td>\n",
              "      <td>169.5</td>\n",
              "    </tr>\n",
              "    <tr>\n",
              "      <th>1201</th>\n",
              "      <td>United States</td>\n",
              "      <td>USA</td>\n",
              "      <td>1890</td>\n",
              "      <td>169.1</td>\n",
              "    </tr>\n",
              "    <tr>\n",
              "      <th>1202</th>\n",
              "      <td>United States</td>\n",
              "      <td>USA</td>\n",
              "      <td>1900</td>\n",
              "      <td>170.0</td>\n",
              "    </tr>\n",
              "    <tr>\n",
              "      <th>1203</th>\n",
              "      <td>United States</td>\n",
              "      <td>USA</td>\n",
              "      <td>1910</td>\n",
              "      <td>172.1</td>\n",
              "    </tr>\n",
              "    <tr>\n",
              "      <th>1204</th>\n",
              "      <td>United States</td>\n",
              "      <td>USA</td>\n",
              "      <td>1920</td>\n",
              "      <td>173.1</td>\n",
              "    </tr>\n",
              "    <tr>\n",
              "      <th>1205</th>\n",
              "      <td>United States</td>\n",
              "      <td>USA</td>\n",
              "      <td>1930</td>\n",
              "      <td>173.4</td>\n",
              "    </tr>\n",
              "    <tr>\n",
              "      <th>1206</th>\n",
              "      <td>United States</td>\n",
              "      <td>USA</td>\n",
              "      <td>1940</td>\n",
              "      <td>176.1</td>\n",
              "    </tr>\n",
              "    <tr>\n",
              "      <th>1207</th>\n",
              "      <td>United States</td>\n",
              "      <td>USA</td>\n",
              "      <td>1950</td>\n",
              "      <td>177.1</td>\n",
              "    </tr>\n",
              "    <tr>\n",
              "      <th>1208</th>\n",
              "      <td>United States</td>\n",
              "      <td>USA</td>\n",
              "      <td>1960</td>\n",
              "      <td>177.3</td>\n",
              "    </tr>\n",
              "    <tr>\n",
              "      <th>1209</th>\n",
              "      <td>United States</td>\n",
              "      <td>USA</td>\n",
              "      <td>1970</td>\n",
              "      <td>178.3</td>\n",
              "    </tr>\n",
              "    <tr>\n",
              "      <th>1210</th>\n",
              "      <td>United States</td>\n",
              "      <td>USA</td>\n",
              "      <td>1980</td>\n",
              "      <td>179.0</td>\n",
              "    </tr>\n",
              "  </tbody>\n",
              "</table>\n",
              "</div>\n",
              "      <button class=\"colab-df-convert\" onclick=\"convertToInteractive('df-9610a2c5-da4f-4160-89dd-1bdff00aec72')\"\n",
              "              title=\"Convert this dataframe to an interactive table.\"\n",
              "              style=\"display:none;\">\n",
              "        \n",
              "  <svg xmlns=\"http://www.w3.org/2000/svg\" height=\"24px\"viewBox=\"0 0 24 24\"\n",
              "       width=\"24px\">\n",
              "    <path d=\"M0 0h24v24H0V0z\" fill=\"none\"/>\n",
              "    <path d=\"M18.56 5.44l.94 2.06.94-2.06 2.06-.94-2.06-.94-.94-2.06-.94 2.06-2.06.94zm-11 1L8.5 8.5l.94-2.06 2.06-.94-2.06-.94L8.5 2.5l-.94 2.06-2.06.94zm10 10l.94 2.06.94-2.06 2.06-.94-2.06-.94-.94-2.06-.94 2.06-2.06.94z\"/><path d=\"M17.41 7.96l-1.37-1.37c-.4-.4-.92-.59-1.43-.59-.52 0-1.04.2-1.43.59L10.3 9.45l-7.72 7.72c-.78.78-.78 2.05 0 2.83L4 21.41c.39.39.9.59 1.41.59.51 0 1.02-.2 1.41-.59l7.78-7.78 2.81-2.81c.8-.78.8-2.07 0-2.86zM5.41 20L4 18.59l7.72-7.72 1.47 1.35L5.41 20z\"/>\n",
              "  </svg>\n",
              "      </button>\n",
              "      \n",
              "  <style>\n",
              "    .colab-df-container {\n",
              "      display:flex;\n",
              "      flex-wrap:wrap;\n",
              "      gap: 12px;\n",
              "    }\n",
              "\n",
              "    .colab-df-convert {\n",
              "      background-color: #E8F0FE;\n",
              "      border: none;\n",
              "      border-radius: 50%;\n",
              "      cursor: pointer;\n",
              "      display: none;\n",
              "      fill: #1967D2;\n",
              "      height: 32px;\n",
              "      padding: 0 0 0 0;\n",
              "      width: 32px;\n",
              "    }\n",
              "\n",
              "    .colab-df-convert:hover {\n",
              "      background-color: #E2EBFA;\n",
              "      box-shadow: 0px 1px 2px rgba(60, 64, 67, 0.3), 0px 1px 3px 1px rgba(60, 64, 67, 0.15);\n",
              "      fill: #174EA6;\n",
              "    }\n",
              "\n",
              "    [theme=dark] .colab-df-convert {\n",
              "      background-color: #3B4455;\n",
              "      fill: #D2E3FC;\n",
              "    }\n",
              "\n",
              "    [theme=dark] .colab-df-convert:hover {\n",
              "      background-color: #434B5C;\n",
              "      box-shadow: 0px 1px 3px 1px rgba(0, 0, 0, 0.15);\n",
              "      filter: drop-shadow(0px 1px 2px rgba(0, 0, 0, 0.3));\n",
              "      fill: #FFFFFF;\n",
              "    }\n",
              "  </style>\n",
              "\n",
              "      <script>\n",
              "        const buttonEl =\n",
              "          document.querySelector('#df-9610a2c5-da4f-4160-89dd-1bdff00aec72 button.colab-df-convert');\n",
              "        buttonEl.style.display =\n",
              "          google.colab.kernel.accessAllowed ? 'block' : 'none';\n",
              "\n",
              "        async function convertToInteractive(key) {\n",
              "          const element = document.querySelector('#df-9610a2c5-da4f-4160-89dd-1bdff00aec72');\n",
              "          const dataTable =\n",
              "            await google.colab.kernel.invokeFunction('convertToInteractive',\n",
              "                                                     [key], {});\n",
              "          if (!dataTable) return;\n",
              "\n",
              "          const docLinkHtml = 'Like what you see? Visit the ' +\n",
              "            '<a target=\"_blank\" href=https://colab.research.google.com/notebooks/data_table.ipynb>data table notebook</a>'\n",
              "            + ' to learn more about interactive tables.';\n",
              "          element.innerHTML = '';\n",
              "          dataTable['output_type'] = 'display_data';\n",
              "          await google.colab.output.renderOutput(dataTable, element);\n",
              "          const docLink = document.createElement('div');\n",
              "          docLink.innerHTML = docLinkHtml;\n",
              "          element.appendChild(docLink);\n",
              "        }\n",
              "      </script>\n",
              "    </div>\n",
              "  </div>\n",
              "  "
            ],
            "text/plain": [
              "             Entity Code  Year  Human Height (University of Tuebingen (2015))\n",
              "1194  United States  USA  1820                                          172.2\n",
              "1195  United States  USA  1830                                          173.5\n",
              "1196  United States  USA  1840                                          172.2\n",
              "1197  United States  USA  1850                                          171.1\n",
              "1198  United States  USA  1860                                          170.6\n",
              "1199  United States  USA  1870                                          171.1\n",
              "1200  United States  USA  1880                                          169.5\n",
              "1201  United States  USA  1890                                          169.1\n",
              "1202  United States  USA  1900                                          170.0\n",
              "1203  United States  USA  1910                                          172.1\n",
              "1204  United States  USA  1920                                          173.1\n",
              "1205  United States  USA  1930                                          173.4\n",
              "1206  United States  USA  1940                                          176.1\n",
              "1207  United States  USA  1950                                          177.1\n",
              "1208  United States  USA  1960                                          177.3\n",
              "1209  United States  USA  1970                                          178.3\n",
              "1210  United States  USA  1980                                          179.0"
            ]
          },
          "metadata": {},
          "execution_count": 5
        }
      ]
    },
    {
      "cell_type": "code",
      "metadata": {
        "id": "da8hGRR2g7UB",
        "outputId": "6b266188-42c9-4dc3-9d4d-f7e7d29d2170",
        "colab": {
          "base_uri": "https://localhost:8080/",
          "height": 206
        }
      },
      "source": [
        "# You can combine the two steps in one statement\n",
        "data = raw_data[raw_data['Entity'] == \"United States\"]\n",
        "data.head()"
      ],
      "execution_count": 6,
      "outputs": [
        {
          "output_type": "execute_result",
          "data": {
            "text/html": [
              "\n",
              "  <div id=\"df-13c3c1b2-62b0-43a9-bcee-b5ff92f408f7\">\n",
              "    <div class=\"colab-df-container\">\n",
              "      <div>\n",
              "<style scoped>\n",
              "    .dataframe tbody tr th:only-of-type {\n",
              "        vertical-align: middle;\n",
              "    }\n",
              "\n",
              "    .dataframe tbody tr th {\n",
              "        vertical-align: top;\n",
              "    }\n",
              "\n",
              "    .dataframe thead th {\n",
              "        text-align: right;\n",
              "    }\n",
              "</style>\n",
              "<table border=\"1\" class=\"dataframe\">\n",
              "  <thead>\n",
              "    <tr style=\"text-align: right;\">\n",
              "      <th></th>\n",
              "      <th>Entity</th>\n",
              "      <th>Code</th>\n",
              "      <th>Year</th>\n",
              "      <th>Human Height (University of Tuebingen (2015))</th>\n",
              "    </tr>\n",
              "  </thead>\n",
              "  <tbody>\n",
              "    <tr>\n",
              "      <th>1194</th>\n",
              "      <td>United States</td>\n",
              "      <td>USA</td>\n",
              "      <td>1820</td>\n",
              "      <td>172.2</td>\n",
              "    </tr>\n",
              "    <tr>\n",
              "      <th>1195</th>\n",
              "      <td>United States</td>\n",
              "      <td>USA</td>\n",
              "      <td>1830</td>\n",
              "      <td>173.5</td>\n",
              "    </tr>\n",
              "    <tr>\n",
              "      <th>1196</th>\n",
              "      <td>United States</td>\n",
              "      <td>USA</td>\n",
              "      <td>1840</td>\n",
              "      <td>172.2</td>\n",
              "    </tr>\n",
              "    <tr>\n",
              "      <th>1197</th>\n",
              "      <td>United States</td>\n",
              "      <td>USA</td>\n",
              "      <td>1850</td>\n",
              "      <td>171.1</td>\n",
              "    </tr>\n",
              "    <tr>\n",
              "      <th>1198</th>\n",
              "      <td>United States</td>\n",
              "      <td>USA</td>\n",
              "      <td>1860</td>\n",
              "      <td>170.6</td>\n",
              "    </tr>\n",
              "  </tbody>\n",
              "</table>\n",
              "</div>\n",
              "      <button class=\"colab-df-convert\" onclick=\"convertToInteractive('df-13c3c1b2-62b0-43a9-bcee-b5ff92f408f7')\"\n",
              "              title=\"Convert this dataframe to an interactive table.\"\n",
              "              style=\"display:none;\">\n",
              "        \n",
              "  <svg xmlns=\"http://www.w3.org/2000/svg\" height=\"24px\"viewBox=\"0 0 24 24\"\n",
              "       width=\"24px\">\n",
              "    <path d=\"M0 0h24v24H0V0z\" fill=\"none\"/>\n",
              "    <path d=\"M18.56 5.44l.94 2.06.94-2.06 2.06-.94-2.06-.94-.94-2.06-.94 2.06-2.06.94zm-11 1L8.5 8.5l.94-2.06 2.06-.94-2.06-.94L8.5 2.5l-.94 2.06-2.06.94zm10 10l.94 2.06.94-2.06 2.06-.94-2.06-.94-.94-2.06-.94 2.06-2.06.94z\"/><path d=\"M17.41 7.96l-1.37-1.37c-.4-.4-.92-.59-1.43-.59-.52 0-1.04.2-1.43.59L10.3 9.45l-7.72 7.72c-.78.78-.78 2.05 0 2.83L4 21.41c.39.39.9.59 1.41.59.51 0 1.02-.2 1.41-.59l7.78-7.78 2.81-2.81c.8-.78.8-2.07 0-2.86zM5.41 20L4 18.59l7.72-7.72 1.47 1.35L5.41 20z\"/>\n",
              "  </svg>\n",
              "      </button>\n",
              "      \n",
              "  <style>\n",
              "    .colab-df-container {\n",
              "      display:flex;\n",
              "      flex-wrap:wrap;\n",
              "      gap: 12px;\n",
              "    }\n",
              "\n",
              "    .colab-df-convert {\n",
              "      background-color: #E8F0FE;\n",
              "      border: none;\n",
              "      border-radius: 50%;\n",
              "      cursor: pointer;\n",
              "      display: none;\n",
              "      fill: #1967D2;\n",
              "      height: 32px;\n",
              "      padding: 0 0 0 0;\n",
              "      width: 32px;\n",
              "    }\n",
              "\n",
              "    .colab-df-convert:hover {\n",
              "      background-color: #E2EBFA;\n",
              "      box-shadow: 0px 1px 2px rgba(60, 64, 67, 0.3), 0px 1px 3px 1px rgba(60, 64, 67, 0.15);\n",
              "      fill: #174EA6;\n",
              "    }\n",
              "\n",
              "    [theme=dark] .colab-df-convert {\n",
              "      background-color: #3B4455;\n",
              "      fill: #D2E3FC;\n",
              "    }\n",
              "\n",
              "    [theme=dark] .colab-df-convert:hover {\n",
              "      background-color: #434B5C;\n",
              "      box-shadow: 0px 1px 3px 1px rgba(0, 0, 0, 0.15);\n",
              "      filter: drop-shadow(0px 1px 2px rgba(0, 0, 0, 0.3));\n",
              "      fill: #FFFFFF;\n",
              "    }\n",
              "  </style>\n",
              "\n",
              "      <script>\n",
              "        const buttonEl =\n",
              "          document.querySelector('#df-13c3c1b2-62b0-43a9-bcee-b5ff92f408f7 button.colab-df-convert');\n",
              "        buttonEl.style.display =\n",
              "          google.colab.kernel.accessAllowed ? 'block' : 'none';\n",
              "\n",
              "        async function convertToInteractive(key) {\n",
              "          const element = document.querySelector('#df-13c3c1b2-62b0-43a9-bcee-b5ff92f408f7');\n",
              "          const dataTable =\n",
              "            await google.colab.kernel.invokeFunction('convertToInteractive',\n",
              "                                                     [key], {});\n",
              "          if (!dataTable) return;\n",
              "\n",
              "          const docLinkHtml = 'Like what you see? Visit the ' +\n",
              "            '<a target=\"_blank\" href=https://colab.research.google.com/notebooks/data_table.ipynb>data table notebook</a>'\n",
              "            + ' to learn more about interactive tables.';\n",
              "          element.innerHTML = '';\n",
              "          dataTable['output_type'] = 'display_data';\n",
              "          await google.colab.output.renderOutput(dataTable, element);\n",
              "          const docLink = document.createElement('div');\n",
              "          docLink.innerHTML = docLinkHtml;\n",
              "          element.appendChild(docLink);\n",
              "        }\n",
              "      </script>\n",
              "    </div>\n",
              "  </div>\n",
              "  "
            ],
            "text/plain": [
              "             Entity Code  Year  Human Height (University of Tuebingen (2015))\n",
              "1194  United States  USA  1820                                          172.2\n",
              "1195  United States  USA  1830                                          173.5\n",
              "1196  United States  USA  1840                                          172.2\n",
              "1197  United States  USA  1850                                          171.1\n",
              "1198  United States  USA  1860                                          170.6"
            ]
          },
          "metadata": {},
          "execution_count": 6
        }
      ]
    },
    {
      "cell_type": "code",
      "metadata": {
        "id": "-W8UsV2an6H0",
        "outputId": "b8b40a6a-abc2-43ea-8030-11752d0175cf",
        "colab": {
          "base_uri": "https://localhost:8080/",
          "height": 332
        }
      },
      "source": [
        "# Exercise:\n",
        "# Extract USA data since 1900.\n",
        "data = data[data['Year'] >= 1900]\n",
        "data"
      ],
      "execution_count": 7,
      "outputs": [
        {
          "output_type": "execute_result",
          "data": {
            "text/html": [
              "\n",
              "  <div id=\"df-ae35cef7-a882-432d-9235-08f0d6541f4d\">\n",
              "    <div class=\"colab-df-container\">\n",
              "      <div>\n",
              "<style scoped>\n",
              "    .dataframe tbody tr th:only-of-type {\n",
              "        vertical-align: middle;\n",
              "    }\n",
              "\n",
              "    .dataframe tbody tr th {\n",
              "        vertical-align: top;\n",
              "    }\n",
              "\n",
              "    .dataframe thead th {\n",
              "        text-align: right;\n",
              "    }\n",
              "</style>\n",
              "<table border=\"1\" class=\"dataframe\">\n",
              "  <thead>\n",
              "    <tr style=\"text-align: right;\">\n",
              "      <th></th>\n",
              "      <th>Entity</th>\n",
              "      <th>Code</th>\n",
              "      <th>Year</th>\n",
              "      <th>Human Height (University of Tuebingen (2015))</th>\n",
              "    </tr>\n",
              "  </thead>\n",
              "  <tbody>\n",
              "    <tr>\n",
              "      <th>1202</th>\n",
              "      <td>United States</td>\n",
              "      <td>USA</td>\n",
              "      <td>1900</td>\n",
              "      <td>170.0</td>\n",
              "    </tr>\n",
              "    <tr>\n",
              "      <th>1203</th>\n",
              "      <td>United States</td>\n",
              "      <td>USA</td>\n",
              "      <td>1910</td>\n",
              "      <td>172.1</td>\n",
              "    </tr>\n",
              "    <tr>\n",
              "      <th>1204</th>\n",
              "      <td>United States</td>\n",
              "      <td>USA</td>\n",
              "      <td>1920</td>\n",
              "      <td>173.1</td>\n",
              "    </tr>\n",
              "    <tr>\n",
              "      <th>1205</th>\n",
              "      <td>United States</td>\n",
              "      <td>USA</td>\n",
              "      <td>1930</td>\n",
              "      <td>173.4</td>\n",
              "    </tr>\n",
              "    <tr>\n",
              "      <th>1206</th>\n",
              "      <td>United States</td>\n",
              "      <td>USA</td>\n",
              "      <td>1940</td>\n",
              "      <td>176.1</td>\n",
              "    </tr>\n",
              "    <tr>\n",
              "      <th>1207</th>\n",
              "      <td>United States</td>\n",
              "      <td>USA</td>\n",
              "      <td>1950</td>\n",
              "      <td>177.1</td>\n",
              "    </tr>\n",
              "    <tr>\n",
              "      <th>1208</th>\n",
              "      <td>United States</td>\n",
              "      <td>USA</td>\n",
              "      <td>1960</td>\n",
              "      <td>177.3</td>\n",
              "    </tr>\n",
              "    <tr>\n",
              "      <th>1209</th>\n",
              "      <td>United States</td>\n",
              "      <td>USA</td>\n",
              "      <td>1970</td>\n",
              "      <td>178.3</td>\n",
              "    </tr>\n",
              "    <tr>\n",
              "      <th>1210</th>\n",
              "      <td>United States</td>\n",
              "      <td>USA</td>\n",
              "      <td>1980</td>\n",
              "      <td>179.0</td>\n",
              "    </tr>\n",
              "  </tbody>\n",
              "</table>\n",
              "</div>\n",
              "      <button class=\"colab-df-convert\" onclick=\"convertToInteractive('df-ae35cef7-a882-432d-9235-08f0d6541f4d')\"\n",
              "              title=\"Convert this dataframe to an interactive table.\"\n",
              "              style=\"display:none;\">\n",
              "        \n",
              "  <svg xmlns=\"http://www.w3.org/2000/svg\" height=\"24px\"viewBox=\"0 0 24 24\"\n",
              "       width=\"24px\">\n",
              "    <path d=\"M0 0h24v24H0V0z\" fill=\"none\"/>\n",
              "    <path d=\"M18.56 5.44l.94 2.06.94-2.06 2.06-.94-2.06-.94-.94-2.06-.94 2.06-2.06.94zm-11 1L8.5 8.5l.94-2.06 2.06-.94-2.06-.94L8.5 2.5l-.94 2.06-2.06.94zm10 10l.94 2.06.94-2.06 2.06-.94-2.06-.94-.94-2.06-.94 2.06-2.06.94z\"/><path d=\"M17.41 7.96l-1.37-1.37c-.4-.4-.92-.59-1.43-.59-.52 0-1.04.2-1.43.59L10.3 9.45l-7.72 7.72c-.78.78-.78 2.05 0 2.83L4 21.41c.39.39.9.59 1.41.59.51 0 1.02-.2 1.41-.59l7.78-7.78 2.81-2.81c.8-.78.8-2.07 0-2.86zM5.41 20L4 18.59l7.72-7.72 1.47 1.35L5.41 20z\"/>\n",
              "  </svg>\n",
              "      </button>\n",
              "      \n",
              "  <style>\n",
              "    .colab-df-container {\n",
              "      display:flex;\n",
              "      flex-wrap:wrap;\n",
              "      gap: 12px;\n",
              "    }\n",
              "\n",
              "    .colab-df-convert {\n",
              "      background-color: #E8F0FE;\n",
              "      border: none;\n",
              "      border-radius: 50%;\n",
              "      cursor: pointer;\n",
              "      display: none;\n",
              "      fill: #1967D2;\n",
              "      height: 32px;\n",
              "      padding: 0 0 0 0;\n",
              "      width: 32px;\n",
              "    }\n",
              "\n",
              "    .colab-df-convert:hover {\n",
              "      background-color: #E2EBFA;\n",
              "      box-shadow: 0px 1px 2px rgba(60, 64, 67, 0.3), 0px 1px 3px 1px rgba(60, 64, 67, 0.15);\n",
              "      fill: #174EA6;\n",
              "    }\n",
              "\n",
              "    [theme=dark] .colab-df-convert {\n",
              "      background-color: #3B4455;\n",
              "      fill: #D2E3FC;\n",
              "    }\n",
              "\n",
              "    [theme=dark] .colab-df-convert:hover {\n",
              "      background-color: #434B5C;\n",
              "      box-shadow: 0px 1px 3px 1px rgba(0, 0, 0, 0.15);\n",
              "      filter: drop-shadow(0px 1px 2px rgba(0, 0, 0, 0.3));\n",
              "      fill: #FFFFFF;\n",
              "    }\n",
              "  </style>\n",
              "\n",
              "      <script>\n",
              "        const buttonEl =\n",
              "          document.querySelector('#df-ae35cef7-a882-432d-9235-08f0d6541f4d button.colab-df-convert');\n",
              "        buttonEl.style.display =\n",
              "          google.colab.kernel.accessAllowed ? 'block' : 'none';\n",
              "\n",
              "        async function convertToInteractive(key) {\n",
              "          const element = document.querySelector('#df-ae35cef7-a882-432d-9235-08f0d6541f4d');\n",
              "          const dataTable =\n",
              "            await google.colab.kernel.invokeFunction('convertToInteractive',\n",
              "                                                     [key], {});\n",
              "          if (!dataTable) return;\n",
              "\n",
              "          const docLinkHtml = 'Like what you see? Visit the ' +\n",
              "            '<a target=\"_blank\" href=https://colab.research.google.com/notebooks/data_table.ipynb>data table notebook</a>'\n",
              "            + ' to learn more about interactive tables.';\n",
              "          element.innerHTML = '';\n",
              "          dataTable['output_type'] = 'display_data';\n",
              "          await google.colab.output.renderOutput(dataTable, element);\n",
              "          const docLink = document.createElement('div');\n",
              "          docLink.innerHTML = docLinkHtml;\n",
              "          element.appendChild(docLink);\n",
              "        }\n",
              "      </script>\n",
              "    </div>\n",
              "  </div>\n",
              "  "
            ],
            "text/plain": [
              "             Entity Code  Year  Human Height (University of Tuebingen (2015))\n",
              "1202  United States  USA  1900                                          170.0\n",
              "1203  United States  USA  1910                                          172.1\n",
              "1204  United States  USA  1920                                          173.1\n",
              "1205  United States  USA  1930                                          173.4\n",
              "1206  United States  USA  1940                                          176.1\n",
              "1207  United States  USA  1950                                          177.1\n",
              "1208  United States  USA  1960                                          177.3\n",
              "1209  United States  USA  1970                                          178.3\n",
              "1210  United States  USA  1980                                          179.0"
            ]
          },
          "metadata": {},
          "execution_count": 7
        }
      ]
    },
    {
      "cell_type": "markdown",
      "metadata": {
        "id": "1hany2AAnXGf"
      },
      "source": [
        "### 5. Clean the Dataset\n",
        "1. Reset the index.\n",
        "2. Remove Entity and Code column.\n",
        "3. Give a proper name to height column"
      ]
    },
    {
      "cell_type": "code",
      "metadata": {
        "id": "m62F50fQncBr",
        "outputId": "1b15a339-4375-441e-e487-e47969c86180",
        "colab": {
          "base_uri": "https://localhost:8080/",
          "height": 238
        }
      },
      "source": [
        "data = data.set_index([\"Year\"])\n",
        "data.head()"
      ],
      "execution_count": 8,
      "outputs": [
        {
          "output_type": "execute_result",
          "data": {
            "text/html": [
              "\n",
              "  <div id=\"df-91e1561d-7766-491e-b727-1dc7ccd5df3e\">\n",
              "    <div class=\"colab-df-container\">\n",
              "      <div>\n",
              "<style scoped>\n",
              "    .dataframe tbody tr th:only-of-type {\n",
              "        vertical-align: middle;\n",
              "    }\n",
              "\n",
              "    .dataframe tbody tr th {\n",
              "        vertical-align: top;\n",
              "    }\n",
              "\n",
              "    .dataframe thead th {\n",
              "        text-align: right;\n",
              "    }\n",
              "</style>\n",
              "<table border=\"1\" class=\"dataframe\">\n",
              "  <thead>\n",
              "    <tr style=\"text-align: right;\">\n",
              "      <th></th>\n",
              "      <th>Entity</th>\n",
              "      <th>Code</th>\n",
              "      <th>Human Height (University of Tuebingen (2015))</th>\n",
              "    </tr>\n",
              "    <tr>\n",
              "      <th>Year</th>\n",
              "      <th></th>\n",
              "      <th></th>\n",
              "      <th></th>\n",
              "    </tr>\n",
              "  </thead>\n",
              "  <tbody>\n",
              "    <tr>\n",
              "      <th>1900</th>\n",
              "      <td>United States</td>\n",
              "      <td>USA</td>\n",
              "      <td>170.0</td>\n",
              "    </tr>\n",
              "    <tr>\n",
              "      <th>1910</th>\n",
              "      <td>United States</td>\n",
              "      <td>USA</td>\n",
              "      <td>172.1</td>\n",
              "    </tr>\n",
              "    <tr>\n",
              "      <th>1920</th>\n",
              "      <td>United States</td>\n",
              "      <td>USA</td>\n",
              "      <td>173.1</td>\n",
              "    </tr>\n",
              "    <tr>\n",
              "      <th>1930</th>\n",
              "      <td>United States</td>\n",
              "      <td>USA</td>\n",
              "      <td>173.4</td>\n",
              "    </tr>\n",
              "    <tr>\n",
              "      <th>1940</th>\n",
              "      <td>United States</td>\n",
              "      <td>USA</td>\n",
              "      <td>176.1</td>\n",
              "    </tr>\n",
              "  </tbody>\n",
              "</table>\n",
              "</div>\n",
              "      <button class=\"colab-df-convert\" onclick=\"convertToInteractive('df-91e1561d-7766-491e-b727-1dc7ccd5df3e')\"\n",
              "              title=\"Convert this dataframe to an interactive table.\"\n",
              "              style=\"display:none;\">\n",
              "        \n",
              "  <svg xmlns=\"http://www.w3.org/2000/svg\" height=\"24px\"viewBox=\"0 0 24 24\"\n",
              "       width=\"24px\">\n",
              "    <path d=\"M0 0h24v24H0V0z\" fill=\"none\"/>\n",
              "    <path d=\"M18.56 5.44l.94 2.06.94-2.06 2.06-.94-2.06-.94-.94-2.06-.94 2.06-2.06.94zm-11 1L8.5 8.5l.94-2.06 2.06-.94-2.06-.94L8.5 2.5l-.94 2.06-2.06.94zm10 10l.94 2.06.94-2.06 2.06-.94-2.06-.94-.94-2.06-.94 2.06-2.06.94z\"/><path d=\"M17.41 7.96l-1.37-1.37c-.4-.4-.92-.59-1.43-.59-.52 0-1.04.2-1.43.59L10.3 9.45l-7.72 7.72c-.78.78-.78 2.05 0 2.83L4 21.41c.39.39.9.59 1.41.59.51 0 1.02-.2 1.41-.59l7.78-7.78 2.81-2.81c.8-.78.8-2.07 0-2.86zM5.41 20L4 18.59l7.72-7.72 1.47 1.35L5.41 20z\"/>\n",
              "  </svg>\n",
              "      </button>\n",
              "      \n",
              "  <style>\n",
              "    .colab-df-container {\n",
              "      display:flex;\n",
              "      flex-wrap:wrap;\n",
              "      gap: 12px;\n",
              "    }\n",
              "\n",
              "    .colab-df-convert {\n",
              "      background-color: #E8F0FE;\n",
              "      border: none;\n",
              "      border-radius: 50%;\n",
              "      cursor: pointer;\n",
              "      display: none;\n",
              "      fill: #1967D2;\n",
              "      height: 32px;\n",
              "      padding: 0 0 0 0;\n",
              "      width: 32px;\n",
              "    }\n",
              "\n",
              "    .colab-df-convert:hover {\n",
              "      background-color: #E2EBFA;\n",
              "      box-shadow: 0px 1px 2px rgba(60, 64, 67, 0.3), 0px 1px 3px 1px rgba(60, 64, 67, 0.15);\n",
              "      fill: #174EA6;\n",
              "    }\n",
              "\n",
              "    [theme=dark] .colab-df-convert {\n",
              "      background-color: #3B4455;\n",
              "      fill: #D2E3FC;\n",
              "    }\n",
              "\n",
              "    [theme=dark] .colab-df-convert:hover {\n",
              "      background-color: #434B5C;\n",
              "      box-shadow: 0px 1px 3px 1px rgba(0, 0, 0, 0.15);\n",
              "      filter: drop-shadow(0px 1px 2px rgba(0, 0, 0, 0.3));\n",
              "      fill: #FFFFFF;\n",
              "    }\n",
              "  </style>\n",
              "\n",
              "      <script>\n",
              "        const buttonEl =\n",
              "          document.querySelector('#df-91e1561d-7766-491e-b727-1dc7ccd5df3e button.colab-df-convert');\n",
              "        buttonEl.style.display =\n",
              "          google.colab.kernel.accessAllowed ? 'block' : 'none';\n",
              "\n",
              "        async function convertToInteractive(key) {\n",
              "          const element = document.querySelector('#df-91e1561d-7766-491e-b727-1dc7ccd5df3e');\n",
              "          const dataTable =\n",
              "            await google.colab.kernel.invokeFunction('convertToInteractive',\n",
              "                                                     [key], {});\n",
              "          if (!dataTable) return;\n",
              "\n",
              "          const docLinkHtml = 'Like what you see? Visit the ' +\n",
              "            '<a target=\"_blank\" href=https://colab.research.google.com/notebooks/data_table.ipynb>data table notebook</a>'\n",
              "            + ' to learn more about interactive tables.';\n",
              "          element.innerHTML = '';\n",
              "          dataTable['output_type'] = 'display_data';\n",
              "          await google.colab.output.renderOutput(dataTable, element);\n",
              "          const docLink = document.createElement('div');\n",
              "          docLink.innerHTML = docLinkHtml;\n",
              "          element.appendChild(docLink);\n",
              "        }\n",
              "      </script>\n",
              "    </div>\n",
              "  </div>\n",
              "  "
            ],
            "text/plain": [
              "             Entity Code  Human Height (University of Tuebingen (2015))\n",
              "Year                                                                   \n",
              "1900  United States  USA                                          170.0\n",
              "1910  United States  USA                                          172.1\n",
              "1920  United States  USA                                          173.1\n",
              "1930  United States  USA                                          173.4\n",
              "1940  United States  USA                                          176.1"
            ]
          },
          "metadata": {},
          "execution_count": 8
        }
      ]
    },
    {
      "cell_type": "code",
      "metadata": {
        "id": "Rzq1Xbebndoy",
        "outputId": "dffabdcf-a98b-47a7-859b-1d3c20825012",
        "colab": {
          "base_uri": "https://localhost:8080/",
          "height": 238
        }
      },
      "source": [
        "data.drop(['Entity', 'Code'], axis=1, inplace=True) # axis specifies row drop or column drop\n",
        "data.head()"
      ],
      "execution_count": 9,
      "outputs": [
        {
          "output_type": "execute_result",
          "data": {
            "text/html": [
              "\n",
              "  <div id=\"df-fb6d8022-319b-41bf-ae90-eaa028ce8d92\">\n",
              "    <div class=\"colab-df-container\">\n",
              "      <div>\n",
              "<style scoped>\n",
              "    .dataframe tbody tr th:only-of-type {\n",
              "        vertical-align: middle;\n",
              "    }\n",
              "\n",
              "    .dataframe tbody tr th {\n",
              "        vertical-align: top;\n",
              "    }\n",
              "\n",
              "    .dataframe thead th {\n",
              "        text-align: right;\n",
              "    }\n",
              "</style>\n",
              "<table border=\"1\" class=\"dataframe\">\n",
              "  <thead>\n",
              "    <tr style=\"text-align: right;\">\n",
              "      <th></th>\n",
              "      <th>Human Height (University of Tuebingen (2015))</th>\n",
              "    </tr>\n",
              "    <tr>\n",
              "      <th>Year</th>\n",
              "      <th></th>\n",
              "    </tr>\n",
              "  </thead>\n",
              "  <tbody>\n",
              "    <tr>\n",
              "      <th>1900</th>\n",
              "      <td>170.0</td>\n",
              "    </tr>\n",
              "    <tr>\n",
              "      <th>1910</th>\n",
              "      <td>172.1</td>\n",
              "    </tr>\n",
              "    <tr>\n",
              "      <th>1920</th>\n",
              "      <td>173.1</td>\n",
              "    </tr>\n",
              "    <tr>\n",
              "      <th>1930</th>\n",
              "      <td>173.4</td>\n",
              "    </tr>\n",
              "    <tr>\n",
              "      <th>1940</th>\n",
              "      <td>176.1</td>\n",
              "    </tr>\n",
              "  </tbody>\n",
              "</table>\n",
              "</div>\n",
              "      <button class=\"colab-df-convert\" onclick=\"convertToInteractive('df-fb6d8022-319b-41bf-ae90-eaa028ce8d92')\"\n",
              "              title=\"Convert this dataframe to an interactive table.\"\n",
              "              style=\"display:none;\">\n",
              "        \n",
              "  <svg xmlns=\"http://www.w3.org/2000/svg\" height=\"24px\"viewBox=\"0 0 24 24\"\n",
              "       width=\"24px\">\n",
              "    <path d=\"M0 0h24v24H0V0z\" fill=\"none\"/>\n",
              "    <path d=\"M18.56 5.44l.94 2.06.94-2.06 2.06-.94-2.06-.94-.94-2.06-.94 2.06-2.06.94zm-11 1L8.5 8.5l.94-2.06 2.06-.94-2.06-.94L8.5 2.5l-.94 2.06-2.06.94zm10 10l.94 2.06.94-2.06 2.06-.94-2.06-.94-.94-2.06-.94 2.06-2.06.94z\"/><path d=\"M17.41 7.96l-1.37-1.37c-.4-.4-.92-.59-1.43-.59-.52 0-1.04.2-1.43.59L10.3 9.45l-7.72 7.72c-.78.78-.78 2.05 0 2.83L4 21.41c.39.39.9.59 1.41.59.51 0 1.02-.2 1.41-.59l7.78-7.78 2.81-2.81c.8-.78.8-2.07 0-2.86zM5.41 20L4 18.59l7.72-7.72 1.47 1.35L5.41 20z\"/>\n",
              "  </svg>\n",
              "      </button>\n",
              "      \n",
              "  <style>\n",
              "    .colab-df-container {\n",
              "      display:flex;\n",
              "      flex-wrap:wrap;\n",
              "      gap: 12px;\n",
              "    }\n",
              "\n",
              "    .colab-df-convert {\n",
              "      background-color: #E8F0FE;\n",
              "      border: none;\n",
              "      border-radius: 50%;\n",
              "      cursor: pointer;\n",
              "      display: none;\n",
              "      fill: #1967D2;\n",
              "      height: 32px;\n",
              "      padding: 0 0 0 0;\n",
              "      width: 32px;\n",
              "    }\n",
              "\n",
              "    .colab-df-convert:hover {\n",
              "      background-color: #E2EBFA;\n",
              "      box-shadow: 0px 1px 2px rgba(60, 64, 67, 0.3), 0px 1px 3px 1px rgba(60, 64, 67, 0.15);\n",
              "      fill: #174EA6;\n",
              "    }\n",
              "\n",
              "    [theme=dark] .colab-df-convert {\n",
              "      background-color: #3B4455;\n",
              "      fill: #D2E3FC;\n",
              "    }\n",
              "\n",
              "    [theme=dark] .colab-df-convert:hover {\n",
              "      background-color: #434B5C;\n",
              "      box-shadow: 0px 1px 3px 1px rgba(0, 0, 0, 0.15);\n",
              "      filter: drop-shadow(0px 1px 2px rgba(0, 0, 0, 0.3));\n",
              "      fill: #FFFFFF;\n",
              "    }\n",
              "  </style>\n",
              "\n",
              "      <script>\n",
              "        const buttonEl =\n",
              "          document.querySelector('#df-fb6d8022-319b-41bf-ae90-eaa028ce8d92 button.colab-df-convert');\n",
              "        buttonEl.style.display =\n",
              "          google.colab.kernel.accessAllowed ? 'block' : 'none';\n",
              "\n",
              "        async function convertToInteractive(key) {\n",
              "          const element = document.querySelector('#df-fb6d8022-319b-41bf-ae90-eaa028ce8d92');\n",
              "          const dataTable =\n",
              "            await google.colab.kernel.invokeFunction('convertToInteractive',\n",
              "                                                     [key], {});\n",
              "          if (!dataTable) return;\n",
              "\n",
              "          const docLinkHtml = 'Like what you see? Visit the ' +\n",
              "            '<a target=\"_blank\" href=https://colab.research.google.com/notebooks/data_table.ipynb>data table notebook</a>'\n",
              "            + ' to learn more about interactive tables.';\n",
              "          element.innerHTML = '';\n",
              "          dataTable['output_type'] = 'display_data';\n",
              "          await google.colab.output.renderOutput(dataTable, element);\n",
              "          const docLink = document.createElement('div');\n",
              "          docLink.innerHTML = docLinkHtml;\n",
              "          element.appendChild(docLink);\n",
              "        }\n",
              "      </script>\n",
              "    </div>\n",
              "  </div>\n",
              "  "
            ],
            "text/plain": [
              "      Human Height (University of Tuebingen (2015))\n",
              "Year                                               \n",
              "1900                                          170.0\n",
              "1910                                          172.1\n",
              "1920                                          173.1\n",
              "1930                                          173.4\n",
              "1940                                          176.1"
            ]
          },
          "metadata": {},
          "execution_count": 9
        }
      ]
    },
    {
      "cell_type": "code",
      "metadata": {
        "id": "cLy9PtMlngqP",
        "outputId": "13b6311b-8f1d-4660-ee56-a896a90c6d0e",
        "colab": {
          "base_uri": "https://localhost:8080/",
          "height": 363
        }
      },
      "source": [
        "data = data.rename(columns={'Human Height (University of Tuebingen (2015))': \"Height(cm)\"})\n",
        "# data.tail()\n",
        "data"
      ],
      "execution_count": 10,
      "outputs": [
        {
          "output_type": "execute_result",
          "data": {
            "text/html": [
              "\n",
              "  <div id=\"df-a4599a31-1c64-495a-80da-d61735195ce5\">\n",
              "    <div class=\"colab-df-container\">\n",
              "      <div>\n",
              "<style scoped>\n",
              "    .dataframe tbody tr th:only-of-type {\n",
              "        vertical-align: middle;\n",
              "    }\n",
              "\n",
              "    .dataframe tbody tr th {\n",
              "        vertical-align: top;\n",
              "    }\n",
              "\n",
              "    .dataframe thead th {\n",
              "        text-align: right;\n",
              "    }\n",
              "</style>\n",
              "<table border=\"1\" class=\"dataframe\">\n",
              "  <thead>\n",
              "    <tr style=\"text-align: right;\">\n",
              "      <th></th>\n",
              "      <th>Height(cm)</th>\n",
              "    </tr>\n",
              "    <tr>\n",
              "      <th>Year</th>\n",
              "      <th></th>\n",
              "    </tr>\n",
              "  </thead>\n",
              "  <tbody>\n",
              "    <tr>\n",
              "      <th>1900</th>\n",
              "      <td>170.0</td>\n",
              "    </tr>\n",
              "    <tr>\n",
              "      <th>1910</th>\n",
              "      <td>172.1</td>\n",
              "    </tr>\n",
              "    <tr>\n",
              "      <th>1920</th>\n",
              "      <td>173.1</td>\n",
              "    </tr>\n",
              "    <tr>\n",
              "      <th>1930</th>\n",
              "      <td>173.4</td>\n",
              "    </tr>\n",
              "    <tr>\n",
              "      <th>1940</th>\n",
              "      <td>176.1</td>\n",
              "    </tr>\n",
              "    <tr>\n",
              "      <th>1950</th>\n",
              "      <td>177.1</td>\n",
              "    </tr>\n",
              "    <tr>\n",
              "      <th>1960</th>\n",
              "      <td>177.3</td>\n",
              "    </tr>\n",
              "    <tr>\n",
              "      <th>1970</th>\n",
              "      <td>178.3</td>\n",
              "    </tr>\n",
              "    <tr>\n",
              "      <th>1980</th>\n",
              "      <td>179.0</td>\n",
              "    </tr>\n",
              "  </tbody>\n",
              "</table>\n",
              "</div>\n",
              "      <button class=\"colab-df-convert\" onclick=\"convertToInteractive('df-a4599a31-1c64-495a-80da-d61735195ce5')\"\n",
              "              title=\"Convert this dataframe to an interactive table.\"\n",
              "              style=\"display:none;\">\n",
              "        \n",
              "  <svg xmlns=\"http://www.w3.org/2000/svg\" height=\"24px\"viewBox=\"0 0 24 24\"\n",
              "       width=\"24px\">\n",
              "    <path d=\"M0 0h24v24H0V0z\" fill=\"none\"/>\n",
              "    <path d=\"M18.56 5.44l.94 2.06.94-2.06 2.06-.94-2.06-.94-.94-2.06-.94 2.06-2.06.94zm-11 1L8.5 8.5l.94-2.06 2.06-.94-2.06-.94L8.5 2.5l-.94 2.06-2.06.94zm10 10l.94 2.06.94-2.06 2.06-.94-2.06-.94-.94-2.06-.94 2.06-2.06.94z\"/><path d=\"M17.41 7.96l-1.37-1.37c-.4-.4-.92-.59-1.43-.59-.52 0-1.04.2-1.43.59L10.3 9.45l-7.72 7.72c-.78.78-.78 2.05 0 2.83L4 21.41c.39.39.9.59 1.41.59.51 0 1.02-.2 1.41-.59l7.78-7.78 2.81-2.81c.8-.78.8-2.07 0-2.86zM5.41 20L4 18.59l7.72-7.72 1.47 1.35L5.41 20z\"/>\n",
              "  </svg>\n",
              "      </button>\n",
              "      \n",
              "  <style>\n",
              "    .colab-df-container {\n",
              "      display:flex;\n",
              "      flex-wrap:wrap;\n",
              "      gap: 12px;\n",
              "    }\n",
              "\n",
              "    .colab-df-convert {\n",
              "      background-color: #E8F0FE;\n",
              "      border: none;\n",
              "      border-radius: 50%;\n",
              "      cursor: pointer;\n",
              "      display: none;\n",
              "      fill: #1967D2;\n",
              "      height: 32px;\n",
              "      padding: 0 0 0 0;\n",
              "      width: 32px;\n",
              "    }\n",
              "\n",
              "    .colab-df-convert:hover {\n",
              "      background-color: #E2EBFA;\n",
              "      box-shadow: 0px 1px 2px rgba(60, 64, 67, 0.3), 0px 1px 3px 1px rgba(60, 64, 67, 0.15);\n",
              "      fill: #174EA6;\n",
              "    }\n",
              "\n",
              "    [theme=dark] .colab-df-convert {\n",
              "      background-color: #3B4455;\n",
              "      fill: #D2E3FC;\n",
              "    }\n",
              "\n",
              "    [theme=dark] .colab-df-convert:hover {\n",
              "      background-color: #434B5C;\n",
              "      box-shadow: 0px 1px 3px 1px rgba(0, 0, 0, 0.15);\n",
              "      filter: drop-shadow(0px 1px 2px rgba(0, 0, 0, 0.3));\n",
              "      fill: #FFFFFF;\n",
              "    }\n",
              "  </style>\n",
              "\n",
              "      <script>\n",
              "        const buttonEl =\n",
              "          document.querySelector('#df-a4599a31-1c64-495a-80da-d61735195ce5 button.colab-df-convert');\n",
              "        buttonEl.style.display =\n",
              "          google.colab.kernel.accessAllowed ? 'block' : 'none';\n",
              "\n",
              "        async function convertToInteractive(key) {\n",
              "          const element = document.querySelector('#df-a4599a31-1c64-495a-80da-d61735195ce5');\n",
              "          const dataTable =\n",
              "            await google.colab.kernel.invokeFunction('convertToInteractive',\n",
              "                                                     [key], {});\n",
              "          if (!dataTable) return;\n",
              "\n",
              "          const docLinkHtml = 'Like what you see? Visit the ' +\n",
              "            '<a target=\"_blank\" href=https://colab.research.google.com/notebooks/data_table.ipynb>data table notebook</a>'\n",
              "            + ' to learn more about interactive tables.';\n",
              "          element.innerHTML = '';\n",
              "          dataTable['output_type'] = 'display_data';\n",
              "          await google.colab.output.renderOutput(dataTable, element);\n",
              "          const docLink = document.createElement('div');\n",
              "          docLink.innerHTML = docLinkHtml;\n",
              "          element.appendChild(docLink);\n",
              "        }\n",
              "      </script>\n",
              "    </div>\n",
              "  </div>\n",
              "  "
            ],
            "text/plain": [
              "      Height(cm)\n",
              "Year            \n",
              "1900       170.0\n",
              "1910       172.1\n",
              "1920       173.1\n",
              "1930       173.4\n",
              "1940       176.1\n",
              "1950       177.1\n",
              "1960       177.3\n",
              "1970       178.3\n",
              "1980       179.0"
            ]
          },
          "metadata": {},
          "execution_count": 10
        }
      ]
    },
    {
      "cell_type": "markdown",
      "metadata": {
        "id": "JyEggVucno6r"
      },
      "source": [
        "### 6. Plot height vs. year\n",
        "- Extract the list of heights.\n",
        "- Extract the list of years.\n",
        "- Use `plt.plot()` to create a scatter plot."
      ]
    },
    {
      "cell_type": "code",
      "metadata": {
        "id": "eJie4oAOnvWo",
        "outputId": "3dac728b-3c3d-476c-998d-d452fe4abc39",
        "colab": {
          "base_uri": "https://localhost:8080/",
          "height": 282
        }
      },
      "source": [
        "heights = data['Height(cm)']\n",
        "years = data.index\n",
        "plt.plot(years, heights, 'g.')"
      ],
      "execution_count": 11,
      "outputs": [
        {
          "output_type": "execute_result",
          "data": {
            "text/plain": [
              "[<matplotlib.lines.Line2D at 0x7f793c939a50>]"
            ]
          },
          "metadata": {},
          "execution_count": 11
        },
        {
          "output_type": "display_data",
          "data": {
            "image/png": "[encoded data removed]",
            "text/plain": [
              "<Figure size 432x288 with 1 Axes>"
            ]
          },
          "metadata": {
            "needs_background": "light"
          }
        }
      ]
    },
    {
      "cell_type": "markdown",
      "metadata": {
        "id": "W4Lhccufnxsk"
      },
      "source": [
        "**How would you describe the trend?**\n",
        "1. Is there a trend?\n",
        "\n",
        "Answer: Yes\n",
        "2. Is the trend upward or downward?\n",
        "\n",
        "Answer: There is an increasing trend.\n",
        "3. It the trend consistent?\n",
        "\n",
        "Answer:The trend is flat during 1920s and 1950s. The increase is sharp during the 1930s.\n",
        "\n",
        "**Conclusion**: The trend closely follows a straight line."
      ]
    },
    {
      "cell_type": "markdown",
      "metadata": {
        "id": "pi2hHu3goFKy"
      },
      "source": [
        "## 7. Modeling\n",
        "\n",
        "Since we haven't studied any modeling method yet, let's use our intuition to find a function that describes the relation between year and height.\n",
        "- Linear model ($height = m \\cdot year + b$) seems a good fit to the data.\n",
        "- What is a good value for $m$?\n",
        "- What is a good value for $b$?\n",
        "- Plot the line represented by the linear model\n",
        "    - Create a list of x-coordinates using `np.linspace`\n",
        "    - Calculate the corresponding y-coordinates\n",
        "    - Use these two lists to plot the line."
      ]
    },
    {
      "cell_type": "code",
      "metadata": {
        "id": "TxAcEgyFoUFj",
        "outputId": "a467c753-7e6d-43f7-80c5-c81437c9c1ec",
        "colab": {
          "base_uri": "https://localhost:8080/"
        }
      },
      "source": [
        "# Calculate the average increase per year between 1900 and 1980\n",
        "\n",
        "m1 = (data.loc[1980, 'Height(cm)'] - data.loc[1900, 'Height(cm)']) / 80\n",
        "print(\"Slope:\", m1)"
      ],
      "execution_count": 12,
      "outputs": [
        {
          "output_type": "stream",
          "name": "stdout",
          "text": [
            "Slope: 0.1125\n"
          ]
        }
      ]
    },
    {
      "cell_type": "code",
      "metadata": {
        "id": "m73_5loQohPn",
        "outputId": "ac3b921e-bad1-4399-fdee-f61fb0532e52",
        "colab": {
          "base_uri": "https://localhost:8080/"
        }
      },
      "source": [
        "# Let the slope be the average rate of increase.\n",
        "# If the model is height = m * year + b, \n",
        "# find the value of b so that point (1900, 170.0) lies on the line.\n",
        "\n",
        "b1 = 170 - m1 * 1900\n",
        "print(b1)"
      ],
      "execution_count": 13,
      "outputs": [
        {
          "output_type": "stream",
          "name": "stdout",
          "text": [
            "-43.75\n"
          ]
        }
      ]
    },
    {
      "cell_type": "markdown",
      "source": [
        "Based on our discussion, the model is:\n",
        "\n",
        "Height = 0.1175 * Year - 43.75."
      ],
      "metadata": {
        "id": "rvIQF7W9fvsC"
      }
    },
    {
      "cell_type": "code",
      "metadata": {
        "id": "qGV3a7lzo3JE",
        "outputId": "b8a1aa45-0839-40c8-f37d-e0e287b301b5",
        "colab": {
          "base_uri": "https://localhost:8080/",
          "height": 282
        }
      },
      "source": [
        "# Plot the model line.\n",
        "x1_coordinates = [1890, 1990]\n",
        "y1_coordinates = []\n",
        "for year in x1_coordinates:\n",
        "    y1_coordinates.append(m1 * year + b1)\n",
        "\n",
        "plt.plot(x1_coordinates, y1_coordinates, \"b-\")\n",
        "plt.plot(years, heights, 'g.')\n",
        "m2 = 0.1125\n",
        "b2 = -43\n",
        "# Plot the model line.\n",
        "x_coordinates = [1890, 1990]\n",
        "y_coordinates = []\n",
        "for year in x_coordinates:\n",
        "    y_coordinates.append(m2 * year + b2)\n",
        "\n",
        "plt.plot(x_coordinates, y_coordinates, \"r-\")\n",
        "plt.plot(years, heights, 'g.')"
      ],
      "execution_count": 14,
      "outputs": [
        {
          "output_type": "execute_result",
          "data": {
            "text/plain": [
              "[<matplotlib.lines.Line2D at 0x7f793c3f1410>]"
            ]
          },
          "metadata": {},
          "execution_count": 14
        },
        {
          "output_type": "display_data",
          "data": {
            "image/png": "[encoded data removed]",
            "text/plain": [
              "<Figure size 432x288 with 1 Axes>"
            ]
          },
          "metadata": {
            "needs_background": "light"
          }
        }
      ]
    },
    {
      "cell_type": "markdown",
      "metadata": {
        "id": "cMVSz5VfpRg7"
      },
      "source": [
        "**Can you find another line that fits the model better?**"
      ]
    },
    {
      "cell_type": "code",
      "metadata": {
        "id": "i6ik6p7_pW0c",
        "outputId": "b2bab411-0ec0-4dbc-a22e-4665a26bba08",
        "colab": {
          "base_uri": "https://localhost:8080/",
          "height": 282
        }
      },
      "source": [
        "m2 = 0.1125\n",
        "b2 = -43\n",
        "# Plot the model line.\n",
        "x_coordinates = [1890, 1990]\n",
        "y_coordinates = []\n",
        "for year in x_coordinates:\n",
        "    y_coordinates.append(m2 * year + b2)\n",
        "\n",
        "plt.plot(x_coordinates, y_coordinates, \"r-\")\n",
        "plt.plot(years, heights, 'g.')"
      ],
      "execution_count": 15,
      "outputs": [
        {
          "output_type": "execute_result",
          "data": {
            "text/plain": [
              "[<matplotlib.lines.Line2D at 0x7f793c3c6110>]"
            ]
          },
          "metadata": {},
          "execution_count": 15
        },
        {
          "output_type": "display_data",
          "data": {
            "image/png": "[encoded data removed]",
            "text/plain": [
              "<Figure size 432x288 with 1 Axes>"
            ]
          },
          "metadata": {
            "needs_background": "light"
          }
        }
      ]
    },
    {
      "cell_type": "code",
      "source": [
        "# What are the model's prediction for 1900, 1920, ..., 1980?\n",
        "pred_1930 = m2 * 1930 + b2\n",
        "print(\"Model's prediction on 1930:\", pred_1930)\n",
        "print(\"The actual value on 1930:\", data.loc[1930, \"Height(cm)\"])\n",
        "print(\"The error made on 1930:\", pred_1930 - data.loc[1930, \"Height(cm)\"])"
      ],
      "metadata": {
        "id": "OBMmGxtZjB6w",
        "outputId": "d9d44a9a-14d3-49f0-cb32-6be76fbf71bf",
        "colab": {
          "base_uri": "https://localhost:8080/"
        }
      },
      "execution_count": 16,
      "outputs": [
        {
          "output_type": "stream",
          "name": "stdout",
          "text": [
            "Model's prediction on 1930: 174.125\n",
            "The actual value on 1930: 173.4\n",
            "The error made on 1930: 0.7249999999999943\n"
          ]
        }
      ]
    },
    {
      "cell_type": "code",
      "source": [
        "# Display the error made on 1900, 1910, 1920, ..., 1980\n",
        "for year in data.index:\n",
        "    pred = m2 * year + b2\n",
        "    print(\"Model's prediction on \", year, \":\", pred)\n",
        "    print(\"The actual value on \", year, \":\", data.loc[year, \"Height(cm)\"])\n",
        "    print(\"The error made on \", year, \":\", pred - data.loc[year, \"Height(cm)\"])\n",
        "    print(\"-\"*20)"
      ],
      "metadata": {
        "id": "l6MOOzHEj8hT",
        "outputId": "2ffd7657-1055-4c83-c4a1-fb77758d438c",
        "colab": {
          "base_uri": "https://localhost:8080/"
        }
      },
      "execution_count": 17,
      "outputs": [
        {
          "output_type": "stream",
          "name": "stdout",
          "text": [
            "Model's prediction on  1900 : 170.75\n",
            "The actual value on  1900 : 170.0\n",
            "The error made on  1900 : 0.75\n",
            "--------------------\n",
            "Model's prediction on  1910 : 171.875\n",
            "The actual value on  1910 : 172.1\n",
            "The error made on  1910 : -0.22499999999999432\n",
            "--------------------\n",
            "Model's prediction on  1920 : 173.0\n",
            "The actual value on  1920 : 173.1\n",
            "The error made on  1920 : -0.09999999999999432\n",
            "--------------------\n",
            "Model's prediction on  1930 : 174.125\n",
            "The actual value on  1930 : 173.4\n",
            "The error made on  1930 : 0.7249999999999943\n",
            "--------------------\n",
            "Model's prediction on  1940 : 175.25\n",
            "The actual value on  1940 : 176.1\n",
            "The error made on  1940 : -0.8499999999999943\n",
            "--------------------\n",
            "Model's prediction on  1950 : 176.375\n",
            "The actual value on  1950 : 177.1\n",
            "The error made on  1950 : -0.7249999999999943\n",
            "--------------------\n",
            "Model's prediction on  1960 : 177.5\n",
            "The actual value on  1960 : 177.3\n",
            "The error made on  1960 : 0.19999999999998863\n",
            "--------------------\n",
            "Model's prediction on  1970 : 178.625\n",
            "The actual value on  1970 : 178.3\n",
            "The error made on  1970 : 0.32499999999998863\n",
            "--------------------\n",
            "Model's prediction on  1980 : 179.75\n",
            "The actual value on  1980 : 179.0\n",
            "The error made on  1980 : 0.75\n",
            "--------------------\n"
          ]
        }
      ]
    },
    {
      "cell_type": "markdown",
      "metadata": {
        "id": "9AB-4-Nwo9is"
      },
      "source": [
        "## 8. Model Evaluation\n",
        "- Objective: find a linear model whose predictions are *close* to the actual values.\n",
        "- Metric on closeness: **mean square error (MSE) (sum up the value of diff in predicted_value - actual-value then get its square):**\n",
        "$$MSE = \\frac{1}{\\textit{number of data}}\\sum_{\\text{(x, y) in dataset}}(mx + b - y)^2$$\n",
        "\n",
        "Now that we have multiple model candidates, which one gives the smallest MSE?"
      ]
    },
    {
      "cell_type": "markdown",
      "source": [
        "\n",
        "- Metric on closeness: **mean absolute error (MAE):( sum up the absolute value of diff in predicted_value - actual-value then divide the number of rows of data)**\n",
        "$$MAE = \\frac{1}{\\textit{number of data}}\\sum_{\\text{(x, y) in dataset}}(mx + b - y)$$"
      ],
      "metadata": {
        "id": "DcZ-PRN6IzW1"
      }
    },
    {
      "cell_type": "markdown",
      "source": [
        "root mean square error (RMSE)"
      ],
      "metadata": {
        "id": "kF-Bj6JQLF_e"
      }
    },
    {
      "cell_type": "markdown",
      "source": [
        "Therefore, if comparing the prediction accuracy among different linear regression (LR)models then RMSE is a better option as it is simple to calculate and differentiable. However, if your dataset has outliers then choose MAE over RMSE."
      ],
      "metadata": {
        "id": "ZfVPw1jZLEDG"
      }
    },
    {
      "cell_type": "code",
      "metadata": {
        "id": "s2wVync3pD7G",
        "outputId": "9d36e736-78e6-4981-8d10-36cf206d6356",
        "colab": {
          "base_uri": "https://localhost:8080/"
        }
      },
      "source": [
        "# Example: Calculate the error for 1930\n",
        "pred_1930 = m2 * 1930 + b2\n",
        "print(\"Model's prediction on 1930:\", pred_1930)\n",
        "print(\"The actual value on 1930:\", data.loc[1930, \"Height(cm)\"])\n",
        "print(\"The error made on 1930:\", pred_1930 - data.loc[1930, \"Height(cm)\"])\n"
      ],
      "execution_count": 18,
      "outputs": [
        {
          "output_type": "stream",
          "name": "stdout",
          "text": [
            "Model's prediction on 1930: 174.125\n",
            "The actual value on 1930: 173.4\n",
            "The error made on 1930: 0.7249999999999943\n"
          ]
        }
      ]
    },
    {
      "cell_type": "code",
      "metadata": {
        "id": "RMqGDiuNpcZc",
        "outputId": "96b03767-a3b2-4bad-f210-0e678633a625",
        "colab": {
          "base_uri": "https://localhost:8080/"
        }
      },
      "source": [
        "# Calculate errors for each year\n",
        "mean_total = 0\n",
        "square_total = 0\n",
        "for year in data.index:\n",
        "    pred = m2 * year + b2\n",
        "    print(\"Model's prediction on \", year, \":\", pred)\n",
        "    print(\"The actual value on \", year, \":\", data.loc[year, \"Height(cm)\"])\n",
        "    print(\"The error made on \", year, \":\", pred - data.loc[year, \"Height(cm)\"])\n",
        "    print(\"-\"*20)\n",
        "    mean_total += abs(pred - data.loc[year, \"Height(cm)\"])\n",
        "    square_total += (pred - data.loc[year, \"Height(cm)\"]) * (pred - data.loc[year, \"Height(cm)\"])\n",
        "\n",
        "print(mean_total)\n",
        "print(square_total)\n"
      ],
      "execution_count": 19,
      "outputs": [
        {
          "output_type": "stream",
          "name": "stdout",
          "text": [
            "Model's prediction on  1900 : 170.75\n",
            "The actual value on  1900 : 170.0\n",
            "The error made on  1900 : 0.75\n",
            "--------------------\n",
            "Model's prediction on  1910 : 171.875\n",
            "The actual value on  1910 : 172.1\n",
            "The error made on  1910 : -0.22499999999999432\n",
            "--------------------\n",
            "Model's prediction on  1920 : 173.0\n",
            "The actual value on  1920 : 173.1\n",
            "The error made on  1920 : -0.09999999999999432\n",
            "--------------------\n",
            "Model's prediction on  1930 : 174.125\n",
            "The actual value on  1930 : 173.4\n",
            "The error made on  1930 : 0.7249999999999943\n",
            "--------------------\n",
            "Model's prediction on  1940 : 175.25\n",
            "The actual value on  1940 : 176.1\n",
            "The error made on  1940 : -0.8499999999999943\n",
            "--------------------\n",
            "Model's prediction on  1950 : 176.375\n",
            "The actual value on  1950 : 177.1\n",
            "The error made on  1950 : -0.7249999999999943\n",
            "--------------------\n",
            "Model's prediction on  1960 : 177.5\n",
            "The actual value on  1960 : 177.3\n",
            "The error made on  1960 : 0.19999999999998863\n",
            "--------------------\n",
            "Model's prediction on  1970 : 178.625\n",
            "The actual value on  1970 : 178.3\n",
            "The error made on  1970 : 0.32499999999998863\n",
            "--------------------\n",
            "Model's prediction on  1980 : 179.75\n",
            "The actual value on  1980 : 179.0\n",
            "The error made on  1980 : 0.75\n",
            "--------------------\n",
            "4.649999999999949\n",
            "3.1049999999999587\n"
          ]
        }
      ]
    },
    {
      "cell_type": "code",
      "metadata": {
        "id": "FUEnKHRcpdon",
        "outputId": "d8941dbd-6c49-43a1-b38e-613768e65cc9",
        "colab": {
          "base_uri": "https://localhost:8080/"
        }
      },
      "source": [
        "# Calculate the mean squared error abd mae\n",
        "MAE = mean_total / data.shape[0]\n",
        "MSE = square_total / data.shape[0]\n",
        "print(\"Red line:\", MSE, MAE)\n"
      ],
      "execution_count": 20,
      "outputs": [
        {
          "output_type": "stream",
          "name": "stdout",
          "text": [
            "Red line: 0.3449999999999954 0.516666666666661\n"
          ]
        }
      ]
    },
    {
      "cell_type": "code",
      "source": [
        "#calculate the MSE for blue line\n",
        "square_total = 0\n",
        "for year in data.index:\n",
        "    pred = m1 * year + b1\n",
        "    square_total += (pred - data.loc[year, \"Height(cm)\"]) * (pred - data.loc[year, \"Height(cm)\"])\n",
        "\n",
        "# Calculate the mean squared error abd mae\n",
        "MSE = square_total / data.shape[0]\n",
        "print(\"Blue line: \", MSE)"
      ],
      "metadata": {
        "id": "pTGvAz_7OaI1",
        "outputId": "3a66890e-f1cc-4594-9d1c-ef369dd94279",
        "colab": {
          "base_uri": "https://localhost:8080/"
        }
      },
      "execution_count": 21,
      "outputs": [
        {
          "output_type": "stream",
          "name": "stdout",
          "text": [
            "Blue line:  0.7658333333333297\n"
          ]
        }
      ]
    },
    {
      "cell_type": "markdown",
      "source": [
        "In conclusion, the smaller the MSE, the accurate the model"
      ],
      "metadata": {
        "id": "v6X7cbYCO7dg"
      }
    },
    {
      "cell_type": "markdown",
      "metadata": {
        "id": "sc0mEvmEpg16"
      },
      "source": [
        "## 9: Use the Model\n",
        "- What is your prediction on the average height in 1890?, 2000? 2050?\n",
        "- Check with the raw dataset and see if your 1890 prediction is close."
      ]
    },
    {
      "cell_type": "code",
      "metadata": {
        "id": "3zAqiKt_plut",
        "outputId": "1f49087c-48c4-4544-9744-6c8d23efd1c2",
        "colab": {
          "base_uri": "https://localhost:8080/"
        }
      },
      "source": [
        "# Calculate the model prediction for year = 1890\n",
        "pred_1890 = m2*1890+b2\n",
        "\n",
        "pred_1890"
      ],
      "execution_count": 22,
      "outputs": [
        {
          "output_type": "execute_result",
          "data": {
            "text/plain": [
              "169.625"
            ]
          },
          "metadata": {},
          "execution_count": 22
        }
      ]
    },
    {
      "cell_type": "code",
      "metadata": {
        "id": "G4EcFjuLptma",
        "outputId": "f8438142-fb6c-4de4-d206-ae763661a3ae",
        "colab": {
          "base_uri": "https://localhost:8080/",
          "height": 49
        }
      },
      "source": [
        "# Find the actual average height for year 1890.\n",
        "raw_data[(raw_data['Entity'] == \"United States\") & raw_data[\"Year\"]==1900]\n"
      ],
      "execution_count": 23,
      "outputs": [
        {
          "output_type": "execute_result",
          "data": {
            "text/html": [
              "\n",
              "  <div id=\"df-21737176-4cb5-4583-90e6-18b26994c7ef\">\n",
              "    <div class=\"colab-df-container\">\n",
              "      <div>\n",
              "<style scoped>\n",
              "    .dataframe tbody tr th:only-of-type {\n",
              "        vertical-align: middle;\n",
              "    }\n",
              "\n",
              "    .dataframe tbody tr th {\n",
              "        vertical-align: top;\n",
              "    }\n",
              "\n",
              "    .dataframe thead th {\n",
              "        text-align: right;\n",
              "    }\n",
              "</style>\n",
              "<table border=\"1\" class=\"dataframe\">\n",
              "  <thead>\n",
              "    <tr style=\"text-align: right;\">\n",
              "      <th></th>\n",
              "      <th>Entity</th>\n",
              "      <th>Code</th>\n",
              "      <th>Year</th>\n",
              "      <th>Human Height (University of Tuebingen (2015))</th>\n",
              "    </tr>\n",
              "  </thead>\n",
              "  <tbody>\n",
              "  </tbody>\n",
              "</table>\n",
              "</div>\n",
              "      <button class=\"colab-df-convert\" onclick=\"convertToInteractive('df-21737176-4cb5-4583-90e6-18b26994c7ef')\"\n",
              "              title=\"Convert this dataframe to an interactive table.\"\n",
              "              style=\"display:none;\">\n",
              "        \n",
              "  <svg xmlns=\"http://www.w3.org/2000/svg\" height=\"24px\"viewBox=\"0 0 24 24\"\n",
              "       width=\"24px\">\n",
              "    <path d=\"M0 0h24v24H0V0z\" fill=\"none\"/>\n",
              "    <path d=\"M18.56 5.44l.94 2.06.94-2.06 2.06-.94-2.06-.94-.94-2.06-.94 2.06-2.06.94zm-11 1L8.5 8.5l.94-2.06 2.06-.94-2.06-.94L8.5 2.5l-.94 2.06-2.06.94zm10 10l.94 2.06.94-2.06 2.06-.94-2.06-.94-.94-2.06-.94 2.06-2.06.94z\"/><path d=\"M17.41 7.96l-1.37-1.37c-.4-.4-.92-.59-1.43-.59-.52 0-1.04.2-1.43.59L10.3 9.45l-7.72 7.72c-.78.78-.78 2.05 0 2.83L4 21.41c.39.39.9.59 1.41.59.51 0 1.02-.2 1.41-.59l7.78-7.78 2.81-2.81c.8-.78.8-2.07 0-2.86zM5.41 20L4 18.59l7.72-7.72 1.47 1.35L5.41 20z\"/>\n",
              "  </svg>\n",
              "      </button>\n",
              "      \n",
              "  <style>\n",
              "    .colab-df-container {\n",
              "      display:flex;\n",
              "      flex-wrap:wrap;\n",
              "      gap: 12px;\n",
              "    }\n",
              "\n",
              "    .colab-df-convert {\n",
              "      background-color: #E8F0FE;\n",
              "      border: none;\n",
              "      border-radius: 50%;\n",
              "      cursor: pointer;\n",
              "      display: none;\n",
              "      fill: #1967D2;\n",
              "      height: 32px;\n",
              "      padding: 0 0 0 0;\n",
              "      width: 32px;\n",
              "    }\n",
              "\n",
              "    .colab-df-convert:hover {\n",
              "      background-color: #E2EBFA;\n",
              "      box-shadow: 0px 1px 2px rgba(60, 64, 67, 0.3), 0px 1px 3px 1px rgba(60, 64, 67, 0.15);\n",
              "      fill: #174EA6;\n",
              "    }\n",
              "\n",
              "    [theme=dark] .colab-df-convert {\n",
              "      background-color: #3B4455;\n",
              "      fill: #D2E3FC;\n",
              "    }\n",
              "\n",
              "    [theme=dark] .colab-df-convert:hover {\n",
              "      background-color: #434B5C;\n",
              "      box-shadow: 0px 1px 3px 1px rgba(0, 0, 0, 0.15);\n",
              "      filter: drop-shadow(0px 1px 2px rgba(0, 0, 0, 0.3));\n",
              "      fill: #FFFFFF;\n",
              "    }\n",
              "  </style>\n",
              "\n",
              "      <script>\n",
              "        const buttonEl =\n",
              "          document.querySelector('#df-21737176-4cb5-4583-90e6-18b26994c7ef button.colab-df-convert');\n",
              "        buttonEl.style.display =\n",
              "          google.colab.kernel.accessAllowed ? 'block' : 'none';\n",
              "\n",
              "        async function convertToInteractive(key) {\n",
              "          const element = document.querySelector('#df-21737176-4cb5-4583-90e6-18b26994c7ef');\n",
              "          const dataTable =\n",
              "            await google.colab.kernel.invokeFunction('convertToInteractive',\n",
              "                                                     [key], {});\n",
              "          if (!dataTable) return;\n",
              "\n",
              "          const docLinkHtml = 'Like what you see? Visit the ' +\n",
              "            '<a target=\"_blank\" href=https://colab.research.google.com/notebooks/data_table.ipynb>data table notebook</a>'\n",
              "            + ' to learn more about interactive tables.';\n",
              "          element.innerHTML = '';\n",
              "          dataTable['output_type'] = 'display_data';\n",
              "          await google.colab.output.renderOutput(dataTable, element);\n",
              "          const docLink = document.createElement('div');\n",
              "          docLink.innerHTML = docLinkHtml;\n",
              "          element.appendChild(docLink);\n",
              "        }\n",
              "      </script>\n",
              "    </div>\n",
              "  </div>\n",
              "  "
            ],
            "text/plain": [
              "Empty DataFrame\n",
              "Columns: [Entity, Code, Year, Human Height (University of Tuebingen (2015))]\n",
              "Index: []"
            ]
          },
          "metadata": {},
          "execution_count": 23
        }
      ]
    }
  ]
}