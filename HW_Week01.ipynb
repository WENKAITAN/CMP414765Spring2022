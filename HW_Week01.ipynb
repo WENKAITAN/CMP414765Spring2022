{
  "nbformat": 4,
  "nbformat_minor": 0,
  "metadata": {
    "colab": {
      "name": "HW_Week01",
      "provenance": [],
      "authorship_tag": "ABX9TyOiFUib3oMXCbh0VNHRGECM",
      "include_colab_link": true
    },
    "kernelspec": {
      "name": "python3",
      "display_name": "Python 3"
    },
    "language_info": {
      "name": "python"
    }
  },
  "cells": [
    {
      "cell_type": "markdown",
      "metadata": {
        "id": "view-in-github",
        "colab_type": "text"
      },
      "source": [
        "<a href=\"https://colab.research.google.com/github/ch00226855/CMP414765Spring2022/blob/main/HW_Week01.ipynb\" target=\"_parent\"><img src=\"https://colab.research.google.com/assets/colab-badge.svg\" alt=\"Open In Colab\"/></a>"
      ]
    },
    {
      "cell_type": "markdown",
      "source": [
        "# Week 1 Homework\n",
        "Please write Python programs and find solutions to the following problems:"
      ],
      "metadata": {
        "id": "_3073i6ys9N0"
      }
    },
    {
      "cell_type": "markdown",
      "source": [
        "1. Calculate the first 10 powers of 2: $2^1, 2^2, ..., 2^{10}$."
      ],
      "metadata": {
        "id": "I-jWNO1ytBkH"
      }
    },
    {
      "cell_type": "code",
      "source": [
        ""
      ],
      "metadata": {
        "id": "WUdfehYFtBmh"
      },
      "execution_count": null,
      "outputs": []
    },
    {
      "cell_type": "markdown",
      "source": [
        "2. Extract the names from the following string:"
      ],
      "metadata": {
        "id": "jJjaCEOHtGVb"
      }
    },
    {
      "cell_type": "code",
      "source": [
        "str1 = \"  Alice,   Bob,   Charlie,   David    \"\n"
      ],
      "metadata": {
        "id": "Tspt7nHctUwa"
      },
      "execution_count": null,
      "outputs": []
    },
    {
      "cell_type": "markdown",
      "source": [
        "Please convert the completed notebook to a PDF file and submit it to the assignment section on Blackboard by **Wednesday, Feburary 09 at 11:59pm**. "
      ],
      "metadata": {
        "id": "vnvtZhd4ta_1"
      }
    },
    {
      "cell_type": "code",
      "source": [
        ""
      ],
      "metadata": {
        "id": "kqJBGU6CuzK3"
      },
      "execution_count": null,
      "outputs": []
    }
  ]
}