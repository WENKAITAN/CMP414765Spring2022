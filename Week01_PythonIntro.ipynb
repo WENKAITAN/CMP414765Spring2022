{
  "nbformat": 4,
  "nbformat_minor": 0,
  "metadata": {
    "colab": {
      "name": "Week01_PythonIntro",
      "provenance": [],
      "collapsed_sections": [],
      "authorship_tag": "ABX9TyOkl+Z6XxSF/k4X1nVQAGnS",
      "include_colab_link": true
    },
    "kernelspec": {
      "name": "python3",
      "display_name": "Python 3"
    }
  },
  "cells": [
    {
      "cell_type": "markdown",
      "metadata": {
        "id": "view-in-github",
        "colab_type": "text"
      },
      "source": [
        "<a href=\"https://colab.research.google.com/github/ch00226855/CMP414765Spring2022/blob/main/Week01_PythonIntro.ipynb\" target=\"_parent\"><img src=\"https://colab.research.google.com/assets/colab-badge.svg\" alt=\"Open In Colab\"/></a>"
      ]
    },
    {
      "cell_type": "markdown",
      "metadata": {
        "id": "wY8eYMoyCHrm"
      },
      "source": [
        "# Week 1 Introduction to Python"
      ]
    },
    {
      "cell_type": "markdown",
      "metadata": {
        "id": "0Uu0-9HUSq1o"
      },
      "source": [
        "## Important Links\n",
        "- [Blackboard](http://www.lehman.edu/logins/)\n",
        "- [Course Github Repository](https://github.com/ch00226855/CMP414765Spring2022)\n",
        "- [Google Colaboratory](https://colab.research.google.com/)\n",
        "- [Anaconda Distribution for Python](https://www.anaconda.com/distribution/)"
      ]
    },
    {
      "cell_type": "markdown",
      "metadata": {
        "id": "s_E3iNYwStz3"
      },
      "source": [
        "## Python Tutorial"
      ]
    },
    {
      "cell_type": "markdown",
      "metadata": {
        "id": "FkI0kyPkuuIx"
      },
      "source": [
        "### 1. Hello World\n"
      ]
    },
    {
      "cell_type": "code",
      "metadata": {
        "id": "tCMTrQxUAeJn",
        "colab": {
          "base_uri": "https://localhost:8080/"
        },
        "outputId": "5ec2daca-e3de-40fe-9b18-4551301ba83d"
      },
      "source": [
        "# This prints Hello World\n",
        "print(\"Hello World\")"
      ],
      "execution_count": 1,
      "outputs": [
        {
          "output_type": "stream",
          "name": "stdout",
          "text": [
            "Hello World\n"
          ]
        }
      ]
    },
    {
      "cell_type": "markdown",
      "metadata": {
        "id": "yzTmHmCvu4BN"
      },
      "source": [
        "### 2. Variables\n",
        "- Declaration\n",
        "- Type"
      ]
    },
    {
      "cell_type": "code",
      "metadata": {
        "id": "YfsURQ1dAi1E",
        "colab": {
          "base_uri": "https://localhost:8080/"
        },
        "outputId": "9d87ba47-6ff3-4ffa-ce14-2aaa07a99c8c"
      },
      "source": [
        "# Variables\n",
        "a = 4\n",
        "b = -5\n",
        "print(a + b)"
      ],
      "execution_count": 2,
      "outputs": [
        {
          "output_type": "stream",
          "name": "stdout",
          "text": [
            "-1\n"
          ]
        }
      ]
    },
    {
      "cell_type": "code",
      "metadata": {
        "id": "C2LGIQcFC27Z",
        "colab": {
          "base_uri": "https://localhost:8080/",
          "height": 200
        },
        "outputId": "b0cfdfc3-68a6-4e62-9025-ea17fe77538e"
      },
      "source": [
        "# Type is important in python\n",
        "a2 = \"4\"\n",
        "print(a2 + b)"
      ],
      "execution_count": 3,
      "outputs": [
        {
          "output_type": "error",
          "ename": "TypeError",
          "evalue": "ignored",
          "traceback": [
            "\u001b[0;31m---------------------------------------------------------------------------\u001b[0m",
            "\u001b[0;31mTypeError\u001b[0m                                 Traceback (most recent call last)",
            "\u001b[0;32m<ipython-input-3-cdc774002ef9>\u001b[0m in \u001b[0;36m<module>\u001b[0;34m()\u001b[0m\n\u001b[1;32m      1\u001b[0m \u001b[0;31m# Type is important in python\u001b[0m\u001b[0;34m\u001b[0m\u001b[0;34m\u001b[0m\u001b[0;34m\u001b[0m\u001b[0m\n\u001b[1;32m      2\u001b[0m \u001b[0ma2\u001b[0m \u001b[0;34m=\u001b[0m \u001b[0;34m\"4\"\u001b[0m\u001b[0;34m\u001b[0m\u001b[0;34m\u001b[0m\u001b[0m\n\u001b[0;32m----> 3\u001b[0;31m \u001b[0mprint\u001b[0m\u001b[0;34m(\u001b[0m\u001b[0ma2\u001b[0m \u001b[0;34m+\u001b[0m \u001b[0mb\u001b[0m\u001b[0;34m)\u001b[0m\u001b[0;34m\u001b[0m\u001b[0;34m\u001b[0m\u001b[0m\n\u001b[0m",
            "\u001b[0;31mTypeError\u001b[0m: can only concatenate str (not \"int\") to str"
          ]
        }
      ]
    },
    {
      "cell_type": "code",
      "metadata": {
        "id": "Sgw-YIE8DLJY",
        "colab": {
          "base_uri": "https://localhost:8080/"
        },
        "outputId": "2bc939db-61e3-4646-b7c7-9f7cc771c6fd"
      },
      "source": [
        "# Show the type of a variable\n",
        "print(type(a))\n",
        "print(type(a2))"
      ],
      "execution_count": 4,
      "outputs": [
        {
          "output_type": "stream",
          "name": "stdout",
          "text": [
            "<class 'int'>\n",
            "<class 'str'>\n"
          ]
        }
      ]
    },
    {
      "cell_type": "code",
      "metadata": {
        "id": "yb2K09jcDfQr",
        "colab": {
          "base_uri": "https://localhost:8080/"
        },
        "outputId": "30669837-58ac-4453-9403-adb376aab3f5"
      },
      "source": [
        "c = 1.5\n",
        "d = True\n",
        "print(type(c))\n",
        "print(type(d))"
      ],
      "execution_count": 5,
      "outputs": [
        {
          "output_type": "stream",
          "name": "stdout",
          "text": [
            "<class 'float'>\n",
            "<class 'bool'>\n"
          ]
        }
      ]
    },
    {
      "cell_type": "code",
      "source": [
        "# The results of the last statement will be displayed automatically\n",
        "print(a * 2)\n",
        "a + c"
      ],
      "metadata": {
        "colab": {
          "base_uri": "https://localhost:8080/"
        },
        "id": "-hfLDY-AVjXj",
        "outputId": "17a53e50-31a7-4bc9-ede7-8aaabced879b"
      },
      "execution_count": 9,
      "outputs": [
        {
          "output_type": "stream",
          "name": "stdout",
          "text": [
            "8\n"
          ]
        },
        {
          "output_type": "execute_result",
          "data": {
            "text/plain": [
              "5.5"
            ]
          },
          "metadata": {},
          "execution_count": 9
        }
      ]
    },
    {
      "cell_type": "code",
      "metadata": {
        "id": "gcqBEYZbDs7Y",
        "colab": {
          "base_uri": "https://localhost:8080/"
        },
        "outputId": "292f751c-a08b-4e2c-e329-b0b548f7a910"
      },
      "source": [
        "type(float(a))"
      ],
      "execution_count": 10,
      "outputs": [
        {
          "output_type": "execute_result",
          "data": {
            "text/plain": [
              "float"
            ]
          },
          "metadata": {},
          "execution_count": 10
        }
      ]
    },
    {
      "cell_type": "markdown",
      "metadata": {
        "id": "26GGonIJvZTZ"
      },
      "source": [
        "### 3. Arithmetics"
      ]
    },
    {
      "cell_type": "code",
      "metadata": {
        "id": "GvHIWSggD5A-",
        "colab": {
          "base_uri": "https://localhost:8080/"
        },
        "outputId": "d993a466-44ba-4587-a001-b8ee58910413"
      },
      "source": [
        "# Arithmetics\n",
        "# +, -, *, /\n",
        "# Integer division\n",
        "print(4 / 3) # gives a floating point number\n",
        "print(4 // 3) # double division always give an integer\n",
        "# # Get remainder\n",
        "print(5 % 3) # give the remainder of integer division\n",
        "# # Power\n",
        "print(3 ** 2) # represents 3 to the power of 2 = 9\n",
        "print(3 ** (1/2)) # square root of 3"
      ],
      "execution_count": 14,
      "outputs": [
        {
          "output_type": "stream",
          "name": "stdout",
          "text": [
            "1.3333333333333333\n",
            "1\n",
            "2\n",
            "9\n",
            "1.7320508075688772\n"
          ]
        }
      ]
    },
    {
      "cell_type": "markdown",
      "metadata": {
        "id": "cao_PEgTFdAN"
      },
      "source": [
        "Exercise: quadratic formula:\n",
        "\n",
        "The solutions to equation $ax^2 + bx + c = 0$ are:\n",
        "\n",
        "$x = \\frac{-b \\pm \\sqrt{b^2 - 4ac}}{2a}$"
      ]
    },
    {
      "cell_type": "code",
      "metadata": {
        "id": "GMNNPsPuFuIz",
        "colab": {
          "base_uri": "https://localhost:8080/"
        },
        "outputId": "fe9865f2-b69c-4d55-aeba-a1aa2320dce3"
      },
      "source": [
        "a = -1\n",
        "b = 2\n",
        "c = 3\n",
        "\n",
        "# Ex. Use the quadratoc formula to find the solutions to ax^2 + bx + c = 0.\n",
        "x1 = (-b + (b ** 2 - 4 * a * c) ** (1/2)) / (2 * a)\n",
        "x2 = (-b - (b ** 2 - 4 * a * c) ** (1/2)) / (2 * a)\n",
        "print(\"Solutions:\", x1, \",\", x2)"
      ],
      "execution_count": 19,
      "outputs": [
        {
          "output_type": "stream",
          "name": "stdout",
          "text": [
            "Solutions: -1.0 , 3.0\n"
          ]
        }
      ]
    },
    {
      "cell_type": "markdown",
      "metadata": {
        "id": "_N9VYHSPu7QG"
      },
      "source": [
        "### 4. Assignment Operators"
      ]
    },
    {
      "cell_type": "code",
      "metadata": {
        "id": "Nul9PyctFUVu",
        "colab": {
          "base_uri": "https://localhost:8080/"
        },
        "outputId": "cca658ed-65cd-42c8-a7cd-3875552ae07d"
      },
      "source": [
        "a = 1\n",
        "a += 1 # a = a + 1\n",
        "print(a)\n",
        "b, c, d = 2, 3, 4\n",
        "b -= 5\n",
        "c *= 10\n",
        "d /= 2\n",
        "print(a, b, c, d)"
      ],
      "execution_count": 23,
      "outputs": [
        {
          "output_type": "stream",
          "name": "stdout",
          "text": [
            "2\n",
            "2 -3 30 2.0\n"
          ]
        }
      ]
    },
    {
      "cell_type": "code",
      "source": [
        "# a++ is not supported\n",
        "a += 10\n",
        "print(a)"
      ],
      "metadata": {
        "colab": {
          "base_uri": "https://localhost:8080/"
        },
        "id": "IJlDKo3pZhKB",
        "outputId": "7c578958-d189-44bc-cec1-bbb77144bffe"
      },
      "execution_count": 29,
      "outputs": [
        {
          "output_type": "stream",
          "name": "stdout",
          "text": [
            "17\n"
          ]
        }
      ]
    },
    {
      "cell_type": "markdown",
      "metadata": {
        "id": "A15kndiOu7Zn"
      },
      "source": [
        "### 5. Logical Operators"
      ]
    },
    {
      "cell_type": "code",
      "metadata": {
        "id": "KDAort5xF2QV"
      },
      "source": [
        "t, f = True, False\n",
        "print(t, f)"
      ],
      "execution_count": null,
      "outputs": []
    },
    {
      "cell_type": "code",
      "metadata": {
        "id": "m8kCogzcGAtJ",
        "colab": {
          "base_uri": "https://localhost:8080/"
        },
        "outputId": "10040cb8-4020-4fe6-b664-33aef0df2a56"
      },
      "source": [
        "print(True or False) # \"or\" means or\n",
        "print(True and False) # \"and\" means and\n",
        "print(not True)\n",
        "print(not False)"
      ],
      "execution_count": 30,
      "outputs": [
        {
          "output_type": "stream",
          "name": "stdout",
          "text": [
            "True\n",
            "False\n",
            "False\n",
            "True\n"
          ]
        }
      ]
    },
    {
      "cell_type": "code",
      "metadata": {
        "id": "VHlukoO9GYKV",
        "colab": {
          "base_uri": "https://localhost:8080/"
        },
        "outputId": "7d4d9a13-995c-47ff-a109-e4602460bb63"
      },
      "source": [
        "# Comparisons: >, <, ==, !=, >=, <=\n",
        "exp1 = (a > 5) and (b < 3)\n",
        "print(a, b, exp1)"
      ],
      "execution_count": 31,
      "outputs": [
        {
          "output_type": "stream",
          "name": "stdout",
          "text": [
            "17 -3 True\n"
          ]
        }
      ]
    },
    {
      "cell_type": "markdown",
      "source": [
        "## 6. Strings.\n",
        "Both `\"\"` and `''` can be used to define strings in Python."
      ],
      "metadata": {
        "id": "bZqBGLvLH68s"
      }
    },
    {
      "cell_type": "code",
      "metadata": {
        "id": "i68OFRA7GxWy",
        "colab": {
          "base_uri": "https://localhost:8080/"
        },
        "outputId": "dca84ebb-fce6-4e6c-c9d4-bed9a3d5e4e0"
      },
      "source": [
        "str1 = \"Hello\"\n",
        "str2 = 'World'\n",
        "str3 = '3'\n",
        "print(type(str3))\n",
        "print(str1 + \" \" + str2 + str3) # Use \"+\" to concatenate strings\n",
        "print(\"My \\n Name \\n Is \\t Liang.\")"
      ],
      "execution_count": 33,
      "outputs": [
        {
          "output_type": "stream",
          "name": "stdout",
          "text": [
            "<class 'str'>\n",
            "Hello World3\n",
            "My \n",
            " Name \n",
            " Is \t Liang.\n"
          ]
        }
      ]
    },
    {
      "cell_type": "code",
      "source": [
        "print('I said \"Good Morning\"') # If the string contains \"\", then use '' to define the string\n",
        "print(\"I said \\\"Good Morning\\\"\")"
      ],
      "metadata": {
        "id": "pFaGQG2ZHskZ",
        "colab": {
          "base_uri": "https://localhost:8080/"
        },
        "outputId": "d2880361-a8ff-45ac-f509-fda84c47a3fd"
      },
      "execution_count": 35,
      "outputs": [
        {
          "output_type": "stream",
          "name": "stdout",
          "text": [
            "I said \"Good Morning\"\n",
            "I said \"Good Morning\"\n"
          ]
        }
      ]
    },
    {
      "cell_type": "code",
      "metadata": {
        "id": "_Gnmou2bH1ac",
        "colab": {
          "base_uri": "https://localhost:8080/"
        },
        "outputId": "329de1ff-ccba-4366-b053-3f2f922ab848"
      },
      "source": [
        "# Remove extra space at the beginning and the end of a string\n",
        "data_value = \"     Liang Zhao     \"\n",
        "my_name = \"Liang Zhao\"\n",
        "print(data_value == my_name)\n",
        "print(data_value.strip())\n",
        "print(data_value.strip() == my_name)"
      ],
      "execution_count": 37,
      "outputs": [
        {
          "output_type": "stream",
          "name": "stdout",
          "text": [
            "False\n",
            "Liang Zhao\n",
            "True\n"
          ]
        }
      ]
    },
    {
      "cell_type": "code",
      "metadata": {
        "id": "ScTAukHDIbXE",
        "colab": {
          "base_uri": "https://localhost:8080/"
        },
        "outputId": "1dfab6a8-1616-44c3-b94c-61aa5c53f533"
      },
      "source": [
        "# Split a string\n",
        "file_names = \"Alex, Bob, Clare, David\"\n",
        "file_names.split(\", \")"
      ],
      "execution_count": 40,
      "outputs": [
        {
          "output_type": "execute_result",
          "data": {
            "text/plain": [
              "['Alex', 'Bob', 'Clare', 'David']"
            ]
          },
          "metadata": {},
          "execution_count": 40
        }
      ]
    },
    {
      "cell_type": "code",
      "metadata": {
        "id": "qoU3Y1bhI-Bv",
        "colab": {
          "base_uri": "https://localhost:8080/"
        },
        "outputId": "dd331b81-c128-4744-c1d4-52eb05131082"
      },
      "source": [
        "# String formatting\n",
        "float_num = 45.67898765\n",
        "print(float_num)\n",
        "print(\"%5.2f\" % (float_num))\n",
        "formatted_string = \"Name: %10s | Score: %5d | Value: %.2f\" % (\"Alex\", 89, 12.345)\n",
        "print(formatted_string)\n",
        "formatted_string = \"Name: %10s | Score: %5d | Value: %.2f\" % (\"Bob\", 9, 543.21)\n",
        "print(formatted_string)"
      ],
      "execution_count": 43,
      "outputs": [
        {
          "output_type": "stream",
          "name": "stdout",
          "text": [
            "45.67898765\n",
            "45.68\n",
            "Name:       Alex | Score:    89 | Value: 12.35\n",
            "Name:        Bob | Score:     9 | Value: 543.21\n"
          ]
        }
      ]
    },
    {
      "cell_type": "markdown",
      "metadata": {
        "id": "KSE9jRDPu7pM"
      },
      "source": [
        "### 7. Basic Data Structures\n",
        "- List\n",
        "- Set\n",
        "- Tuple\n",
        "- Dictionary"
      ]
    },
    {
      "cell_type": "code",
      "metadata": {
        "id": "ABsE-J47KuLg",
        "colab": {
          "base_uri": "https://localhost:8080/"
        },
        "outputId": "cfcc5e7d-0384-4002-b5ac-4d68f06399c2"
      },
      "source": [
        "# List\n",
        "list1 = [1, 2, 3, 4, 6.5, \"Monday\", True]\n",
        "print(list1)\n",
        "list1.append(12)\n",
        "print(list1)\n",
        "val = list1.pop()\n",
        "print(val)\n",
        "print(list1)"
      ],
      "execution_count": 49,
      "outputs": [
        {
          "output_type": "stream",
          "name": "stdout",
          "text": [
            "[1, 2, 3, 4, 6.5, 'Monday', True]\n",
            "[1, 2, 3, 4, 6.5, 'Monday', True, 12]\n",
            "12\n",
            "[1, 2, 3, 4, 6.5, 'Monday', True]\n"
          ]
        }
      ]
    },
    {
      "cell_type": "code",
      "metadata": {
        "id": "MFjPSyvmLfuK",
        "colab": {
          "base_uri": "https://localhost:8080/"
        },
        "outputId": "ac279010-b7f1-4f43-ac64-07aad3e9feed"
      },
      "source": [
        "# Indexing\n",
        "print(list1[0])\n",
        "print(list1[1])\n",
        "print(list1[-1])\n",
        "print(list1[-2])\n",
        "print(list1[2:5]) # the second index is exclusive\n",
        "print(list1[:5]) # omitting the first index means starting from 0\n",
        "print(list1[2:]) # omitting the second index means going to the end\n",
        "print(list1[:]) "
      ],
      "execution_count": 58,
      "outputs": [
        {
          "output_type": "stream",
          "name": "stdout",
          "text": [
            "1\n",
            "2\n",
            "True\n",
            "Monday\n",
            "[3, 4, 6.5]\n",
            "[1, 2, 3, 4, 6.5]\n",
            "[3, 4, 6.5, 'Monday', True]\n",
            "[1, 2, 3, 4, 6.5, 'Monday', True]\n"
          ]
        }
      ]
    },
    {
      "cell_type": "code",
      "metadata": {
        "id": "NDHetq2hM7HX",
        "colab": {
          "base_uri": "https://localhost:8080/"
        },
        "outputId": "79c99b3b-a680-433f-ca53-a5d467a503ce"
      },
      "source": [
        "len(list1)"
      ],
      "execution_count": 59,
      "outputs": [
        {
          "output_type": "execute_result",
          "data": {
            "text/plain": [
              "7"
            ]
          },
          "metadata": {},
          "execution_count": 59
        }
      ]
    },
    {
      "cell_type": "code",
      "source": [
        "# Change an element in a list\n",
        "list1[1] = 100\n",
        "print(list1)"
      ],
      "metadata": {
        "colab": {
          "base_uri": "https://localhost:8080/"
        },
        "id": "t-aHv777fiRk",
        "outputId": "37304ffe-f004-49a1-bb3d-7dd27faa2547"
      },
      "execution_count": 62,
      "outputs": [
        {
          "output_type": "stream",
          "name": "stdout",
          "text": [
            "[1, 100, 3, 4, 6.5, 'Monday', True]\n"
          ]
        }
      ]
    },
    {
      "cell_type": "code",
      "metadata": {
        "id": "X1zlhD-kM-iM",
        "colab": {
          "base_uri": "https://localhost:8080/"
        },
        "outputId": "d5ae6cf0-a545-4207-ca8f-eca32c331257"
      },
      "source": [
        "# Set\n",
        "set1 = {1, 2, 3, 3, 2, 1}\n",
        "print(set1)"
      ],
      "execution_count": 60,
      "outputs": [
        {
          "output_type": "stream",
          "name": "stdout",
          "text": [
            "{1, 2, 3}\n"
          ]
        }
      ]
    },
    {
      "cell_type": "code",
      "metadata": {
        "id": "pBMpWDYlNO6H",
        "colab": {
          "base_uri": "https://localhost:8080/",
          "height": 200
        },
        "outputId": "c59b2680-2c74-4cf6-d3ae-8f705854e816"
      },
      "source": [
        "# Tuple\n",
        "tuple1 = (1, 2, 3)\n",
        "\n",
        "# tuples are immutable\n",
        "tuple1[2] = 5 # invalid statement"
      ],
      "execution_count": 61,
      "outputs": [
        {
          "output_type": "error",
          "ename": "TypeError",
          "evalue": "ignored",
          "traceback": [
            "\u001b[0;31m---------------------------------------------------------------------------\u001b[0m",
            "\u001b[0;31mTypeError\u001b[0m                                 Traceback (most recent call last)",
            "\u001b[0;32m<ipython-input-61-bb017ea5b140>\u001b[0m in \u001b[0;36m<module>\u001b[0;34m()\u001b[0m\n\u001b[1;32m      3\u001b[0m \u001b[0;34m\u001b[0m\u001b[0m\n\u001b[1;32m      4\u001b[0m \u001b[0;31m# tuples are immutable\u001b[0m\u001b[0;34m\u001b[0m\u001b[0;34m\u001b[0m\u001b[0;34m\u001b[0m\u001b[0m\n\u001b[0;32m----> 5\u001b[0;31m \u001b[0mtuple1\u001b[0m\u001b[0;34m[\u001b[0m\u001b[0;36m2\u001b[0m\u001b[0;34m]\u001b[0m \u001b[0;34m=\u001b[0m \u001b[0;36m5\u001b[0m \u001b[0;31m# invalid statement\u001b[0m\u001b[0;34m\u001b[0m\u001b[0;34m\u001b[0m\u001b[0m\n\u001b[0m",
            "\u001b[0;31mTypeError\u001b[0m: 'tuple' object does not support item assignment"
          ]
        }
      ]
    },
    {
      "cell_type": "code",
      "metadata": {
        "id": "8lRPCt9KNftU",
        "colab": {
          "base_uri": "https://localhost:8080/"
        },
        "outputId": "6c16bdb8-d6d2-41c0-f065-3185801c0464"
      },
      "source": [
        "# Dictionary: (key, value)\n",
        "dict1 = {\"Alex\": \"A\",         \n",
        "         \"Bob\": \"B\", \n",
        "         \"Clare\": \"C\"}\n",
        "print(dict1['Alex'])\n",
        "print(dict1['Clare'])"
      ],
      "execution_count": 67,
      "outputs": [
        {
          "output_type": "stream",
          "name": "stdout",
          "text": [
            "A\n",
            "C\n"
          ]
        }
      ]
    },
    {
      "cell_type": "markdown",
      "metadata": {
        "id": "bVgPhOdnu7wg"
      },
      "source": [
        "\n",
        "### 8. Loops and Branches\n"
      ]
    },
    {
      "cell_type": "code",
      "metadata": {
        "id": "sYd1zvs0OnCa",
        "colab": {
          "base_uri": "https://localhost:8080/"
        },
        "outputId": "86f0fc18-ba74-4061-c2c1-4e39273147e6"
      },
      "source": [
        "names = ['Alex', 'Clare']\n",
        "for name in names: # for (variable) in (list of values):\n",
        "    print(dict1[name]) # Use indentation (4 spaces) to indicate the loop body\n",
        "\n",
        "    print(names)"
      ],
      "execution_count": 68,
      "outputs": [
        {
          "output_type": "stream",
          "name": "stdout",
          "text": [
            "A\n",
            "['Alex', 'Clare']\n",
            "C\n",
            "['Alex', 'Clare']\n"
          ]
        }
      ]
    },
    {
      "cell_type": "code",
      "source": [
        "a = 0\n",
        "while a < 10:\n",
        "    print(a)\n",
        "    a += 1"
      ],
      "metadata": {
        "id": "S5O5u0k7INld"
      },
      "execution_count": null,
      "outputs": []
    },
    {
      "cell_type": "code",
      "metadata": {
        "id": "82ApyVg9OqG6"
      },
      "source": [
        "a = 2\n",
        "if a > 0:\n",
        "    print(\"Greater than zero.\")\n",
        "else: \n",
        "    print(\"Not greater than zero.\")"
      ],
      "execution_count": null,
      "outputs": []
    },
    {
      "cell_type": "code",
      "metadata": {
        "id": "U4cQB9oIO52f"
      },
      "source": [
        "a = 2\n",
        "b = 4\n",
        "if a < 0:\n",
        "    print(\"a less than zero\")\n",
        "elif b > 0: # \"elif\" means \"else if\"\n",
        "    print(\"a not less than zero, and b greater than zero\")\n",
        "else:\n",
        "    print(\"neither is greater than zero\")"
      ],
      "execution_count": null,
      "outputs": []
    },
    {
      "cell_type": "markdown",
      "metadata": {
        "id": "8fWcw5WMu75g"
      },
      "source": [
        "### 9. List Comprehensions"
      ]
    },
    {
      "cell_type": "code",
      "metadata": {
        "id": "Ug_cd-5yPao5"
      },
      "source": [
        "list1 = [1, 2, 3, 4, 5]\n",
        "# create a list whose values are 10 * values from list1:\n",
        "# Solution 1:\n",
        "list2 = []\n",
        "for elt in list1:\n",
        "    list2.append(10 * elt)\n",
        "print(list2)\n",
        "# Solution 2:\n",
        "list2 = [ (10 * x) for x in list1   ]\n",
        "print(list2)\n",
        "\n",
        "#Example: For each element in list1: change it to 0 if it is negative, remove it if it is greater than 10\n",
        "list1 = [1, -5, 20, 12, 0]\n",
        "# Solution 1:\n",
        "list2 = []\n",
        "for x in list1:\n",
        "    if x < 0:\n",
        "        list2.append(0)\n",
        "    elif x > 10:\n",
        "        continue\n",
        "    else:\n",
        "        list2.append(x)\n",
        "print(list2)"
      ],
      "execution_count": null,
      "outputs": []
    },
    {
      "cell_type": "markdown",
      "metadata": {
        "id": "d4rrACaLu8DX"
      },
      "source": [
        "### 10. Functions and Classes"
      ]
    },
    {
      "cell_type": "code",
      "metadata": {
        "id": "gkBO1AkESMO2"
      },
      "source": [
        "def sum_of_list(list1):\n",
        "    sum = 0\n",
        "    for x in list1:\n",
        "        sum += x\n",
        "    return sum"
      ],
      "execution_count": null,
      "outputs": []
    },
    {
      "cell_type": "code",
      "metadata": {
        "id": "oO9qcwz9SeTX"
      },
      "source": [
        "sum_of_list(list1)"
      ],
      "execution_count": null,
      "outputs": []
    },
    {
      "cell_type": "code",
      "metadata": {
        "id": "F6ExJvmbv5nN"
      },
      "source": [
        "#  A function can return multiple values\n",
        "def sum_and_product(list1):\n",
        "    sum = 0\n",
        "    product = 1\n",
        "    for x in list1:\n",
        "        sum += x\n",
        "        product *= x\n",
        "    return sum, product"
      ],
      "execution_count": null,
      "outputs": []
    },
    {
      "cell_type": "code",
      "metadata": {
        "id": "FtKnOuJjSt04"
      },
      "source": [
        "list1_sum, list1_product = sum_and_product(list1)\n",
        "print(list1_sum, list1_product)"
      ],
      "execution_count": null,
      "outputs": []
    },
    {
      "cell_type": "code",
      "metadata": {
        "id": "qENq27qvS3Mm"
      },
      "source": [
        "def implicit_list_mod(list1):\n",
        "    list1[0] = 100"
      ],
      "execution_count": null,
      "outputs": []
    },
    {
      "cell_type": "code",
      "metadata": {
        "id": "qS2e2oZTTCg-"
      },
      "source": [
        "implicit_list_mod(list1) # lists are passed in by reference\n",
        "print(list1)"
      ],
      "execution_count": null,
      "outputs": []
    },
    {
      "cell_type": "code",
      "metadata": {
        "id": "Gc-u3xc2TWS3"
      },
      "source": [
        "# Some parameters can have default values.\n",
        "def addition(x, y=1):\n",
        "    return x + y"
      ],
      "execution_count": null,
      "outputs": []
    },
    {
      "cell_type": "code",
      "metadata": {
        "id": "O8158hRRThMR"
      },
      "source": [
        "print(addition(5, 6))\n",
        "print(addition(10))\n",
        "print(addition(\"123\", \"456\"))"
      ],
      "execution_count": null,
      "outputs": []
    },
    {
      "cell_type": "code",
      "metadata": {
        "id": "5i1jiblnUJwD"
      },
      "source": [
        "class Student:\n",
        "\n",
        "    def __init__(self, name, age):\n",
        "        self.name = name\n",
        "        self.age = age\n",
        "\n",
        "    def print(self):\n",
        "        print(self.name, \" \", self.age)"
      ],
      "execution_count": null,
      "outputs": []
    },
    {
      "cell_type": "code",
      "metadata": {
        "id": "eypetCdTUo05"
      },
      "source": [
        "student1 = Student(\"Alex\", 15)\n",
        "student1.print()"
      ],
      "execution_count": null,
      "outputs": []
    },
    {
      "cell_type": "markdown",
      "metadata": {
        "id": "NPOeK0KQVoJs"
      },
      "source": [
        "## Example: Heights for Men in the US"
      ]
    },
    {
      "cell_type": "code",
      "metadata": {
        "id": "VOQmbG9kVsaV"
      },
      "source": [
        "# 1. create two python lists containing average heights from 1900 to 1980\n",
        "list_year = [1900, 1910, 1920, 1930, 1940, 1950, 1960, 1970, 1980]\n",
        "list_height = [170, 172.1, 173.1, 173.4, 176.1, 177.1, 177.3, 178.3, 179]\n",
        "print(len(list_year), len(list_height))"
      ],
      "execution_count": null,
      "outputs": []
    },
    {
      "cell_type": "code",
      "metadata": {
        "id": "kk_094wYWK9F"
      },
      "source": [
        "# 2. Plot a gragh\n",
        "import matplotlib.pyplot as plt # import libraries\n",
        "plt.plot(list_year, list_height)"
      ],
      "execution_count": null,
      "outputs": []
    },
    {
      "cell_type": "code",
      "metadata": {
        "id": "6WYwWfIwWwPu"
      },
      "source": [
        "# Create a list that contains rate of change in list1\n",
        "# how much is increased from 1900 to 1910?\n",
        "rate = (172.1 - 170) / (1910 - 1900) # how many centimeters are increased per year?\n",
        "rate2 = (172.1 - 170) / 170 # the percentage of increase\n",
        "rate3 = (list_height[1] - list_height[0]) / list_height[0]\n",
        "print(rate)\n",
        "print(rate2)\n",
        "print(rate3)"
      ],
      "execution_count": null,
      "outputs": []
    },
    {
      "cell_type": "code",
      "metadata": {
        "id": "R_LanLeQX7EH"
      },
      "source": [
        "rate_1910_1920 = (list_height[2] - list_height[1]) / list_height[1]\n",
        "print(rate_1910_1920)"
      ],
      "execution_count": null,
      "outputs": []
    },
    {
      "cell_type": "code",
      "metadata": {
        "id": "_giCdxEVYoRO"
      },
      "source": [
        "list_rates = []\n",
        "for k in [0, 1, 2, 3, 4, 5, 6, 7]:\n",
        "    # for the k-th decade:\n",
        "    rate_kth_decade = (list_height[k+1] - list_height[k]) / list_height[k]\n",
        "    list_rates.append(rate_kth_decade)\n",
        "print(list_rates)"
      ],
      "execution_count": null,
      "outputs": []
    },
    {
      "cell_type": "code",
      "metadata": {
        "id": "yPbXiNKJ7N6K"
      },
      "source": [
        ""
      ],
      "execution_count": null,
      "outputs": []
    }
  ]
}