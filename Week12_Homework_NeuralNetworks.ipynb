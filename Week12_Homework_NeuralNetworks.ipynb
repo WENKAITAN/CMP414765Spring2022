{
  "nbformat": 4,
  "nbformat_minor": 0,
  "metadata": {
    "colab": {
      "name": "Week12_Homework_FashionMNIST",
      "provenance": [],
      "include_colab_link": true
    },
    "kernelspec": {
      "name": "python3",
      "display_name": "Python 3"
    },
    "language_info": {
      "name": "python"
    }
  },
  "cells": [
    {
      "cell_type": "markdown",
      "metadata": {
        "id": "view-in-github",
        "colab_type": "text"
      },
      "source": [
        "<a href=\"https://colab.research.google.com/github/WENKAITAN/CMP414765Spring2022/blob/main/Week12_Homework_NeuralNetworks.ipynb\" target=\"_parent\"><img src=\"https://colab.research.google.com/assets/colab-badge.svg\" alt=\"Open In Colab\"/></a>"
      ]
    },
    {
      "cell_type": "markdown",
      "metadata": {
        "id": "wWOqbZO9V36N"
      },
      "source": [
        "# Homework: FashionMNIST\n",
        "\n",
        "For this homework assignment, you are asked to build a neural network classifier on the FasionMNIST dataset. The FashionMNIST dataset has a lot in common with the MNIST dataset:\n",
        "- The dataset contains 70,000 grayscale images, split into training set (60,000 images) and test set (10,000 images).\n",
        "- The resolution of images is 28 by 28 pixels.\n",
        "- There are a total of 10 target labels.\n",
        "\n",
        "<img src=\"https://tensorflow.org/images/fashion-mnist-sprite.png\" width=\"600\">"
      ]
    },
    {
      "cell_type": "code",
      "metadata": {
        "id": "ryKQmAcpV7Yh",
        "outputId": "4b9508ea-2ed0-40a7-a4a8-d660c71712f6",
        "colab": {
          "base_uri": "https://localhost:8080/"
        }
      },
      "source": [
        "import numpy as np\n",
        "import tensorflow as tf\n",
        "import matplotlib.pyplot as plt\n",
        "from sklearn.metrics import confusion_matrix\n",
        "print(\"Version: \", tf.__version__)"
      ],
      "execution_count": 20,
      "outputs": [
        {
          "output_type": "stream",
          "name": "stdout",
          "text": [
            "Version:  2.8.0\n"
          ]
        }
      ]
    },
    {
      "cell_type": "code",
      "metadata": {
        "id": "z2YkOEyRV7ax",
        "outputId": "1a55c726-7948-48cb-c590-524c9c176637",
        "colab": {
          "base_uri": "https://localhost:8080/"
        }
      },
      "source": [
        "# Import the dataset\n",
        "fashion_mnist = tf.keras.datasets.fashion_mnist\n",
        "\n",
        "(train_images, train_labels), (test_images, test_labels) = fashion_mnist.load_data()"
      ],
      "execution_count": 2,
      "outputs": [
        {
          "output_type": "stream",
          "name": "stdout",
          "text": [
            "Downloading data from https://storage.googleapis.com/tensorflow/tf-keras-datasets/train-labels-idx1-ubyte.gz\n",
            "32768/29515 [=================================] - 0s 0us/step\n",
            "40960/29515 [=========================================] - 0s 0us/step\n",
            "Downloading data from https://storage.googleapis.com/tensorflow/tf-keras-datasets/train-images-idx3-ubyte.gz\n",
            "26427392/26421880 [==============================] - 0s 0us/step\n",
            "26435584/26421880 [==============================] - 0s 0us/step\n",
            "Downloading data from https://storage.googleapis.com/tensorflow/tf-keras-datasets/t10k-labels-idx1-ubyte.gz\n",
            "16384/5148 [===============================================================================================] - 0s 0us/step\n",
            "Downloading data from https://storage.googleapis.com/tensorflow/tf-keras-datasets/t10k-images-idx3-ubyte.gz\n",
            "4423680/4422102 [==============================] - 0s 0us/step\n",
            "4431872/4422102 [==============================] - 0s 0us/step\n"
          ]
        }
      ]
    },
    {
      "cell_type": "code",
      "metadata": {
        "id": "CSm_u-O6V7dh"
      },
      "source": [
        "# Here are the list of class names\n",
        "class_names = ['T-shirt/top', 'Trouser', 'Pullover', 'Dress', 'Coat',\n",
        "               'Sandal', 'Shirt', 'Sneaker', 'Bag', 'Ankle boot']"
      ],
      "execution_count": 3,
      "outputs": []
    },
    {
      "cell_type": "markdown",
      "metadata": {
        "id": "1oO38lwbV7f9"
      },
      "source": [
        "Please complete the following tasks:\n",
        "1. Scale the values to [0, 1] by dividing every value by 255.0.\n",
        "2. Use `plt.imshow()` to display the first image from the training set.\n",
        "3. Build a neural network with three layers:\n",
        "    - The first layer is a flatten layer of size 28 * 28.\n",
        "    - The second layer is a dense layer with 128 nodes, with ReLU as activation function.\n",
        "    - The last layer is a dense layer with 10 nodes without activation.\n",
        "4. Compile the model, using `adam` as optimizer and `tf.keras.losses.SparseCategoricalCrossentropy(from_logits=True)` as loss function. Use `accuracy` as performance metrics.\n",
        "5. Train the model using `train_images` and `train_labels` for 10 epochs.\n",
        "6. Evaluate the accuracy on the test set.\n",
        "7. Compute the confusion matrix over test set. Which type of prediction mistake occurs most frequently?"
      ]
    },
    {
      "cell_type": "code",
      "metadata": {
        "id": "NGAfn9ZKV7io"
      },
      "source": [
        "# Convert the data from integers to floating-point numbers\n",
        "train_images, test_images = train_images / 255.0, test_images / 255.0"
      ],
      "execution_count": 4,
      "outputs": []
    },
    {
      "cell_type": "code",
      "source": [
        "idx = 0\n",
        "img = train_images[idx, :, :] # : means that we include all indices\n",
        "print(\"Shape of the image:\", img.shape)\n",
        "plt.imshow(img, cmap=plt.cm.binary)"
      ],
      "metadata": {
        "id": "G0RZfTStN-OY",
        "outputId": "972ab4a3-f52e-499d-9667-0f145744b662",
        "colab": {
          "base_uri": "https://localhost:8080/",
          "height": 300
        }
      },
      "execution_count": 9,
      "outputs": [
        {
          "output_type": "stream",
          "name": "stdout",
          "text": [
            "Shape of the image: (28, 28)\n"
          ]
        },
        {
          "output_type": "execute_result",
          "data": {
            "text/plain": [
              "<matplotlib.image.AxesImage at 0x7f0847858690>"
            ]
          },
          "metadata": {},
          "execution_count": 9
        },
        {
          "output_type": "display_data",
          "data": {
            "text/plain": [
              "<Figure size 432x288 with 1 Axes>"
            ],
            "image/png": "[encoded data removed]"
          },
          "metadata": {
            "needs_background": "light"
          }
        }
      ]
    },
    {
      "cell_type": "code",
      "source": [
        "# Build a neural network model by stacking layers.\n",
        "model = tf.keras.models.Sequential([\n",
        "    tf.keras.layers.Flatten(input_shape=(28, 28)), # convert a 28*28 matrix into a 784 1D array\n",
        "    tf.keras.layers.Dense(128, activation='relu'),\n",
        "    tf.keras.layers.Dense(128, activation='relu'),\n",
        "    tf.keras.layers.Dense(10)                                   \n",
        "])"
      ],
      "metadata": {
        "id": "MuobVtT4Of38"
      },
      "execution_count": 10,
      "outputs": []
    },
    {
      "cell_type": "code",
      "source": [
        "# Let's introduce a function that measures the prediction error.\n",
        "loss_fn = tf.keras.losses.SparseCategoricalCrossentropy(from_logits=True)"
      ],
      "metadata": {
        "id": "gd7lbJ2uOwEA"
      },
      "execution_count": 11,
      "outputs": []
    },
    {
      "cell_type": "code",
      "source": [
        "# Set up the training environment\n",
        "model.compile(optimizer='adam',\n",
        "              loss=loss_fn,\n",
        "              metrics=['accuracy'])"
      ],
      "metadata": {
        "id": "7lwyz9h-Owlx"
      },
      "execution_count": 12,
      "outputs": []
    },
    {
      "cell_type": "code",
      "source": [
        "model.summary()"
      ],
      "metadata": {
        "id": "o413G5LGO2l_",
        "outputId": "b9a244ef-7501-452c-cc54-eff13deac4fc",
        "colab": {
          "base_uri": "https://localhost:8080/"
        }
      },
      "execution_count": 13,
      "outputs": [
        {
          "output_type": "stream",
          "name": "stdout",
          "text": [
            "Model: \"sequential\"\n",
            "_________________________________________________________________\n",
            " Layer (type)                Output Shape              Param #   \n",
            "=================================================================\n",
            " flatten (Flatten)           (None, 784)               0         \n",
            "                                                                 \n",
            " dense (Dense)               (None, 128)               100480    \n",
            "                                                                 \n",
            " dense_1 (Dense)             (None, 128)               16512     \n",
            "                                                                 \n",
            " dense_2 (Dense)             (None, 10)                1290      \n",
            "                                                                 \n",
            "=================================================================\n",
            "Total params: 118,282\n",
            "Trainable params: 118,282\n",
            "Non-trainable params: 0\n",
            "_________________________________________________________________\n"
          ]
        }
      ]
    },
    {
      "cell_type": "code",
      "source": [
        "# The Model.fit method adjusts the model parameters to minimize the loss\n",
        "model.fit(train_images, train_labels, epochs=10)"
      ],
      "metadata": {
        "id": "HHYt8L91O2pG",
        "outputId": "fefeeac6-e9b5-4bca-9d15-acd92440fb83",
        "colab": {
          "base_uri": "https://localhost:8080/"
        }
      },
      "execution_count": 14,
      "outputs": [
        {
          "output_type": "stream",
          "name": "stdout",
          "text": [
            "Epoch 1/10\n",
            "1875/1875 [==============================] - 10s 5ms/step - loss: 0.4808 - accuracy: 0.8274\n",
            "Epoch 2/10\n",
            "1875/1875 [==============================] - 10s 5ms/step - loss: 0.3619 - accuracy: 0.8657\n",
            "Epoch 3/10\n",
            "1875/1875 [==============================] - 9s 5ms/step - loss: 0.3303 - accuracy: 0.8794\n",
            "Epoch 4/10\n",
            "1875/1875 [==============================] - 15s 8ms/step - loss: 0.3062 - accuracy: 0.8865\n",
            "Epoch 5/10\n",
            "1875/1875 [==============================] - 17s 9ms/step - loss: 0.2888 - accuracy: 0.8920\n",
            "Epoch 6/10\n",
            "1875/1875 [==============================] - 16s 9ms/step - loss: 0.2741 - accuracy: 0.8965\n",
            "Epoch 7/10\n",
            "1875/1875 [==============================] - 19s 10ms/step - loss: 0.2626 - accuracy: 0.9009\n",
            "Epoch 8/10\n",
            "1875/1875 [==============================] - 14s 7ms/step - loss: 0.2499 - accuracy: 0.9058\n",
            "Epoch 9/10\n",
            "1875/1875 [==============================] - 16s 9ms/step - loss: 0.2413 - accuracy: 0.9094\n",
            "Epoch 10/10\n",
            "1875/1875 [==============================] - 13s 7ms/step - loss: 0.2307 - accuracy: 0.9123\n"
          ]
        },
        {
          "output_type": "execute_result",
          "data": {
            "text/plain": [
              "<keras.callbacks.History at 0x7f0843184d50>"
            ]
          },
          "metadata": {},
          "execution_count": 14
        }
      ]
    },
    {
      "cell_type": "code",
      "source": [
        "# The above loss and accuracy is for the training data. Let's evaluate the model on the test set.\n",
        "model.evaluate(test_images, test_labels)"
      ],
      "metadata": {
        "id": "aQcmENpAPqwM",
        "outputId": "cb557cb7-5300-4d47-b1f8-2c99b0580bed",
        "colab": {
          "base_uri": "https://localhost:8080/"
        }
      },
      "execution_count": 15,
      "outputs": [
        {
          "output_type": "stream",
          "name": "stdout",
          "text": [
            "313/313 [==============================] - 1s 3ms/step - loss: 0.3326 - accuracy: 0.8829\n"
          ]
        },
        {
          "output_type": "execute_result",
          "data": {
            "text/plain": [
              "[0.332590788602829, 0.8828999996185303]"
            ]
          },
          "metadata": {},
          "execution_count": 15
        }
      ]
    },
    {
      "cell_type": "code",
      "source": [
        "# Normalize data\n",
        "def normalize(x):\n",
        "    \"\"\"\n",
        "        argument\n",
        "            - x: input image data in numpy array [32, 32, 3]\n",
        "        return\n",
        "            - normalized x \n",
        "    \"\"\"\n",
        "    min_val = np.min(x)\n",
        "    max_val = np.max(x)\n",
        "    x = (x-min_val) / (max_val-min_val)\n",
        "    return x"
      ],
      "metadata": {
        "id": "3MkyAx7hO2rW"
      },
      "execution_count": 16,
      "outputs": []
    },
    {
      "cell_type": "code",
      "source": [
        "test_features_scaled = normalize(test_images)"
      ],
      "metadata": {
        "id": "wZCFxOVjUC1D"
      },
      "execution_count": 25,
      "outputs": []
    },
    {
      "cell_type": "code",
      "source": [
        "test_labels = np.array(test_labels)\n",
        "test_labels.shape"
      ],
      "metadata": {
        "id": "Og0ir5goUH83",
        "outputId": "16bb95de-87d8-42a5-c221-8f2e5bad33ea",
        "colab": {
          "base_uri": "https://localhost:8080/"
        }
      },
      "execution_count": 27,
      "outputs": [
        {
          "output_type": "execute_result",
          "data": {
            "text/plain": [
              "(10000,)"
            ]
          },
          "metadata": {},
          "execution_count": 27
        }
      ]
    },
    {
      "cell_type": "code",
      "source": [
        "test_predictions = model(test_features_scaled)\n",
        "test_predictions"
      ],
      "metadata": {
        "id": "70vZFDoXSWLW",
        "outputId": "b908e81d-514d-4835-dc35-f9dba61e4bf3",
        "colab": {
          "base_uri": "https://localhost:8080/"
        }
      },
      "execution_count": 29,
      "outputs": [
        {
          "output_type": "execute_result",
          "data": {
            "text/plain": [
              "<tf.Tensor: shape=(10000, 10), dtype=float32, numpy=\n",
              "array([[-12.874358  ,  -3.2973397 , -10.046543  , ...,   2.1329374 ,\n",
              "        -12.469752  ,   6.285324  ],\n",
              "       [ -4.345888  , -20.299711  ,   9.106304  , ..., -36.83519   ,\n",
              "        -12.805811  , -32.347305  ],\n",
              "       [ -3.7129722 ,  22.019472  ,  -8.956979  , ..., -45.847122  ,\n",
              "         -8.38054   , -27.43892   ],\n",
              "       ...,\n",
              "       [ -2.4429426 , -10.485128  ,  -4.69516   , ..., -13.896547  ,\n",
              "          5.620138  , -19.116514  ],\n",
              "       [ -6.067945  ,  14.452473  ,  -6.8280725 , ..., -30.714977  ,\n",
              "         -3.10895   , -17.205406  ],\n",
              "       [ -5.081861  ,  -8.599255  ,  -4.621266  , ...,  -2.920509  ,\n",
              "         -0.62964815,  -7.868111  ]], dtype=float32)>"
            ]
          },
          "metadata": {},
          "execution_count": 29
        }
      ]
    },
    {
      "cell_type": "code",
      "source": [
        "test_predictions_labels = []\n",
        "for ind in range(10000):\n",
        "    pred = np.argmax(tf.nn.softmax(test_predictions[ind]))\n",
        "    test_predictions_labels.append(pred)\n",
        "print(test_predictions_labels[:10])"
      ],
      "metadata": {
        "id": "v_2_2ckyUfm5",
        "outputId": "8296c5a7-706e-4a57-ea46-9ace65d4b3cc",
        "colab": {
          "base_uri": "https://localhost:8080/"
        }
      },
      "execution_count": 30,
      "outputs": [
        {
          "output_type": "stream",
          "name": "stdout",
          "text": [
            "[9, 2, 1, 1, 6, 1, 4, 6, 5, 7]\n"
          ]
        }
      ]
    },
    {
      "cell_type": "code",
      "source": [
        "confusion_matrix(test_labels, test_predictions_labels)"
      ],
      "metadata": {
        "id": "QO1OHop4TdJr",
        "outputId": "f2274b1b-80c2-466f-c10b-423e3c9b1ead",
        "colab": {
          "base_uri": "https://localhost:8080/"
        }
      },
      "execution_count": 31,
      "outputs": [
        {
          "output_type": "execute_result",
          "data": {
            "text/plain": [
              "array([[802,   1,  16,  28,   3,   1, 146,   0,   3,   0],\n",
              "       [  2, 973,   1,  17,   3,   1,   3,   0,   0,   0],\n",
              "       [ 11,   0, 800,  11,  72,   0, 105,   0,   1,   0],\n",
              "       [ 17,   5,  11, 916,  24,   0,  24,   0,   3,   0],\n",
              "       [  2,   0, 122,  37, 733,   0, 104,   0,   2,   0],\n",
              "       [  0,   0,   0,   0,   0, 975,   0,  18,   0,   7],\n",
              "       [100,   0,  60,  33,  41,   0, 762,   0,   4,   0],\n",
              "       [  0,   0,   0,   0,   0,  14,   0, 970,   0,  16],\n",
              "       [  5,   1,   4,   6,   2,   3,  15,   4, 960,   0],\n",
              "       [  0,   0,   0,   0,   0,   8,   1,  53,   0, 938]])"
            ]
          },
          "metadata": {},
          "execution_count": 31
        }
      ]
    },
    {
      "cell_type": "markdown",
      "source": [
        "Which type of prediction mistake occurs most frequently?\n",
        "There are 146 T-shirt/Tops mistaken as Shirts."
      ],
      "metadata": {
        "id": "0AmVfQzVVQyx"
      }
    }
  ]
}