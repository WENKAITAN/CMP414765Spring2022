{
  "nbformat": 4,
  "nbformat_minor": 0,
  "metadata": {
    "colab": {
      "name": "Week05_LinearRegression",
      "provenance": [],
      "include_colab_link": true
    },
    "kernelspec": {
      "name": "python3",
      "display_name": "Python 3"
    }
  },
  "cells": [
    {
      "cell_type": "markdown",
      "metadata": {
        "id": "view-in-github",
        "colab_type": "text"
      },
      "source": [
        "<a href=\"https://colab.research.google.com/github/WENKAITAN/CMP414765Spring2022/blob/main/Week05_LinearRegression.ipynb\" target=\"_parent\"><img src=\"https://colab.research.google.com/assets/colab-badge.svg\" alt=\"Open In Colab\"/></a>"
      ]
    },
    {
      "cell_type": "markdown",
      "metadata": {
        "id": "u7HIsHhxuk-V"
      },
      "source": [
        "# Week 5\n",
        "# Simple Linear Regression and the Normal Equation\n",
        "\n",
        "So far we have treated machine learning models and their training algorithms mostly like black boxes. Starting from Chapter 4, we will look into the mechanism of several popular machine learning models, analyze them mathematically and learn how to implement the methods from scratch. Let's start with the linear regression model.\n",
        "\n",
        "**Reading**: Textbook, Chapter 4"
      ]
    },
    {
      "cell_type": "markdown",
      "metadata": {
        "id": "aQ2Gz9YPupfu"
      },
      "source": [
        "## I. Simple Linear regression: Sales Prediction\n",
        "\n",
        "To put things into context, let's look at a dataset that contains the sales revenue and the advertising budgets of a company in 200 different markets."
      ]
    },
    {
      "cell_type": "code",
      "metadata": {
        "id": "OlGlaCOhupiD"
      },
      "source": [
        "import numpy as np\n",
        "import pandas as pd\n",
        "import matplotlib.pyplot as plt\n",
        "%matplotlib inline"
      ],
      "execution_count": 1,
      "outputs": []
    },
    {
      "cell_type": "code",
      "metadata": {
        "id": "WQ6pwyVTupkY",
        "outputId": "8f85db58-3fc7-40c7-ebd2-149fe69548b7",
        "colab": {
          "base_uri": "https://localhost:8080/",
          "height": 206
        }
      },
      "source": [
        "url = \"https://www.statlearning.com/s/Advertising.csv\"\n",
        "advertising = pd.read_csv(url, index_col=0)\n",
        "advertising.head()"
      ],
      "execution_count": 7,
      "outputs": [
        {
          "output_type": "execute_result",
          "data": {
            "text/html": [
              "\n",
              "  <div id=\"df-bb54bc11-3606-42cd-bdc1-3b2e588734c7\">\n",
              "    <div class=\"colab-df-container\">\n",
              "      <div>\n",
              "<style scoped>\n",
              "    .dataframe tbody tr th:only-of-type {\n",
              "        vertical-align: middle;\n",
              "    }\n",
              "\n",
              "    .dataframe tbody tr th {\n",
              "        vertical-align: top;\n",
              "    }\n",
              "\n",
              "    .dataframe thead th {\n",
              "        text-align: right;\n",
              "    }\n",
              "</style>\n",
              "<table border=\"1\" class=\"dataframe\">\n",
              "  <thead>\n",
              "    <tr style=\"text-align: right;\">\n",
              "      <th></th>\n",
              "      <th>TV</th>\n",
              "      <th>radio</th>\n",
              "      <th>newspaper</th>\n",
              "      <th>sales</th>\n",
              "    </tr>\n",
              "  </thead>\n",
              "  <tbody>\n",
              "    <tr>\n",
              "      <th>1</th>\n",
              "      <td>230.1</td>\n",
              "      <td>37.8</td>\n",
              "      <td>69.2</td>\n",
              "      <td>22.1</td>\n",
              "    </tr>\n",
              "    <tr>\n",
              "      <th>2</th>\n",
              "      <td>44.5</td>\n",
              "      <td>39.3</td>\n",
              "      <td>45.1</td>\n",
              "      <td>10.4</td>\n",
              "    </tr>\n",
              "    <tr>\n",
              "      <th>3</th>\n",
              "      <td>17.2</td>\n",
              "      <td>45.9</td>\n",
              "      <td>69.3</td>\n",
              "      <td>9.3</td>\n",
              "    </tr>\n",
              "    <tr>\n",
              "      <th>4</th>\n",
              "      <td>151.5</td>\n",
              "      <td>41.3</td>\n",
              "      <td>58.5</td>\n",
              "      <td>18.5</td>\n",
              "    </tr>\n",
              "    <tr>\n",
              "      <th>5</th>\n",
              "      <td>180.8</td>\n",
              "      <td>10.8</td>\n",
              "      <td>58.4</td>\n",
              "      <td>12.9</td>\n",
              "    </tr>\n",
              "  </tbody>\n",
              "</table>\n",
              "</div>\n",
              "      <button class=\"colab-df-convert\" onclick=\"convertToInteractive('df-bb54bc11-3606-42cd-bdc1-3b2e588734c7')\"\n",
              "              title=\"Convert this dataframe to an interactive table.\"\n",
              "              style=\"display:none;\">\n",
              "        \n",
              "  <svg xmlns=\"http://www.w3.org/2000/svg\" height=\"24px\"viewBox=\"0 0 24 24\"\n",
              "       width=\"24px\">\n",
              "    <path d=\"M0 0h24v24H0V0z\" fill=\"none\"/>\n",
              "    <path d=\"M18.56 5.44l.94 2.06.94-2.06 2.06-.94-2.06-.94-.94-2.06-.94 2.06-2.06.94zm-11 1L8.5 8.5l.94-2.06 2.06-.94-2.06-.94L8.5 2.5l-.94 2.06-2.06.94zm10 10l.94 2.06.94-2.06 2.06-.94-2.06-.94-.94-2.06-.94 2.06-2.06.94z\"/><path d=\"M17.41 7.96l-1.37-1.37c-.4-.4-.92-.59-1.43-.59-.52 0-1.04.2-1.43.59L10.3 9.45l-7.72 7.72c-.78.78-.78 2.05 0 2.83L4 21.41c.39.39.9.59 1.41.59.51 0 1.02-.2 1.41-.59l7.78-7.78 2.81-2.81c.8-.78.8-2.07 0-2.86zM5.41 20L4 18.59l7.72-7.72 1.47 1.35L5.41 20z\"/>\n",
              "  </svg>\n",
              "      </button>\n",
              "      \n",
              "  <style>\n",
              "    .colab-df-container {\n",
              "      display:flex;\n",
              "      flex-wrap:wrap;\n",
              "      gap: 12px;\n",
              "    }\n",
              "\n",
              "    .colab-df-convert {\n",
              "      background-color: #E8F0FE;\n",
              "      border: none;\n",
              "      border-radius: 50%;\n",
              "      cursor: pointer;\n",
              "      display: none;\n",
              "      fill: #1967D2;\n",
              "      height: 32px;\n",
              "      padding: 0 0 0 0;\n",
              "      width: 32px;\n",
              "    }\n",
              "\n",
              "    .colab-df-convert:hover {\n",
              "      background-color: #E2EBFA;\n",
              "      box-shadow: 0px 1px 2px rgba(60, 64, 67, 0.3), 0px 1px 3px 1px rgba(60, 64, 67, 0.15);\n",
              "      fill: #174EA6;\n",
              "    }\n",
              "\n",
              "    [theme=dark] .colab-df-convert {\n",
              "      background-color: #3B4455;\n",
              "      fill: #D2E3FC;\n",
              "    }\n",
              "\n",
              "    [theme=dark] .colab-df-convert:hover {\n",
              "      background-color: #434B5C;\n",
              "      box-shadow: 0px 1px 3px 1px rgba(0, 0, 0, 0.15);\n",
              "      filter: drop-shadow(0px 1px 2px rgba(0, 0, 0, 0.3));\n",
              "      fill: #FFFFFF;\n",
              "    }\n",
              "  </style>\n",
              "\n",
              "      <script>\n",
              "        const buttonEl =\n",
              "          document.querySelector('#df-bb54bc11-3606-42cd-bdc1-3b2e588734c7 button.colab-df-convert');\n",
              "        buttonEl.style.display =\n",
              "          google.colab.kernel.accessAllowed ? 'block' : 'none';\n",
              "\n",
              "        async function convertToInteractive(key) {\n",
              "          const element = document.querySelector('#df-bb54bc11-3606-42cd-bdc1-3b2e588734c7');\n",
              "          const dataTable =\n",
              "            await google.colab.kernel.invokeFunction('convertToInteractive',\n",
              "                                                     [key], {});\n",
              "          if (!dataTable) return;\n",
              "\n",
              "          const docLinkHtml = 'Like what you see? Visit the ' +\n",
              "            '<a target=\"_blank\" href=https://colab.research.google.com/notebooks/data_table.ipynb>data table notebook</a>'\n",
              "            + ' to learn more about interactive tables.';\n",
              "          element.innerHTML = '';\n",
              "          dataTable['output_type'] = 'display_data';\n",
              "          await google.colab.output.renderOutput(dataTable, element);\n",
              "          const docLink = document.createElement('div');\n",
              "          docLink.innerHTML = docLinkHtml;\n",
              "          element.appendChild(docLink);\n",
              "        }\n",
              "      </script>\n",
              "    </div>\n",
              "  </div>\n",
              "  "
            ],
            "text/plain": [
              "      TV  radio  newspaper  sales\n",
              "1  230.1   37.8       69.2   22.1\n",
              "2   44.5   39.3       45.1   10.4\n",
              "3   17.2   45.9       69.3    9.3\n",
              "4  151.5   41.3       58.5   18.5\n",
              "5  180.8   10.8       58.4   12.9"
            ]
          },
          "metadata": {},
          "execution_count": 7
        }
      ]
    },
    {
      "cell_type": "code",
      "metadata": {
        "id": "S-euVXtvupmr",
        "outputId": "f3c31932-c3fe-4bb2-f9cb-9e2f47d17216",
        "colab": {
          "base_uri": "https://localhost:8080/"
        }
      },
      "source": [
        "advertising.info()"
      ],
      "execution_count": 3,
      "outputs": [
        {
          "output_type": "stream",
          "name": "stdout",
          "text": [
            "<class 'pandas.core.frame.DataFrame'>\n",
            "Int64Index: 200 entries, 1 to 200\n",
            "Data columns (total 4 columns):\n",
            " #   Column     Non-Null Count  Dtype  \n",
            "---  ------     --------------  -----  \n",
            " 0   TV         200 non-null    float64\n",
            " 1   radio      200 non-null    float64\n",
            " 2   newspaper  200 non-null    float64\n",
            " 3   sales      200 non-null    float64\n",
            "dtypes: float64(4)\n",
            "memory usage: 7.8 KB\n"
          ]
        }
      ]
    },
    {
      "cell_type": "code",
      "metadata": {
        "id": "4eh00tLDuppH",
        "outputId": "89207295-dba3-4e58-c820-094f95147a78",
        "colab": {
          "base_uri": "https://localhost:8080/",
          "height": 300
        }
      },
      "source": [
        "advertising.describe()"
      ],
      "execution_count": 4,
      "outputs": [
        {
          "output_type": "execute_result",
          "data": {
            "text/html": [
              "\n",
              "  <div id=\"df-0a6b7e8f-80a8-4848-b101-c8bd51970146\">\n",
              "    <div class=\"colab-df-container\">\n",
              "      <div>\n",
              "<style scoped>\n",
              "    .dataframe tbody tr th:only-of-type {\n",
              "        vertical-align: middle;\n",
              "    }\n",
              "\n",
              "    .dataframe tbody tr th {\n",
              "        vertical-align: top;\n",
              "    }\n",
              "\n",
              "    .dataframe thead th {\n",
              "        text-align: right;\n",
              "    }\n",
              "</style>\n",
              "<table border=\"1\" class=\"dataframe\">\n",
              "  <thead>\n",
              "    <tr style=\"text-align: right;\">\n",
              "      <th></th>\n",
              "      <th>TV</th>\n",
              "      <th>radio</th>\n",
              "      <th>newspaper</th>\n",
              "      <th>sales</th>\n",
              "    </tr>\n",
              "  </thead>\n",
              "  <tbody>\n",
              "    <tr>\n",
              "      <th>count</th>\n",
              "      <td>200.000000</td>\n",
              "      <td>200.000000</td>\n",
              "      <td>200.000000</td>\n",
              "      <td>200.000000</td>\n",
              "    </tr>\n",
              "    <tr>\n",
              "      <th>mean</th>\n",
              "      <td>147.042500</td>\n",
              "      <td>23.264000</td>\n",
              "      <td>30.554000</td>\n",
              "      <td>14.022500</td>\n",
              "    </tr>\n",
              "    <tr>\n",
              "      <th>std</th>\n",
              "      <td>85.854236</td>\n",
              "      <td>14.846809</td>\n",
              "      <td>21.778621</td>\n",
              "      <td>5.217457</td>\n",
              "    </tr>\n",
              "    <tr>\n",
              "      <th>min</th>\n",
              "      <td>0.700000</td>\n",
              "      <td>0.000000</td>\n",
              "      <td>0.300000</td>\n",
              "      <td>1.600000</td>\n",
              "    </tr>\n",
              "    <tr>\n",
              "      <th>25%</th>\n",
              "      <td>74.375000</td>\n",
              "      <td>9.975000</td>\n",
              "      <td>12.750000</td>\n",
              "      <td>10.375000</td>\n",
              "    </tr>\n",
              "    <tr>\n",
              "      <th>50%</th>\n",
              "      <td>149.750000</td>\n",
              "      <td>22.900000</td>\n",
              "      <td>25.750000</td>\n",
              "      <td>12.900000</td>\n",
              "    </tr>\n",
              "    <tr>\n",
              "      <th>75%</th>\n",
              "      <td>218.825000</td>\n",
              "      <td>36.525000</td>\n",
              "      <td>45.100000</td>\n",
              "      <td>17.400000</td>\n",
              "    </tr>\n",
              "    <tr>\n",
              "      <th>max</th>\n",
              "      <td>296.400000</td>\n",
              "      <td>49.600000</td>\n",
              "      <td>114.000000</td>\n",
              "      <td>27.000000</td>\n",
              "    </tr>\n",
              "  </tbody>\n",
              "</table>\n",
              "</div>\n",
              "      <button class=\"colab-df-convert\" onclick=\"convertToInteractive('df-0a6b7e8f-80a8-4848-b101-c8bd51970146')\"\n",
              "              title=\"Convert this dataframe to an interactive table.\"\n",
              "              style=\"display:none;\">\n",
              "        \n",
              "  <svg xmlns=\"http://www.w3.org/2000/svg\" height=\"24px\"viewBox=\"0 0 24 24\"\n",
              "       width=\"24px\">\n",
              "    <path d=\"M0 0h24v24H0V0z\" fill=\"none\"/>\n",
              "    <path d=\"M18.56 5.44l.94 2.06.94-2.06 2.06-.94-2.06-.94-.94-2.06-.94 2.06-2.06.94zm-11 1L8.5 8.5l.94-2.06 2.06-.94-2.06-.94L8.5 2.5l-.94 2.06-2.06.94zm10 10l.94 2.06.94-2.06 2.06-.94-2.06-.94-.94-2.06-.94 2.06-2.06.94z\"/><path d=\"M17.41 7.96l-1.37-1.37c-.4-.4-.92-.59-1.43-.59-.52 0-1.04.2-1.43.59L10.3 9.45l-7.72 7.72c-.78.78-.78 2.05 0 2.83L4 21.41c.39.39.9.59 1.41.59.51 0 1.02-.2 1.41-.59l7.78-7.78 2.81-2.81c.8-.78.8-2.07 0-2.86zM5.41 20L4 18.59l7.72-7.72 1.47 1.35L5.41 20z\"/>\n",
              "  </svg>\n",
              "      </button>\n",
              "      \n",
              "  <style>\n",
              "    .colab-df-container {\n",
              "      display:flex;\n",
              "      flex-wrap:wrap;\n",
              "      gap: 12px;\n",
              "    }\n",
              "\n",
              "    .colab-df-convert {\n",
              "      background-color: #E8F0FE;\n",
              "      border: none;\n",
              "      border-radius: 50%;\n",
              "      cursor: pointer;\n",
              "      display: none;\n",
              "      fill: #1967D2;\n",
              "      height: 32px;\n",
              "      padding: 0 0 0 0;\n",
              "      width: 32px;\n",
              "    }\n",
              "\n",
              "    .colab-df-convert:hover {\n",
              "      background-color: #E2EBFA;\n",
              "      box-shadow: 0px 1px 2px rgba(60, 64, 67, 0.3), 0px 1px 3px 1px rgba(60, 64, 67, 0.15);\n",
              "      fill: #174EA6;\n",
              "    }\n",
              "\n",
              "    [theme=dark] .colab-df-convert {\n",
              "      background-color: #3B4455;\n",
              "      fill: #D2E3FC;\n",
              "    }\n",
              "\n",
              "    [theme=dark] .colab-df-convert:hover {\n",
              "      background-color: #434B5C;\n",
              "      box-shadow: 0px 1px 3px 1px rgba(0, 0, 0, 0.15);\n",
              "      filter: drop-shadow(0px 1px 2px rgba(0, 0, 0, 0.3));\n",
              "      fill: #FFFFFF;\n",
              "    }\n",
              "  </style>\n",
              "\n",
              "      <script>\n",
              "        const buttonEl =\n",
              "          document.querySelector('#df-0a6b7e8f-80a8-4848-b101-c8bd51970146 button.colab-df-convert');\n",
              "        buttonEl.style.display =\n",
              "          google.colab.kernel.accessAllowed ? 'block' : 'none';\n",
              "\n",
              "        async function convertToInteractive(key) {\n",
              "          const element = document.querySelector('#df-0a6b7e8f-80a8-4848-b101-c8bd51970146');\n",
              "          const dataTable =\n",
              "            await google.colab.kernel.invokeFunction('convertToInteractive',\n",
              "                                                     [key], {});\n",
              "          if (!dataTable) return;\n",
              "\n",
              "          const docLinkHtml = 'Like what you see? Visit the ' +\n",
              "            '<a target=\"_blank\" href=https://colab.research.google.com/notebooks/data_table.ipynb>data table notebook</a>'\n",
              "            + ' to learn more about interactive tables.';\n",
              "          element.innerHTML = '';\n",
              "          dataTable['output_type'] = 'display_data';\n",
              "          await google.colab.output.renderOutput(dataTable, element);\n",
              "          const docLink = document.createElement('div');\n",
              "          docLink.innerHTML = docLinkHtml;\n",
              "          element.appendChild(docLink);\n",
              "        }\n",
              "      </script>\n",
              "    </div>\n",
              "  </div>\n",
              "  "
            ],
            "text/plain": [
              "               TV       radio   newspaper       sales\n",
              "count  200.000000  200.000000  200.000000  200.000000\n",
              "mean   147.042500   23.264000   30.554000   14.022500\n",
              "std     85.854236   14.846809   21.778621    5.217457\n",
              "min      0.700000    0.000000    0.300000    1.600000\n",
              "25%     74.375000    9.975000   12.750000   10.375000\n",
              "50%    149.750000   22.900000   25.750000   12.900000\n",
              "75%    218.825000   36.525000   45.100000   17.400000\n",
              "max    296.400000   49.600000  114.000000   27.000000"
            ]
          },
          "metadata": {},
          "execution_count": 4
        }
      ]
    },
    {
      "cell_type": "code",
      "metadata": {
        "id": "34vliqiQuprc",
        "outputId": "c76d2394-0c18-4bfb-f791-3fcd0f6fce38",
        "colab": {
          "base_uri": "https://localhost:8080/",
          "height": 608
        }
      },
      "source": [
        "fig = advertising.hist(figsize=(10, 10))"
      ],
      "execution_count": 5,
      "outputs": [
        {
          "output_type": "display_data",
          "data": {
            "image/png": "[encoded data removed]",
            "text/plain": [
              "<Figure size 720x720 with 4 Axes>"
            ]
          },
          "metadata": {
            "needs_background": "light"
          }
        }
      ]
    },
    {
      "cell_type": "code",
      "metadata": {
        "id": "yfmol9Hxupt9",
        "outputId": "69712461-9b89-4b4b-fe03-3617b9830f92",
        "colab": {
          "base_uri": "https://localhost:8080/",
          "height": 295
        }
      },
      "source": [
        "# plot TV vs. sales\n",
        "plt.plot(advertising['TV'], advertising['sales'], 'g.')\n",
        "plt.title(\"TV vs. sales\")\n",
        "plt.xlabel(\"TV budget\")\n",
        "plt.ylabel(\"Sales Revenue\")\n",
        "plt.savefig(\"TVvsSales.png\")\n",
        "plt.show() # this is needed in other Python environments"
      ],
      "execution_count": 8,
      "outputs": [
        {
          "output_type": "display_data",
          "data": {
            "image/png": "[encoded data removed]",
            "text/plain": [
              "<Figure size 432x288 with 1 Axes>"
            ]
          },
          "metadata": {
            "needs_background": "light"
          }
        }
      ]
    },
    {
      "cell_type": "code",
      "metadata": {
        "id": "IdmR2IQmupwR",
        "outputId": "a66c8eef-51b5-48a1-a187-db110bbc197f",
        "colab": {
          "base_uri": "https://localhost:8080/",
          "height": 313
        }
      },
      "source": [
        "# Exercise:\n",
        "# plot radio vs. sales\n",
        "\n",
        "plt.plot(advertising['radio'], advertising['sales'], 'g.')\n",
        "plt.title(\"Radio vs. sales\")\n",
        "plt.xlabel(\"Radio budget\")\n",
        "plt.ylabel(\"Sales Revenue\")\n"
      ],
      "execution_count": 11,
      "outputs": [
        {
          "output_type": "execute_result",
          "data": {
            "text/plain": [
              "Text(0, 0.5, 'Sales Revenue')"
            ]
          },
          "metadata": {},
          "execution_count": 11
        },
        {
          "output_type": "display_data",
          "data": {
            "image/png": "[encoded data removed]",
            "text/plain": [
              "<Figure size 432x288 with 1 Axes>"
            ]
          },
          "metadata": {
            "needs_background": "light"
          }
        }
      ]
    },
    {
      "cell_type": "code",
      "metadata": {
        "id": "IPWxPApfupy8",
        "outputId": "dd9780fb-a906-49cc-bd83-6b38ed955c65",
        "colab": {
          "base_uri": "https://localhost:8080/",
          "height": 313
        }
      },
      "source": [
        "# Exercise:\n",
        "# plot newspaper vs. sales\n",
        "\n",
        "plt.plot(advertising['newspaper'], advertising['sales'], 'g.')\n",
        "plt.title(\"newspaper vs. sales\")\n",
        "plt.xlabel(\"newspaper budget\")\n",
        "plt.ylabel(\"Sales Revenue\")\n"
      ],
      "execution_count": 12,
      "outputs": [
        {
          "output_type": "execute_result",
          "data": {
            "text/plain": [
              "Text(0, 0.5, 'Sales Revenue')"
            ]
          },
          "metadata": {},
          "execution_count": 12
        },
        {
          "output_type": "display_data",
          "data": {
            "image/png": "[encoded data removed]",
            "text/plain": [
              "<Figure size 432x288 with 1 Axes>"
            ]
          },
          "metadata": {
            "needs_background": "light"
          }
        }
      ]
    },
    {
      "cell_type": "markdown",
      "metadata": {
        "id": "APBfXCE_up3Z"
      },
      "source": [
        "### Correlation Coefficient: Numerical Measure of Correlations\n",
        "The **correlation coefficient** is a numerical measurement of **linear correlation** between two variables.\n",
        "- The value of correlation coefficient always lies in [-1, 1].\n",
        "- If there is a strong positive correlation, then the coefficient is close to 1.\n",
        "- If there is a strong negative correlation, then the coefficient is close to -1.\n",
        "- If there is a very weak correlation, then the coefficient is close to 0.\n",
        "- However, a near-zero coeffient may be caused by non-linear correlations.\n",
        "![](https://upload.wikimedia.org/wikipedia/commons/d/d4/Correlation_examples2.svg)"
      ]
    },
    {
      "cell_type": "code",
      "metadata": {
        "id": "8jpDO9UFup5w",
        "outputId": "0dfeb327-8770-4e5b-d265-c86bf26e7c8c",
        "colab": {
          "base_uri": "https://localhost:8080/",
          "height": 175
        }
      },
      "source": [
        "# Calculate pair-wise correlation coefficients\n",
        "advertising.corr()"
      ],
      "execution_count": 13,
      "outputs": [
        {
          "output_type": "execute_result",
          "data": {
            "text/html": [
              "\n",
              "  <div id=\"df-52b16d75-63e9-4de3-889e-a0b11eb5352b\">\n",
              "    <div class=\"colab-df-container\">\n",
              "      <div>\n",
              "<style scoped>\n",
              "    .dataframe tbody tr th:only-of-type {\n",
              "        vertical-align: middle;\n",
              "    }\n",
              "\n",
              "    .dataframe tbody tr th {\n",
              "        vertical-align: top;\n",
              "    }\n",
              "\n",
              "    .dataframe thead th {\n",
              "        text-align: right;\n",
              "    }\n",
              "</style>\n",
              "<table border=\"1\" class=\"dataframe\">\n",
              "  <thead>\n",
              "    <tr style=\"text-align: right;\">\n",
              "      <th></th>\n",
              "      <th>TV</th>\n",
              "      <th>radio</th>\n",
              "      <th>newspaper</th>\n",
              "      <th>sales</th>\n",
              "    </tr>\n",
              "  </thead>\n",
              "  <tbody>\n",
              "    <tr>\n",
              "      <th>TV</th>\n",
              "      <td>1.000000</td>\n",
              "      <td>0.054809</td>\n",
              "      <td>0.056648</td>\n",
              "      <td>0.782224</td>\n",
              "    </tr>\n",
              "    <tr>\n",
              "      <th>radio</th>\n",
              "      <td>0.054809</td>\n",
              "      <td>1.000000</td>\n",
              "      <td>0.354104</td>\n",
              "      <td>0.576223</td>\n",
              "    </tr>\n",
              "    <tr>\n",
              "      <th>newspaper</th>\n",
              "      <td>0.056648</td>\n",
              "      <td>0.354104</td>\n",
              "      <td>1.000000</td>\n",
              "      <td>0.228299</td>\n",
              "    </tr>\n",
              "    <tr>\n",
              "      <th>sales</th>\n",
              "      <td>0.782224</td>\n",
              "      <td>0.576223</td>\n",
              "      <td>0.228299</td>\n",
              "      <td>1.000000</td>\n",
              "    </tr>\n",
              "  </tbody>\n",
              "</table>\n",
              "</div>\n",
              "      <button class=\"colab-df-convert\" onclick=\"convertToInteractive('df-52b16d75-63e9-4de3-889e-a0b11eb5352b')\"\n",
              "              title=\"Convert this dataframe to an interactive table.\"\n",
              "              style=\"display:none;\">\n",
              "        \n",
              "  <svg xmlns=\"http://www.w3.org/2000/svg\" height=\"24px\"viewBox=\"0 0 24 24\"\n",
              "       width=\"24px\">\n",
              "    <path d=\"M0 0h24v24H0V0z\" fill=\"none\"/>\n",
              "    <path d=\"M18.56 5.44l.94 2.06.94-2.06 2.06-.94-2.06-.94-.94-2.06-.94 2.06-2.06.94zm-11 1L8.5 8.5l.94-2.06 2.06-.94-2.06-.94L8.5 2.5l-.94 2.06-2.06.94zm10 10l.94 2.06.94-2.06 2.06-.94-2.06-.94-.94-2.06-.94 2.06-2.06.94z\"/><path d=\"M17.41 7.96l-1.37-1.37c-.4-.4-.92-.59-1.43-.59-.52 0-1.04.2-1.43.59L10.3 9.45l-7.72 7.72c-.78.78-.78 2.05 0 2.83L4 21.41c.39.39.9.59 1.41.59.51 0 1.02-.2 1.41-.59l7.78-7.78 2.81-2.81c.8-.78.8-2.07 0-2.86zM5.41 20L4 18.59l7.72-7.72 1.47 1.35L5.41 20z\"/>\n",
              "  </svg>\n",
              "      </button>\n",
              "      \n",
              "  <style>\n",
              "    .colab-df-container {\n",
              "      display:flex;\n",
              "      flex-wrap:wrap;\n",
              "      gap: 12px;\n",
              "    }\n",
              "\n",
              "    .colab-df-convert {\n",
              "      background-color: #E8F0FE;\n",
              "      border: none;\n",
              "      border-radius: 50%;\n",
              "      cursor: pointer;\n",
              "      display: none;\n",
              "      fill: #1967D2;\n",
              "      height: 32px;\n",
              "      padding: 0 0 0 0;\n",
              "      width: 32px;\n",
              "    }\n",
              "\n",
              "    .colab-df-convert:hover {\n",
              "      background-color: #E2EBFA;\n",
              "      box-shadow: 0px 1px 2px rgba(60, 64, 67, 0.3), 0px 1px 3px 1px rgba(60, 64, 67, 0.15);\n",
              "      fill: #174EA6;\n",
              "    }\n",
              "\n",
              "    [theme=dark] .colab-df-convert {\n",
              "      background-color: #3B4455;\n",
              "      fill: #D2E3FC;\n",
              "    }\n",
              "\n",
              "    [theme=dark] .colab-df-convert:hover {\n",
              "      background-color: #434B5C;\n",
              "      box-shadow: 0px 1px 3px 1px rgba(0, 0, 0, 0.15);\n",
              "      filter: drop-shadow(0px 1px 2px rgba(0, 0, 0, 0.3));\n",
              "      fill: #FFFFFF;\n",
              "    }\n",
              "  </style>\n",
              "\n",
              "      <script>\n",
              "        const buttonEl =\n",
              "          document.querySelector('#df-52b16d75-63e9-4de3-889e-a0b11eb5352b button.colab-df-convert');\n",
              "        buttonEl.style.display =\n",
              "          google.colab.kernel.accessAllowed ? 'block' : 'none';\n",
              "\n",
              "        async function convertToInteractive(key) {\n",
              "          const element = document.querySelector('#df-52b16d75-63e9-4de3-889e-a0b11eb5352b');\n",
              "          const dataTable =\n",
              "            await google.colab.kernel.invokeFunction('convertToInteractive',\n",
              "                                                     [key], {});\n",
              "          if (!dataTable) return;\n",
              "\n",
              "          const docLinkHtml = 'Like what you see? Visit the ' +\n",
              "            '<a target=\"_blank\" href=https://colab.research.google.com/notebooks/data_table.ipynb>data table notebook</a>'\n",
              "            + ' to learn more about interactive tables.';\n",
              "          element.innerHTML = '';\n",
              "          dataTable['output_type'] = 'display_data';\n",
              "          await google.colab.output.renderOutput(dataTable, element);\n",
              "          const docLink = document.createElement('div');\n",
              "          docLink.innerHTML = docLinkHtml;\n",
              "          element.appendChild(docLink);\n",
              "        }\n",
              "      </script>\n",
              "    </div>\n",
              "  </div>\n",
              "  "
            ],
            "text/plain": [
              "                 TV     radio  newspaper     sales\n",
              "TV         1.000000  0.054809   0.056648  0.782224\n",
              "radio      0.054809  1.000000   0.354104  0.576223\n",
              "newspaper  0.056648  0.354104   1.000000  0.228299\n",
              "sales      0.782224  0.576223   0.228299  1.000000"
            ]
          },
          "metadata": {},
          "execution_count": 13
        }
      ]
    },
    {
      "cell_type": "markdown",
      "metadata": {
        "id": "IRA9q_J0up8P"
      },
      "source": [
        "For simplicity, we will only use `TV` as a predictor of `sales`."
      ]
    },
    {
      "cell_type": "code",
      "metadata": {
        "id": "HmDGoPkTup-j",
        "outputId": "345766a2-efaa-43e9-e590-7a3fe70c8eb2",
        "colab": {
          "base_uri": "https://localhost:8080/",
          "height": 206
        }
      },
      "source": [
        "data = advertising.loc[:, ['TV', 'sales']]\n",
        "data.head()"
      ],
      "execution_count": 14,
      "outputs": [
        {
          "output_type": "execute_result",
          "data": {
            "text/html": [
              "\n",
              "  <div id=\"df-0b825258-e020-444f-83af-b0934ded6df8\">\n",
              "    <div class=\"colab-df-container\">\n",
              "      <div>\n",
              "<style scoped>\n",
              "    .dataframe tbody tr th:only-of-type {\n",
              "        vertical-align: middle;\n",
              "    }\n",
              "\n",
              "    .dataframe tbody tr th {\n",
              "        vertical-align: top;\n",
              "    }\n",
              "\n",
              "    .dataframe thead th {\n",
              "        text-align: right;\n",
              "    }\n",
              "</style>\n",
              "<table border=\"1\" class=\"dataframe\">\n",
              "  <thead>\n",
              "    <tr style=\"text-align: right;\">\n",
              "      <th></th>\n",
              "      <th>TV</th>\n",
              "      <th>sales</th>\n",
              "    </tr>\n",
              "  </thead>\n",
              "  <tbody>\n",
              "    <tr>\n",
              "      <th>1</th>\n",
              "      <td>230.1</td>\n",
              "      <td>22.1</td>\n",
              "    </tr>\n",
              "    <tr>\n",
              "      <th>2</th>\n",
              "      <td>44.5</td>\n",
              "      <td>10.4</td>\n",
              "    </tr>\n",
              "    <tr>\n",
              "      <th>3</th>\n",
              "      <td>17.2</td>\n",
              "      <td>9.3</td>\n",
              "    </tr>\n",
              "    <tr>\n",
              "      <th>4</th>\n",
              "      <td>151.5</td>\n",
              "      <td>18.5</td>\n",
              "    </tr>\n",
              "    <tr>\n",
              "      <th>5</th>\n",
              "      <td>180.8</td>\n",
              "      <td>12.9</td>\n",
              "    </tr>\n",
              "  </tbody>\n",
              "</table>\n",
              "</div>\n",
              "      <button class=\"colab-df-convert\" onclick=\"convertToInteractive('df-0b825258-e020-444f-83af-b0934ded6df8')\"\n",
              "              title=\"Convert this dataframe to an interactive table.\"\n",
              "              style=\"display:none;\">\n",
              "        \n",
              "  <svg xmlns=\"http://www.w3.org/2000/svg\" height=\"24px\"viewBox=\"0 0 24 24\"\n",
              "       width=\"24px\">\n",
              "    <path d=\"M0 0h24v24H0V0z\" fill=\"none\"/>\n",
              "    <path d=\"M18.56 5.44l.94 2.06.94-2.06 2.06-.94-2.06-.94-.94-2.06-.94 2.06-2.06.94zm-11 1L8.5 8.5l.94-2.06 2.06-.94-2.06-.94L8.5 2.5l-.94 2.06-2.06.94zm10 10l.94 2.06.94-2.06 2.06-.94-2.06-.94-.94-2.06-.94 2.06-2.06.94z\"/><path d=\"M17.41 7.96l-1.37-1.37c-.4-.4-.92-.59-1.43-.59-.52 0-1.04.2-1.43.59L10.3 9.45l-7.72 7.72c-.78.78-.78 2.05 0 2.83L4 21.41c.39.39.9.59 1.41.59.51 0 1.02-.2 1.41-.59l7.78-7.78 2.81-2.81c.8-.78.8-2.07 0-2.86zM5.41 20L4 18.59l7.72-7.72 1.47 1.35L5.41 20z\"/>\n",
              "  </svg>\n",
              "      </button>\n",
              "      \n",
              "  <style>\n",
              "    .colab-df-container {\n",
              "      display:flex;\n",
              "      flex-wrap:wrap;\n",
              "      gap: 12px;\n",
              "    }\n",
              "\n",
              "    .colab-df-convert {\n",
              "      background-color: #E8F0FE;\n",
              "      border: none;\n",
              "      border-radius: 50%;\n",
              "      cursor: pointer;\n",
              "      display: none;\n",
              "      fill: #1967D2;\n",
              "      height: 32px;\n",
              "      padding: 0 0 0 0;\n",
              "      width: 32px;\n",
              "    }\n",
              "\n",
              "    .colab-df-convert:hover {\n",
              "      background-color: #E2EBFA;\n",
              "      box-shadow: 0px 1px 2px rgba(60, 64, 67, 0.3), 0px 1px 3px 1px rgba(60, 64, 67, 0.15);\n",
              "      fill: #174EA6;\n",
              "    }\n",
              "\n",
              "    [theme=dark] .colab-df-convert {\n",
              "      background-color: #3B4455;\n",
              "      fill: #D2E3FC;\n",
              "    }\n",
              "\n",
              "    [theme=dark] .colab-df-convert:hover {\n",
              "      background-color: #434B5C;\n",
              "      box-shadow: 0px 1px 3px 1px rgba(0, 0, 0, 0.15);\n",
              "      filter: drop-shadow(0px 1px 2px rgba(0, 0, 0, 0.3));\n",
              "      fill: #FFFFFF;\n",
              "    }\n",
              "  </style>\n",
              "\n",
              "      <script>\n",
              "        const buttonEl =\n",
              "          document.querySelector('#df-0b825258-e020-444f-83af-b0934ded6df8 button.colab-df-convert');\n",
              "        buttonEl.style.display =\n",
              "          google.colab.kernel.accessAllowed ? 'block' : 'none';\n",
              "\n",
              "        async function convertToInteractive(key) {\n",
              "          const element = document.querySelector('#df-0b825258-e020-444f-83af-b0934ded6df8');\n",
              "          const dataTable =\n",
              "            await google.colab.kernel.invokeFunction('convertToInteractive',\n",
              "                                                     [key], {});\n",
              "          if (!dataTable) return;\n",
              "\n",
              "          const docLinkHtml = 'Like what you see? Visit the ' +\n",
              "            '<a target=\"_blank\" href=https://colab.research.google.com/notebooks/data_table.ipynb>data table notebook</a>'\n",
              "            + ' to learn more about interactive tables.';\n",
              "          element.innerHTML = '';\n",
              "          dataTable['output_type'] = 'display_data';\n",
              "          await google.colab.output.renderOutput(dataTable, element);\n",
              "          const docLink = document.createElement('div');\n",
              "          docLink.innerHTML = docLinkHtml;\n",
              "          element.appendChild(docLink);\n",
              "        }\n",
              "      </script>\n",
              "    </div>\n",
              "  </div>\n",
              "  "
            ],
            "text/plain": [
              "      TV  sales\n",
              "1  230.1   22.1\n",
              "2   44.5   10.4\n",
              "3   17.2    9.3\n",
              "4  151.5   18.5\n",
              "5  180.8   12.9"
            ]
          },
          "metadata": {},
          "execution_count": 14
        }
      ]
    },
    {
      "cell_type": "markdown",
      "metadata": {
        "id": "tx1p0xS8xn96"
      },
      "source": [
        "## Simple Linear Regression: Model Representation\n",
        "\n",
        "In order to describe the model mathematically, we need to introduce a few notations:\n",
        "- The input feature `TV` is represented as variable $X$.\n",
        "- The output/response feature `sales` is represented as variable $Y$.\n",
        "- Each instance of data is represented as $(x^{(i)}, y^{(i)})$, where $i$ is the row index, $x^{(i)}$ is the value corresponding to $X$, and $y^{(i)}$ is the value corresponding to $Y$. For example, $(x^{(i)}, y^{(i)}) = (230.1, 22.1)$.\n",
        "\n",
        "The **simple linear regression** model assumes that the relationship between $X$ and $Y$ is\n",
        "$$Y \\approx f(X) = \\beta_0 + \\beta_1 X.$$\n",
        "\n",
        "- $\\beta_0$ and $\\beta_1$ are called **model parameters**. For simple linear regression, the relationship is characterized as a straight line with slope $\\beta_1$ and y-intercept $\\beta_0$.\n"
      ]
    },
    {
      "cell_type": "code",
      "metadata": {
        "id": "7OG0xPdQxowG",
        "outputId": "6d14d1ec-e961-4f65-8176-3dee6d2130c6",
        "colab": {
          "base_uri": "https://localhost:8080/"
        }
      },
      "source": [
        "# Train a linear regression model using sklearn\n",
        "from sklearn.linear_model import LinearRegression\n",
        "model_lr = LinearRegression()\n",
        "model_lr.fit(data[['TV']], data[['sales']])"
      ],
      "execution_count": 15,
      "outputs": [
        {
          "output_type": "execute_result",
          "data": {
            "text/plain": [
              "LinearRegression()"
            ]
          },
          "metadata": {},
          "execution_count": 15
        }
      ]
    },
    {
      "cell_type": "code",
      "metadata": {
        "id": "p5ug-sihyEH2",
        "outputId": "55f9c9b0-ce5d-459c-c773-d5799f6f704d",
        "colab": {
          "base_uri": "https://localhost:8080/"
        }
      },
      "source": [
        "# The coef_ and intercept_ attributes contain parameter values\n",
        "print(model_lr.coef_)\n",
        "print(model_lr.intercept_)"
      ],
      "execution_count": 16,
      "outputs": [
        {
          "output_type": "stream",
          "name": "stdout",
          "text": [
            "[[0.04753664]]\n",
            "[7.03259355]\n"
          ]
        }
      ]
    },
    {
      "cell_type": "code",
      "metadata": {
        "id": "7TgQXsAnyHT5",
        "outputId": "dd6d21a0-ed9f-4cf8-f77b-6b0a0954f5c2",
        "colab": {
          "base_uri": "https://localhost:8080/",
          "height": 283
        }
      },
      "source": [
        "# Plot the data points and the optimal regression line.\n",
        "m = model_lr.coef_[0, 0]   # slope\n",
        "b = model_lr.intercept_[0] # y-intercept\n",
        "\n",
        "plt.plot(data['TV'], data['sales'], 'b.')\n",
        "x_coordinates = np.array([0,300])\n",
        "y_coordinates = x_coordinates * m + b\n",
        "plt.plot(x_coordinates, y_coordinates, 'g-')"
      ],
      "execution_count": 17,
      "outputs": [
        {
          "output_type": "execute_result",
          "data": {
            "text/plain": [
              "[<matplotlib.lines.Line2D at 0x7f366acce790>]"
            ]
          },
          "metadata": {},
          "execution_count": 17
        },
        {
          "output_type": "display_data",
          "data": {
            "image/png": "[encoded data removed]",
            "text/plain": [
              "<Figure size 432x288 with 1 Axes>"
            ]
          },
          "metadata": {
            "needs_background": "light"
          }
        }
      ]
    },
    {
      "cell_type": "markdown",
      "metadata": {
        "id": "PDvJFvT-yME3"
      },
      "source": [
        "## Train A Simple Linear Regression Model\n",
        "\n",
        "- For a given set of model parameters, we need a **cost function** (in some occasions also called **loss function**) that measures how well a given line fits the data.\n",
        "- We also need a **training algorithm** that finds values of parameters so that the line fits the data well (usually \"fitting the data well\" means \"minimizing the cost\").\n",
        "\n",
        "For linear regression:\n",
        "- Cost function: \n",
        "    - Mean squared error (MSE)\n",
        "    - Mean absolute error (MAE)\n",
        "    - Other variants\n",
        "- Training algorithm: \n",
        "    - Normal equation\n",
        "    - Gradient descent"
      ]
    },
    {
      "cell_type": "markdown",
      "metadata": {
        "id": "aWHfwa8xzCh1"
      },
      "source": [
        "## Simple Linear Regression: Cost Function\n",
        "A common choice of cost function is the **mean squared error (MSE) function**. It is defined as\n",
        "$$\\begin{align}\n",
        "MSE(\\beta_0, \\beta_1) =& \n",
        "\\frac{1}{N}\\sum_{i=1}^N (y^{(i)} - f(x^{(i)}))^2 \\\\\n",
        "=& \\frac{1}{N}\\sum_{i=1}^N\\big(y^{(i)} - \\beta_0 - \\beta_1x^{(i)}\\big)^2.\n",
        "\\end{align}$$"
      ]
    },
    {
      "cell_type": "code",
      "source": [
        ""
      ],
      "metadata": {
        "id": "BeES3p_2Pkz5"
      },
      "execution_count": null,
      "outputs": []
    },
    {
      "cell_type": "markdown",
      "metadata": {
        "id": "GW1mYje6zIm6"
      },
      "source": [
        "To better understand the MSE function, let's calculate the value $MSE(7.03, 0.04)$."
      ]
    },
    {
      "cell_type": "code",
      "metadata": {
        "id": "mO4pOxm4zZ-g",
        "outputId": "3da6cbf1-5ef3-49e5-d831-6879f1313fc0",
        "colab": {
          "base_uri": "https://localhost:8080/"
        }
      },
      "source": [
        "# Example:\n",
        "# Calculate the squared error of the model on the first record.\n",
        "\n",
        "beta0 = 7.03\n",
        "beta1 = 0.04\n",
        "\n",
        "x1 = data.loc[1, 'TV'] # 230.1\n",
        "y1 = data.loc[1, 'sales'] #22.1\n",
        "print(\"x1, y1:\", x1, y1)\n",
        "\n",
        "# Calculate \n",
        "f = beta0 + beta1 * x1\n",
        "\n",
        "print(f)\n",
        "# Calculate the \n",
        "squared_error = (y1 - f) ** 2\n",
        "\n",
        "\n",
        "print(\"Squared error:\", squared_error)"
      ],
      "execution_count": 27,
      "outputs": [
        {
          "output_type": "stream",
          "name": "stdout",
          "text": [
            "x1, y1: 230.1 22.1\n",
            "16.234\n",
            "Squared error: 34.409955999999994\n"
          ]
        }
      ]
    },
    {
      "cell_type": "code",
      "metadata": {
        "id": "z1sV3w--0A6i",
        "outputId": "6bcbc179-953c-4c38-d30c-61210c39ddb1",
        "colab": {
          "base_uri": "https://localhost:8080/"
        }
      },
      "source": [
        "# Example:\n",
        "# Calculate the squared error of the model on an arbitrary record.\n",
        "import random\n",
        "beta0 = 7.03\n",
        "beta1 = 0.04\n",
        "\n",
        "i = random.randint(1, 201)  # index of the record\n",
        "x1 = data.loc[i, 'TV'] \n",
        "y1 = data.loc[i, 'sales'] \n",
        "print(\"x1, y1:\", x1, y1)\n",
        "\n",
        "# Calculate \n",
        "f = beta0 + beta1 * x1\n",
        "\n",
        "print(f)\n",
        "# Calculate the \n",
        "squared_error = (y1 - f) ** 2\n",
        "\n",
        "\n",
        "print(\"Squared error:\", squared_error)\n"
      ],
      "execution_count": 34,
      "outputs": [
        {
          "output_type": "stream",
          "name": "stdout",
          "text": [
            "x1, y1: 109.8 12.4\n",
            "11.422\n",
            "Squared error: 0.9564839999999996\n"
          ]
        }
      ]
    },
    {
      "cell_type": "code",
      "metadata": {
        "id": "zWD4Yuf20Vnn"
      },
      "source": [
        "# Write a function that produces the squared error given beta0, beta1, data, and i\n",
        "\n",
        "def get_squared_error(beta0, beta1, data, i):\n",
        "\n",
        "    x1 = data.loc[i, 'TV'] \n",
        "    y1 = data.loc[i, 'sales'] \n",
        "    # print(\"x1, y1:\", x1, y1)\n",
        "\n",
        "    # Calculate \n",
        "    f = beta0 + beta1 * x1\n",
        "\n",
        "    # print(f)\n",
        "    # Calculate the \n",
        "    squared_error = (y1 - f) ** 2\n",
        "\n",
        "\n",
        "    # print(\"Squared error:\", squared_error)\n",
        "    return squared_error"
      ],
      "execution_count": 49,
      "outputs": []
    },
    {
      "cell_type": "code",
      "metadata": {
        "id": "DO0O9zPd0gto",
        "outputId": "097831be-52e6-4401-c885-435fe73e49d3",
        "colab": {
          "base_uri": "https://localhost:8080/"
        }
      },
      "source": [
        "# Create a list that contains value of (y_1 - f(x_1))^2 for i=1,...,200.\n",
        "list_errors = []\n",
        "beta0 = 7.03\n",
        "beta1 = 0.04\n",
        "for ind in data.index:\n",
        "    # call function `get_sqaured_error` with ind\n",
        "    error = get_squared_error(beta0, beta1, data, ind)\n",
        "    # append squared error to `list_errors`\n",
        "    list_errors.append(error)\n",
        "    \n",
        "    \n",
        "print(list_errors)"
      ],
      "execution_count": 51,
      "outputs": [
        {
          "output_type": "stream",
          "name": "stdout",
          "text": [
            "[34.409955999999994, 2.5280999999999993, 2.5027240000000024, 29.2681, 1.8550440000000004, 0.031683999999999976, 6.100900000000003, 1.8550439999999955, 6.6254760000000035, 19.55408400000002, 1.1534759999999997, 3.1755240000000002, 1.4835239999999978, 1.512900000000001, 14.485636000000007, 57.06291599999998, 7.606563999999995, 37.38099600000001, 2.256004000000002, 2.815683999999997, 4.990755999999992, 16.208675999999997, 3.833764000000001, 0.4382440000000034, 0.031683999999999664, 30.758115999999994, 5.080515999999998, 0.538756, 3.678723999999997, 0.417316000000001, 7.043716, 0.1253160000000007, 1.7371240000000037, 0.06451600000000068, 1.8441640000000015, 34.31616400000001, 59.19763599999999, 21.92112399999999, 1.8117159999999954, 28.622499999999977, 2.160900000000007, 8.940100000000012, 3.709475999999994, 5.7888360000000025, 0.21715599999999935, 0.7499560000000025, 0.00032400000000002457, 43.21747599999998, 1.7371239999999943, 3.600000000000273e-05, 13.118884000000012, 0.11971600000000006, 47.80339600000002, 47.14195599999999, 7.086243999999994, 75.93379599999997, 3.319684, 0.5212839999999993, 69.52224400000001, 8.655364, 1.1449000000000007, 45.131524, 0.8136040000000019, 8.19104399999999, 32.78707599999999, 0.2401000000000002, 1.4640999999999977, 0.636804, 5.635875999999994, 43.53360399999999, 10.929636000000006, 0.9564839999999996, 0.4872040000000006, 1.4544359999999987, 2.056356000000003, 0.9880359999999978, 1.512900000000001, 5.52249999999999, 3.7869160000000024, 0.4488999999999999, 2.9377960000000014, 18.679683999999995, 1.5825640000000023, 14.699555999999998, 37.57689999999999, 0.19536400000000015, 3.678723999999997, 20.629763999999998, 5.466243999999996, 27.857283999999986, 1.4448040000000042, 0.7638759999999994, 13.410243999999993, 26.357956000000005, 0.03027599999999982, 11.142243999999982, 10.458756000000012, 1.153475999999996, 45.995524, 22.676644000000003, 17.859076000000023, 24.147396000000015, 11.819843999999993, 0.023715999999999973, 17.156163999999997, 44.275715999999996, 0.6889000000000016, 3.786916000000006, 5.080516000000002, 6.522915999999992, 7.086244000000004, 26.030404000000004, 0.0017639999999999845, 0.2361959999999989, 19.731363999999985, 6.584355999999994, 0.15840399999999974, 0.4705959999999999, 14.760964000000005, 1.454436000000001, 7.941123999999998, 0.6115240000000001, 19.27210000000002, 10.536515999999992, 12.180099999999989, 0.00672399999999983, 0.5505640000000013, 2.0678439999999965, 78.46416399999994, 0.08179599999999976, 29.789764, 24.383844000000025, 2.7755560000000012, 14.273284000000016, 5.262436000000002, 6.959044, 2.090915999999999, 7.963683999999995, 0.7224999999999994, 39.363075999999964, 0.8723559999999987, 19.554084000000007, 18.0625, 0.6625960000000001, 0.2724840000000002, 5.484964000000002, 11.792356000000007, 74.684164, 5.522499999999998, 1.6435239999999955, 4.65696399999999, 0.07290000000000073, 2.7755560000000012, 26.193923999999985, 1.1193639999999958, 15.952035999999998, 20.376195999999993, 8.538084000000014, 0.039204000000000155, 0.3624040000000004, 0.2209000000000006, 8.076964000000004, 0.11155599999999975, 19.624899999999997, 0.03312400000000014, 20.3401, 0.06451599999999978, 9.622404000000001, 2.114116000000002, 11.573604000000007, 0.396900000000001, 0.792100000000001, 0.04579600000000018, 4.2683560000000105, 19.589476000000015, 79.10323600000004, 10.458755999999989, 4.571044000000007, 39.664803999999975, 1.1109160000000005, 7.806436000000002, 12.744900000000001, 0.3340840000000014, 58.76755599999995, 0.17472399999999938, 54.31690000000002, 5.336099999999994, 6.895876000000007, 6.604899999999993, 1.1620840000000006, 4.796100000000005, 0.022500000000000107, 3.3051239999999984, 34.786404, 18.335524, 0.9177640000000004, 1.2056040000000017, 1.7160999999999966, 50.779875999999966, 8.491395999999998]\n"
          ]
        }
      ]
    },
    {
      "cell_type": "code",
      "metadata": {
        "id": "z-CuWXTJ0ymr",
        "outputId": "b5e207f7-e599-4fe3-ee72-10cc88a65a98",
        "colab": {
          "base_uri": "https://localhost:8080/"
        }
      },
      "source": [
        "# Create list_errors using list comprehension\n",
        "list_errors = [get_squared_error(beta0, beta1, data, ind) for ind in data.index ]\n",
        "list_errors"
      ],
      "execution_count": 52,
      "outputs": [
        {
          "output_type": "execute_result",
          "data": {
            "text/plain": [
              "[34.409955999999994,\n",
              " 2.5280999999999993,\n",
              " 2.5027240000000024,\n",
              " 29.2681,\n",
              " 1.8550440000000004,\n",
              " 0.031683999999999976,\n",
              " 6.100900000000003,\n",
              " 1.8550439999999955,\n",
              " 6.6254760000000035,\n",
              " 19.55408400000002,\n",
              " 1.1534759999999997,\n",
              " 3.1755240000000002,\n",
              " 1.4835239999999978,\n",
              " 1.512900000000001,\n",
              " 14.485636000000007,\n",
              " 57.06291599999998,\n",
              " 7.606563999999995,\n",
              " 37.38099600000001,\n",
              " 2.256004000000002,\n",
              " 2.815683999999997,\n",
              " 4.990755999999992,\n",
              " 16.208675999999997,\n",
              " 3.833764000000001,\n",
              " 0.4382440000000034,\n",
              " 0.031683999999999664,\n",
              " 30.758115999999994,\n",
              " 5.080515999999998,\n",
              " 0.538756,\n",
              " 3.678723999999997,\n",
              " 0.417316000000001,\n",
              " 7.043716,\n",
              " 0.1253160000000007,\n",
              " 1.7371240000000037,\n",
              " 0.06451600000000068,\n",
              " 1.8441640000000015,\n",
              " 34.31616400000001,\n",
              " 59.19763599999999,\n",
              " 21.92112399999999,\n",
              " 1.8117159999999954,\n",
              " 28.622499999999977,\n",
              " 2.160900000000007,\n",
              " 8.940100000000012,\n",
              " 3.709475999999994,\n",
              " 5.7888360000000025,\n",
              " 0.21715599999999935,\n",
              " 0.7499560000000025,\n",
              " 0.00032400000000002457,\n",
              " 43.21747599999998,\n",
              " 1.7371239999999943,\n",
              " 3.600000000000273e-05,\n",
              " 13.118884000000012,\n",
              " 0.11971600000000006,\n",
              " 47.80339600000002,\n",
              " 47.14195599999999,\n",
              " 7.086243999999994,\n",
              " 75.93379599999997,\n",
              " 3.319684,\n",
              " 0.5212839999999993,\n",
              " 69.52224400000001,\n",
              " 8.655364,\n",
              " 1.1449000000000007,\n",
              " 45.131524,\n",
              " 0.8136040000000019,\n",
              " 8.19104399999999,\n",
              " 32.78707599999999,\n",
              " 0.2401000000000002,\n",
              " 1.4640999999999977,\n",
              " 0.636804,\n",
              " 5.635875999999994,\n",
              " 43.53360399999999,\n",
              " 10.929636000000006,\n",
              " 0.9564839999999996,\n",
              " 0.4872040000000006,\n",
              " 1.4544359999999987,\n",
              " 2.056356000000003,\n",
              " 0.9880359999999978,\n",
              " 1.512900000000001,\n",
              " 5.52249999999999,\n",
              " 3.7869160000000024,\n",
              " 0.4488999999999999,\n",
              " 2.9377960000000014,\n",
              " 18.679683999999995,\n",
              " 1.5825640000000023,\n",
              " 14.699555999999998,\n",
              " 37.57689999999999,\n",
              " 0.19536400000000015,\n",
              " 3.678723999999997,\n",
              " 20.629763999999998,\n",
              " 5.466243999999996,\n",
              " 27.857283999999986,\n",
              " 1.4448040000000042,\n",
              " 0.7638759999999994,\n",
              " 13.410243999999993,\n",
              " 26.357956000000005,\n",
              " 0.03027599999999982,\n",
              " 11.142243999999982,\n",
              " 10.458756000000012,\n",
              " 1.153475999999996,\n",
              " 45.995524,\n",
              " 22.676644000000003,\n",
              " 17.859076000000023,\n",
              " 24.147396000000015,\n",
              " 11.819843999999993,\n",
              " 0.023715999999999973,\n",
              " 17.156163999999997,\n",
              " 44.275715999999996,\n",
              " 0.6889000000000016,\n",
              " 3.786916000000006,\n",
              " 5.080516000000002,\n",
              " 6.522915999999992,\n",
              " 7.086244000000004,\n",
              " 26.030404000000004,\n",
              " 0.0017639999999999845,\n",
              " 0.2361959999999989,\n",
              " 19.731363999999985,\n",
              " 6.584355999999994,\n",
              " 0.15840399999999974,\n",
              " 0.4705959999999999,\n",
              " 14.760964000000005,\n",
              " 1.454436000000001,\n",
              " 7.941123999999998,\n",
              " 0.6115240000000001,\n",
              " 19.27210000000002,\n",
              " 10.536515999999992,\n",
              " 12.180099999999989,\n",
              " 0.00672399999999983,\n",
              " 0.5505640000000013,\n",
              " 2.0678439999999965,\n",
              " 78.46416399999994,\n",
              " 0.08179599999999976,\n",
              " 29.789764,\n",
              " 24.383844000000025,\n",
              " 2.7755560000000012,\n",
              " 14.273284000000016,\n",
              " 5.262436000000002,\n",
              " 6.959044,\n",
              " 2.090915999999999,\n",
              " 7.963683999999995,\n",
              " 0.7224999999999994,\n",
              " 39.363075999999964,\n",
              " 0.8723559999999987,\n",
              " 19.554084000000007,\n",
              " 18.0625,\n",
              " 0.6625960000000001,\n",
              " 0.2724840000000002,\n",
              " 5.484964000000002,\n",
              " 11.792356000000007,\n",
              " 74.684164,\n",
              " 5.522499999999998,\n",
              " 1.6435239999999955,\n",
              " 4.65696399999999,\n",
              " 0.07290000000000073,\n",
              " 2.7755560000000012,\n",
              " 26.193923999999985,\n",
              " 1.1193639999999958,\n",
              " 15.952035999999998,\n",
              " 20.376195999999993,\n",
              " 8.538084000000014,\n",
              " 0.039204000000000155,\n",
              " 0.3624040000000004,\n",
              " 0.2209000000000006,\n",
              " 8.076964000000004,\n",
              " 0.11155599999999975,\n",
              " 19.624899999999997,\n",
              " 0.03312400000000014,\n",
              " 20.3401,\n",
              " 0.06451599999999978,\n",
              " 9.622404000000001,\n",
              " 2.114116000000002,\n",
              " 11.573604000000007,\n",
              " 0.396900000000001,\n",
              " 0.792100000000001,\n",
              " 0.04579600000000018,\n",
              " 4.2683560000000105,\n",
              " 19.589476000000015,\n",
              " 79.10323600000004,\n",
              " 10.458755999999989,\n",
              " 4.571044000000007,\n",
              " 39.664803999999975,\n",
              " 1.1109160000000005,\n",
              " 7.806436000000002,\n",
              " 12.744900000000001,\n",
              " 0.3340840000000014,\n",
              " 58.76755599999995,\n",
              " 0.17472399999999938,\n",
              " 54.31690000000002,\n",
              " 5.336099999999994,\n",
              " 6.895876000000007,\n",
              " 6.604899999999993,\n",
              " 1.1620840000000006,\n",
              " 4.796100000000005,\n",
              " 0.022500000000000107,\n",
              " 3.3051239999999984,\n",
              " 34.786404,\n",
              " 18.335524,\n",
              " 0.9177640000000004,\n",
              " 1.2056040000000017,\n",
              " 1.7160999999999966,\n",
              " 50.779875999999966,\n",
              " 8.491395999999998]"
            ]
          },
          "metadata": {},
          "execution_count": 52
        }
      ]
    },
    {
      "cell_type": "code",
      "metadata": {
        "id": "jIvs1hdq05Et",
        "outputId": "c1010764-74e2-46b1-aef5-40e184e2be94",
        "colab": {
          "base_uri": "https://localhost:8080/"
        }
      },
      "source": [
        "# Calculate the MSE\n",
        "MSE = sum(list_errors) / len(data)\n",
        "print(\"MSE:\", MSE)"
      ],
      "execution_count": 53,
      "outputs": [
        {
          "output_type": "stream",
          "name": "stdout",
          "text": [
            "MSE: 12.163113119999997\n"
          ]
        }
      ]
    },
    {
      "cell_type": "code",
      "metadata": {
        "id": "fjnGTY_809MO",
        "outputId": "bbd868ad-ceb9-4e69-94f1-5d494e26ce49",
        "colab": {
          "base_uri": "https://localhost:8080/"
        }
      },
      "source": [
        "# Write a function MSE(beta0, beta1, data) that returns the value of MSE with given beta0 and beta1.\n",
        "def get_MSE(beta0, beta1, data):\n",
        "    return sum([get_squared_error(beta0, beta1, data, ind) for ind in data.index]) / len(data)\n",
        "get_MSE(beta0, beta1, data)"
      ],
      "execution_count": 55,
      "outputs": [
        {
          "output_type": "execute_result",
          "data": {
            "text/plain": [
              "12.163113119999997"
            ]
          },
          "metadata": {},
          "execution_count": 55
        }
      ]
    },
    {
      "cell_type": "markdown",
      "metadata": {
        "id": "SGWuXzWK1AAK"
      },
      "source": [
        "Now, use function `get_MSE` to obtain the MSE for the following two sets of parameter values\n",
        "- Case 1: $\\beta_0 = 7.03, \\beta_1 = 0.04$\n",
        "- Case 2: $\\beta_0 = 5, \\beta_1 = 1$\n",
        "\n",
        "Which one fits the data better?"
      ]
    },
    {
      "cell_type": "code",
      "metadata": {
        "id": "-cSOk1Dw1aYm",
        "outputId": "195eed3b-f549-4d91-9b4e-5d4c57577453",
        "colab": {
          "base_uri": "https://localhost:8080/"
        }
      },
      "source": [
        "get_MSE(7.03, 0.04, data)"
      ],
      "execution_count": 56,
      "outputs": [
        {
          "output_type": "execute_result",
          "data": {
            "text/plain": [
              "12.163113119999997"
            ]
          },
          "metadata": {},
          "execution_count": 56
        }
      ]
    },
    {
      "cell_type": "code",
      "source": [
        "get_MSE(5, 1, data)"
      ],
      "metadata": {
        "id": "LAOqzRnYUU2O",
        "outputId": "298c7069-ac4c-4d0a-8f32-1a1269b38837",
        "colab": {
          "base_uri": "https://localhost:8080/"
        }
      },
      "execution_count": 57,
      "outputs": [
        {
          "output_type": "execute_result",
          "data": {
            "text/plain": [
              "25713.4248"
            ]
          },
          "metadata": {},
          "execution_count": 57
        }
      ]
    },
    {
      "cell_type": "markdown",
      "metadata": {
        "id": "C9nwZT2h1gWZ"
      },
      "source": [
        "Now that we have obtained the cost function, our next goal is to find the parameter values that minimizes the cost value."
      ]
    },
    {
      "cell_type": "markdown",
      "metadata": {
        "id": "CJakGFWK1vIq"
      },
      "source": [
        "# Simple Linear Regression: Training Algorithm\n",
        "To find the value of $\\beta_0, \\beta_1$ that minimizes the MSE cost function, there is a formula called the **normal equation** that gives the result directly:\n",
        "\n",
        "$$\\begin{pmatrix} \\beta_0 \\\\ \\beta_1 \\end{pmatrix} = (\\textbf{X}^T\\cdot\\textbf{X})^{-1}\\cdot\\textbf{X}^T\\cdot\\textbf{y}.$$\n",
        "\n",
        "- $\\textbf{X}$ is the matrix formed as \n",
        "$$\\textbf{X} = \\begin{pmatrix} \n",
        "1 & x^{(1)} \\\\\n",
        "1 & x^{(2)} \\\\\n",
        "\\vdots & \\vdots \\\\\n",
        "1 & x^{(N)} \\\\\n",
        "\\end{pmatrix}.$$\n",
        "- $\\textbf{X}$ represents the **matrix transpose** of $\\textbf{X}$.\n",
        "- $\\cdot$ represents **matrix multiplication**.\n",
        "- $^{-1}$ represents **matrix inverse**.\n",
        "- $\\textbf{y}$ is the vector of target values\n",
        "$$\\textbf{y} = \\begin{pmatrix} \n",
        "y^{(1)} \\\\\n",
        "y^{(2)} \\\\\n",
        "\\vdots \\\\\n",
        "y^{(N)} \\\\\n",
        "\\end{pmatrix}.$$"
      ]
    },
    {
      "cell_type": "markdown",
      "metadata": {
        "id": "M9LHCexK1wlQ"
      },
      "source": [
        "Let's apply the normal equation and find the best parameter values."
      ]
    },
    {
      "cell_type": "code",
      "metadata": {
        "id": "AWJkxe-31_D1",
        "outputId": "c771273b-bd21-486c-8642-45050467865e",
        "colab": {
          "base_uri": "https://localhost:8080/"
        }
      },
      "source": [
        "# Construct X and y as numpy arrays\n",
        "X = np.hstack([np.ones([len(data), 1]), data[['TV']].values])\n",
        "# print(X)\n",
        "y = data[['sales']].values\n",
        "# print(y)\n",
        "\n",
        "beta = np.linalg.inv(X.T.dot(X)).dot(X.T).dot(y)\n",
        "print(beta)"
      ],
      "execution_count": 58,
      "outputs": [
        {
          "output_type": "stream",
          "name": "stdout",
          "text": [
            "[[7.03259355]\n",
            " [0.04753664]]\n"
          ]
        }
      ]
    },
    {
      "cell_type": "code",
      "metadata": {
        "id": "qViLTn0d2B1f",
        "outputId": "0be9f895-245b-48eb-b245-c41860ec6bed",
        "colab": {
          "base_uri": "https://localhost:8080/"
        }
      },
      "source": [
        "get_MSE(7.03, 0.047, data)"
      ],
      "execution_count": 59,
      "outputs": [
        {
          "output_type": "execute_result",
          "data": {
            "text/plain": [
              "10.52140766755"
            ]
          },
          "metadata": {},
          "execution_count": 59
        }
      ]
    },
    {
      "cell_type": "code",
      "metadata": {
        "id": "Pt2Y5UAO2Ddq",
        "outputId": "3eafdf04-8df0-47ea-90fd-91dd31318672",
        "colab": {
          "base_uri": "https://localhost:8080/",
          "height": 283
        }
      },
      "source": [
        "# Plot the data points and the optimal regression line.\n",
        "plt.plot(data['TV'], data['sales'], 'b.')\n",
        "x_coordinates = np.array([0,300])\n",
        "y_coordinates = x_coordinates * 0.047 + 7.03\n",
        "plt.plot(x_coordinates, y_coordinates, 'g-')"
      ],
      "execution_count": 60,
      "outputs": [
        {
          "output_type": "execute_result",
          "data": {
            "text/plain": [
              "[<matplotlib.lines.Line2D at 0x7f3666b9ea90>]"
            ]
          },
          "metadata": {},
          "execution_count": 60
        },
        {
          "output_type": "display_data",
          "data": {
            "image/png": "[encoded data removed]",
            "text/plain": [
              "<Figure size 432x288 with 1 Axes>"
            ]
          },
          "metadata": {
            "needs_background": "light"
          }
        }
      ]
    },
    {
      "cell_type": "code",
      "metadata": {
        "id": "vQaE6kul2Gy7"
      },
      "source": [
        ""
      ],
      "execution_count": null,
      "outputs": []
    }
  ]
}