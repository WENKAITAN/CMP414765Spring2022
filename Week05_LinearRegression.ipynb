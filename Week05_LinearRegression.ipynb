{
  "nbformat": 4,
  "nbformat_minor": 0,
  "metadata": {
    "colab": {
      "name": "Week05_LinearRegression",
      "provenance": [],
      "authorship_tag": "ABX9TyO58qHGNcvxigne/X64Ci9T",
      "include_colab_link": true
    },
    "kernelspec": {
      "name": "python3",
      "display_name": "Python 3"
    }
  },
  "cells": [
    {
      "cell_type": "markdown",
      "metadata": {
        "id": "view-in-github",
        "colab_type": "text"
      },
      "source": [
        "<a href=\"https://colab.research.google.com/github/ch00226855/CMP414765Spring2022/blob/main/Week05_LinearRegression.ipynb\" target=\"_parent\"><img src=\"https://colab.research.google.com/assets/colab-badge.svg\" alt=\"Open In Colab\"/></a>"
      ]
    },
    {
      "cell_type": "markdown",
      "metadata": {
        "id": "u7HIsHhxuk-V"
      },
      "source": [
        "# Week 5\n",
        "# Simple Linear Regression and the Normal Equation\n",
        "\n",
        "So far we have treated machine learning models and their training algorithms mostly like black boxes. Starting from Chapter 4, we will look into the mechanism of several popular machine learning models, analyze them mathematically and learn how to implement the methods from scratch. Let's start with the linear regression model.\n",
        "\n",
        "**Reading**: Textbook, Chapter 4"
      ]
    },
    {
      "cell_type": "markdown",
      "metadata": {
        "id": "aQ2Gz9YPupfu"
      },
      "source": [
        "## I. Simple Linear regression: Sales Prediction\n",
        "\n",
        "To put things into context, let's look at a dataset that contains the sales revenue and the advertising budgets of a company in 200 different markets."
      ]
    },
    {
      "cell_type": "code",
      "metadata": {
        "id": "OlGlaCOhupiD"
      },
      "source": [
        "import numpy as np\n",
        "import pandas as pd\n",
        "import matplotlib.pyplot as plt\n",
        "%matplotlib inline"
      ],
      "execution_count": null,
      "outputs": []
    },
    {
      "cell_type": "code",
      "metadata": {
        "id": "WQ6pwyVTupkY"
      },
      "source": [
        "url = \"https://www.statlearning.com/s/Advertising.csv\"\n",
        "advertising = pd.read_csv(url, index_col=0)\n",
        "advertising.head()"
      ],
      "execution_count": null,
      "outputs": []
    },
    {
      "cell_type": "code",
      "metadata": {
        "id": "S-euVXtvupmr"
      },
      "source": [
        "advertising.info()"
      ],
      "execution_count": null,
      "outputs": []
    },
    {
      "cell_type": "code",
      "metadata": {
        "id": "4eh00tLDuppH"
      },
      "source": [
        "advertising.describe()"
      ],
      "execution_count": null,
      "outputs": []
    },
    {
      "cell_type": "code",
      "metadata": {
        "id": "34vliqiQuprc"
      },
      "source": [
        "fig = advertising.hist(figsize=(10, 10))"
      ],
      "execution_count": null,
      "outputs": []
    },
    {
      "cell_type": "code",
      "metadata": {
        "id": "yfmol9Hxupt9"
      },
      "source": [
        "# plot TV vs. sales\n",
        "plt.plot(advertising['TV'], advertising['sales'], 'g.')\n",
        "plt.title(\"TV vs. sales\")\n",
        "plt.xlabel(\"TV budget\")\n",
        "plt.ylabel(\"Sales Revenue\")\n",
        "plt.savefig(\"TVvsSales.png\")\n",
        "plt.show() # this is needed in other Python environments"
      ],
      "execution_count": null,
      "outputs": []
    },
    {
      "cell_type": "code",
      "metadata": {
        "id": "IdmR2IQmupwR"
      },
      "source": [
        "# Exercise:\n",
        "# plot radio vs. sales\n",
        "\n"
      ],
      "execution_count": null,
      "outputs": []
    },
    {
      "cell_type": "code",
      "metadata": {
        "id": "IPWxPApfupy8"
      },
      "source": [
        "# Exercise:\n",
        "# plot newspaper vs. sales\n",
        "\n"
      ],
      "execution_count": null,
      "outputs": []
    },
    {
      "cell_type": "markdown",
      "metadata": {
        "id": "APBfXCE_up3Z"
      },
      "source": [
        "### Correlation Coefficient: Numerical Measure of Correlations\n",
        "The **correlation coefficient** is a numerical measurement of **linear correlation** between two variables.\n",
        "- The value of correlation coefficient always lies in [-1, 1].\n",
        "- If there is a strong positive correlation, then the coefficient is close to 1.\n",
        "- If there is a strong negative correlation, then the coefficient is close to -1.\n",
        "- If there is a very weak correlation, then the coefficient is close to 0.\n",
        "- However, a near-zero coeffient may be caused by non-linear correlations.\n",
        "![](https://upload.wikimedia.org/wikipedia/commons/d/d4/Correlation_examples2.svg)"
      ]
    },
    {
      "cell_type": "code",
      "metadata": {
        "id": "8jpDO9UFup5w"
      },
      "source": [
        "# Calculate pair-wise correlation coefficients\n",
        "advertising.corr()"
      ],
      "execution_count": null,
      "outputs": []
    },
    {
      "cell_type": "markdown",
      "metadata": {
        "id": "IRA9q_J0up8P"
      },
      "source": [
        "For simplicity, we will only use `TV` as a predictor of `sales`."
      ]
    },
    {
      "cell_type": "code",
      "metadata": {
        "id": "HmDGoPkTup-j"
      },
      "source": [
        "data = advertising.loc[:, ['TV', 'sales']]\n",
        "data.head()"
      ],
      "execution_count": null,
      "outputs": []
    },
    {
      "cell_type": "markdown",
      "metadata": {
        "id": "tx1p0xS8xn96"
      },
      "source": [
        "## Simple Linear Regression: Model Representation\n",
        "\n",
        "In order to describe the model mathematically, we need to introduce a few notations:\n",
        "- The input feature `TV` is represented as variable $X$.\n",
        "- The output/response feature `sales` is represented as variable $Y$.\n",
        "- Each instance of data is represented as $(x_i, y_i)$, where $i$ is the row index, $x_i$ is the value corresponding to $X$, and $y_i$ is the value corresponding to $Y$. For example, $(x_1, y_1) = (230.1, 22.1)$.\n",
        "\n",
        "The **simple linear regression** model assumes that the relationship between $X$ and $Y$ is\n",
        "$$Y \\approx f(X) = \\beta_0 + \\beta_1 X.$$\n",
        "\n",
        "- $\\beta_0$ and $\\beta_1$ are called **model parameters**. For simple linear regression, the relationship is characterized as a straight line with slope $\\beta_1$ and y-intercept $\\beta_0$.\n"
      ]
    },
    {
      "cell_type": "code",
      "metadata": {
        "id": "7OG0xPdQxowG"
      },
      "source": [
        "# Train a linear regression model using sklearn\n",
        "from sklearn.linear_model import LinearRegression\n",
        "model_lr = LinearRegression()\n",
        "model_lr.fit(data[['TV']], data[['sales']])"
      ],
      "execution_count": null,
      "outputs": []
    },
    {
      "cell_type": "code",
      "metadata": {
        "id": "p5ug-sihyEH2"
      },
      "source": [
        "# The coef_ and intercept_ attributes contain parameter values\n",
        "print(model_lr.coef_)\n",
        "print(model_lr.intercept_)"
      ],
      "execution_count": null,
      "outputs": []
    },
    {
      "cell_type": "code",
      "metadata": {
        "id": "7TgQXsAnyHT5"
      },
      "source": [
        "# Plot the data points and the optimal regression line.\n",
        "m = model_lr.coef_[0, 0]   # slope\n",
        "b = model_lr.intercept_[0] # y-intercept\n",
        "\n",
        "plt.plot(data['TV'], data['sales'], 'b.')\n",
        "x_coordinates = np.array([0,300])\n",
        "y_coordinates = x_coordinates * m + b\n",
        "plt.plot(x_coordinates, y_coordinates, 'g-')"
      ],
      "execution_count": null,
      "outputs": []
    },
    {
      "cell_type": "markdown",
      "metadata": {
        "id": "PDvJFvT-yME3"
      },
      "source": [
        "## Train A Simple Linear Regression Model\n",
        "\n",
        "- For a given set of model parameters, we need a **cost function** (in some occasions also called **loss function**) that measures how well a given line fits the data.\n",
        "- We also need a **training algorithm** that finds values of parameters so that the line fits the data well (usually \"fitting the data well\" means \"minimizing the cost\").\n",
        "\n",
        "For linear regression:\n",
        "- Cost function: \n",
        "    - Mean squared error (MSE)\n",
        "    - Mean absolute error (MAE)\n",
        "    - Other variants\n",
        "- Training algorithm: \n",
        "    - Normal equation\n",
        "    - Gradient descent"
      ]
    },
    {
      "cell_type": "markdown",
      "metadata": {
        "id": "aWHfwa8xzCh1"
      },
      "source": [
        "## Simple Linear Regression: Cost Function\n",
        "A common choice of cost function is the **mean squared error (MSE) function**. It is defined as\n",
        "$$\\begin{align}\n",
        "MSE(\\beta_0, \\beta_1) =& \n",
        "\\frac{1}{N}\\sum_{i=1}^N (y_i - f(x_i))^2 \\\\\n",
        "=& \\frac{1}{N}\\sum_{i=1}^N\\big(y_i - \\beta_0 - \\beta_1x_i\\big)^2.\n",
        "\\end{align}$$"
      ]
    },
    {
      "cell_type": "markdown",
      "metadata": {
        "id": "GW1mYje6zIm6"
      },
      "source": [
        "To better understand the MSE function, let's calculate the value $MSE(7.03, 0.04)$."
      ]
    },
    {
      "cell_type": "code",
      "metadata": {
        "id": "mO4pOxm4zZ-g"
      },
      "source": [
        "# Example:\n",
        "# Calculate the squared error of the model on the first record.\n",
        "\n",
        "beta0 = 7.03\n",
        "beta1 = 0.04\n",
        "\n",
        "x1 = data.loc[1, 'TV'] # 230.1\n",
        "y1 = data.loc[1, 'sales'] #22.1\n",
        "print(\"x1, y1:\", x1, y1)\n",
        "\n",
        "# Calculate f(x1) = beta0 + beta1 * x1\n",
        "\n",
        "\n",
        "# Calculate the squared error (y1 - f(x1)) ** 2\n",
        "\n",
        "\n",
        "print(\"Squared error:\", squared_error)"
      ],
      "execution_count": null,
      "outputs": []
    },
    {
      "cell_type": "code",
      "metadata": {
        "id": "z1sV3w--0A6i"
      },
      "source": [
        "# Example:\n",
        "# Calculate the squared error of the model on an arbitrary record.\n",
        "\n",
        "beta0 = 7.03\n",
        "beta1 = 0.04\n",
        "\n",
        "i = ??  # index of the record\n",
        "xi = ???\n",
        "yi = ???\n",
        "print(\"x1, y1:\", x1, y1)\n",
        "\n",
        "# Calculate f(xi)\n",
        "\n",
        "\n",
        "# Calculate the squared error (yi - f(xi)) ** 2\n",
        "\n",
        "\n",
        "print(\"Squared error:\", squared_error)"
      ],
      "execution_count": null,
      "outputs": []
    },
    {
      "cell_type": "code",
      "metadata": {
        "id": "zWD4Yuf20Vnn"
      },
      "source": [
        "# Write a function that produces the squared error given beta0, beta1, data, and i\n",
        "def get_squared_error(beta0, beta1, data, i):\n",
        "\n",
        "    pass"
      ],
      "execution_count": null,
      "outputs": []
    },
    {
      "cell_type": "code",
      "metadata": {
        "id": "DO0O9zPd0gto"
      },
      "source": [
        "# Create a list that contains value of (y_1 - f(x_1))^2 for i=1,...,200.\n",
        "list_errors = []\n",
        "for ind in data.index:\n",
        "    # call function `get_sqaured_error` with ind\n",
        "\n",
        "    # append squared error to `list_errors`\n",
        "\n",
        "    pass\n",
        "    \n",
        "print(list_errors)"
      ],
      "execution_count": null,
      "outputs": []
    },
    {
      "cell_type": "code",
      "metadata": {
        "id": "z-CuWXTJ0ymr"
      },
      "source": [
        "# Create list_errors using list comprehension\n",
        "\n"
      ],
      "execution_count": null,
      "outputs": []
    },
    {
      "cell_type": "code",
      "metadata": {
        "id": "jIvs1hdq05Et"
      },
      "source": [
        "# Calculate the MSE\n",
        "\n",
        "print(\"MSE:\", MSE)"
      ],
      "execution_count": null,
      "outputs": []
    },
    {
      "cell_type": "code",
      "metadata": {
        "id": "fjnGTY_809MO"
      },
      "source": [
        "# Write a function MSE(beta0, beta1, data) that returns the value of MSE with given beta0 and beta1.\n",
        "def get_MSE(beta0, beta1, data):\n",
        "\n",
        "    pass"
      ],
      "execution_count": null,
      "outputs": []
    },
    {
      "cell_type": "markdown",
      "metadata": {
        "id": "SGWuXzWK1AAK"
      },
      "source": [
        "Now, use function `get_MSE` to obtain the MSE for the following two sets of parameter values\n",
        "- Case 1: $\\beta_0 = 7.03, \\beta_1 = 0.04$\n",
        "- Case 2: $\\beta_0 = 5, \\beta_1 = 1$\n",
        "\n",
        "Which one fits the data better?"
      ]
    },
    {
      "cell_type": "code",
      "metadata": {
        "id": "-cSOk1Dw1aYm"
      },
      "source": [
        ""
      ],
      "execution_count": null,
      "outputs": []
    },
    {
      "cell_type": "markdown",
      "metadata": {
        "id": "C9nwZT2h1gWZ"
      },
      "source": [
        "Now that we have obtained the cost function, our next goal is to find the parameter values that minimizes the cost value."
      ]
    },
    {
      "cell_type": "markdown",
      "metadata": {
        "id": "CJakGFWK1vIq"
      },
      "source": [
        "# Simple Linear Regression: Training Algorithm\n",
        "To find the value of $\\beta_0, \\beta_1$ that minimizes the MSE cost function, there is a formula called the **normal equation** that gives the result directly:\n",
        "\n",
        "$$\\begin{pmatrix} \\beta_0 \\\\ \\beta_1 \\end{pmatrix} = (\\textbf{X}^T\\cdot\\textbf{X})^{-1}\\cdot\\textbf{X}^T\\cdot\\textbf{y}.$$\n",
        "\n",
        "- $\\textbf{X}$ is the matrix formed as \n",
        "$$\\textbf{X} = \\begin{pmatrix} \n",
        "1 & x_1 \\\\\n",
        "1 & x_2 \\\\\n",
        "\\vdots & \\vdots \\\\\n",
        "1 & x_N \\\\\n",
        "\\end{pmatrix}.$$\n",
        "- $\\textbf{X}$ represents the **matrix transpose** of $\\textbf{X}$.\n",
        "- $\\cdot$ represents **matrix multiplication**.\n",
        "- $^{-1}$ represents **matrix inverse**.\n",
        "- $\\textbf{y}$ is the vector of target values\n",
        "$$\\textbf{y} = \\begin{pmatrix} \n",
        "y_1 \\\\\n",
        "y_2 \\\\\n",
        "\\vdots \\\\\n",
        "y_N \\\\\n",
        "\\end{pmatrix}.$$"
      ]
    },
    {
      "cell_type": "markdown",
      "metadata": {
        "id": "M9LHCexK1wlQ"
      },
      "source": [
        "Let's apply the normal equation and find the best parameter values."
      ]
    },
    {
      "cell_type": "code",
      "metadata": {
        "id": "AWJkxe-31_D1"
      },
      "source": [
        "# Construct X and y as numpy arrays\n",
        "X = np.hstack([np.ones([len(data), 1]), data[['TV']].values])\n",
        "# print(X)\n",
        "y = data[['sales']].values\n",
        "# print(y)\n",
        "\n",
        "beta = np.linalg.inv(X.T.dot(X)).dot(X.T).dot(y)\n",
        "print(beta)"
      ],
      "execution_count": null,
      "outputs": []
    },
    {
      "cell_type": "code",
      "metadata": {
        "id": "qViLTn0d2B1f"
      },
      "source": [
        "get_MSE(7.03, 0.047, data)"
      ],
      "execution_count": null,
      "outputs": []
    },
    {
      "cell_type": "code",
      "metadata": {
        "id": "Pt2Y5UAO2Ddq"
      },
      "source": [
        "# Plot the data points and the optimal regression line.\n",
        "plt.plot(data['TV'], data['sales'], 'b.')\n",
        "x_coordinates = np.array([0,300])\n",
        "y_coordinates = x_coordinates * 0.047 + 7.03\n",
        "plt.plot(x_coordinates, y_coordinates, 'g-')"
      ],
      "execution_count": null,
      "outputs": []
    },
    {
      "cell_type": "code",
      "metadata": {
        "id": "vQaE6kul2Gy7"
      },
      "source": [
        ""
      ],
      "execution_count": null,
      "outputs": []
    }
  ]
}